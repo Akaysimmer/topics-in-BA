{
 "cells": [
  {
   "cell_type": "code",
   "execution_count": 1,
   "metadata": {},
   "outputs": [
    {
     "name": "stdout",
     "output_type": "stream",
     "text": [
      "3.27.2\n"
     ]
    }
   ],
   "source": [
    "import sqlite3\n",
    "\n",
    "# Display SQLite version number\n",
    "print (sqlite3.sqlite_version)"
   ]
  },
  {
   "cell_type": "code",
   "execution_count": null,
   "metadata": {},
   "outputs": [],
   "source": []
  },
  {
   "cell_type": "code",
   "execution_count": 2,
   "metadata": {},
   "outputs": [
    {
     "name": "stdout",
     "output_type": "stream",
     "text": [
      "<class 'sqlite3.Connection'>\n",
      "<class 'sqlite3.Cursor'>\n"
     ]
    }
   ],
   "source": [
    "conn=sqlite3.connect('S:\\\\GroupProject\\\\Group Ecommerce.db')\n",
    "print(type(conn))\n",
    "\n",
    "# The connection object (conn) has access to various methods of the Connection class. \n",
    "# We are using the method cursor() and which returns a cursor object.\n",
    "# The cursor object is essential to perform any operation on the database (CRUD operations).\n",
    "cur=conn.cursor()\n",
    "\n",
    "# The next command is only for display\n",
    "print(type(cur))"
   ]
  },
  {
   "cell_type": "code",
   "execution_count": 3,
   "metadata": {},
   "outputs": [],
   "source": [
    "def tables_in_sqlite_db(conn):\n",
    "    cursor = conn.execute(\"SELECT name FROM sqlite_master WHERE type='table';\")\n",
    "    tables = [\n",
    "        v[0] for v in cursor.fetchall()\n",
    "        if v[0] != \"sqlite_sequence\"\n",
    "    ]\n",
    "    cursor.close()\n",
    "    return tables"
   ]
  },
  {
   "cell_type": "code",
   "execution_count": 4,
   "metadata": {
    "scrolled": true
   },
   "outputs": [
    {
     "name": "stdout",
     "output_type": "stream",
     "text": [
      "['E_WAREHOUSE', 'E_COURIER', 'E_DELIVERYINFO', 'E_ORDER', 'E_ORD_INV', 'E_ORD_DEL', 'E_EMPLOYEE', 'E_CUSTOMER', 'E_BILLINGINFO', 'E_INVENTORY']\n"
     ]
    }
   ],
   "source": [
    "# call the function and pass connection object \n",
    "tables = tables_in_sqlite_db(conn)\n",
    "\n",
    "#print tables in the current database\n",
    "print(tables)"
   ]
  },
  {
   "cell_type": "code",
   "execution_count": 23,
   "metadata": {
    "scrolled": true
   },
   "outputs": [
    {
     "name": "stdout",
     "output_type": "stream",
     "text": [
      "Table dropped... \n"
     ]
    }
   ],
   "source": [
    "cur.execute(\"DROP TABLE EC_INVENTORY\")\n",
    "print(\"Table dropped... \")\n",
    "conn.commit()"
   ]
  },
  {
   "cell_type": "code",
   "execution_count": null,
   "metadata": {},
   "outputs": [],
   "source": []
  },
  {
   "cell_type": "code",
   "execution_count": null,
   "metadata": {},
   "outputs": [],
   "source": []
  },
  {
   "cell_type": "code",
   "execution_count": null,
   "metadata": {},
   "outputs": [],
   "source": [
    "\n",
    "        \n",
    "        \n",
    "       "
   ]
  },
  {
   "cell_type": "code",
   "execution_count": null,
   "metadata": {},
   "outputs": [],
   "source": []
  },
  {
   "cell_type": "code",
   "execution_count": 6,
   "metadata": {},
   "outputs": [
    {
     "name": "stdout",
     "output_type": "stream",
     "text": [
      "Table created successfully\n"
     ]
    }
   ],
   "source": [
    "qry='''\n",
    "CREATE TABLE E_WAREHOUSE (\n",
    "storeID INTEGER PRIMARY KEY,\n",
    "storeName TEXT (30) NOT NULL,\n",
    "storeAddress TEXT (40) NOT NULL,\n",
    "storePhone INTEGER NOT NULL\n",
    ");\n",
    "'''\n",
    "try:\n",
    "        cur.execute(qry)\n",
    "        print ('Table created successfully')\n",
    "except:\n",
    "# If table already exists then use the SQLite console to connect to the database (BEMM459.db) and then use the drop table command.\n",
    "# .. Altenatively, use the SQLiteStudio GUI to delete table ECC_DEPARTMENT and execute this code block again.\n",
    "        print ('Error in creating table')"
   ]
  },
  {
   "cell_type": "code",
   "execution_count": null,
   "metadata": {},
   "outputs": [],
   "source": []
  },
  {
   "cell_type": "code",
   "execution_count": 20,
   "metadata": {},
   "outputs": [
    {
     "name": "stdout",
     "output_type": "stream",
     "text": [
      "Table created successfully\n"
     ]
    }
   ],
   "source": [
    "qry='''\n",
    "CREATE TABLE E_INVENTORY (\n",
    "invID INTEGER PRIMARY KEY,\n",
    "invName TEXT (30) NOT NULL,\n",
    "invBrand TEXT (40),\n",
    "invColour TEXT (40),\n",
    "invSize INTEGER NOT NULL,\n",
    "invQuantity INTEGER NOT NULL,\n",
    "invPackaging TEXT (40),\n",
    "invPrice INTEGER NOT NULL,\n",
    "storeID INTEGER NOT NULL,\n",
    "FOREIGN KEY (storeID) REFERENCES E_WAREHOUSE (storeID) ON UPDATE CASCADE ON DELETE SET NULL\n",
    ");\n",
    "'''\n",
    "try:\n",
    "        cur.execute(qry)\n",
    "        print ('Table created successfully')\n",
    "except:\n",
    "# If table already exists then use the SQLite console to connect to the database (BEMM459.db) and then use the drop table command.\n",
    "# .. Altenatively, use the SQLiteStudio GUI to delete table ECC_DEPARTMENT and execute this code block again.\n",
    "        print ('Error in creating table')"
   ]
  },
  {
   "cell_type": "code",
   "execution_count": null,
   "metadata": {},
   "outputs": [],
   "source": []
  },
  {
   "cell_type": "code",
   "execution_count": 24,
   "metadata": {},
   "outputs": [
    {
     "name": "stdout",
     "output_type": "stream",
     "text": [
      "Table created successfully\n"
     ]
    }
   ],
   "source": [
    "qry='''\n",
    "CREATE TABLE E_ORDER (\n",
    "orderID INTEGER PRIMARY KEY,\n",
    "orderDate TEXT NOT NULL,\n",
    "orderDiscInfo INTEGER,\n",
    "orderComment TEXT (50),\n",
    "orderStatus TEXT (50),\n",
    "delID INTEGER NOT NULL,\n",
    "FOREIGN KEY (delID) REFERENCES E_DELIVERYINFO (delID) ON UPDATE CASCADE ON DELETE SET NULL\n",
    ");\n",
    "'''\n",
    "try:\n",
    "        cur.execute(qry)\n",
    "        print ('Table created successfully')\n",
    "except:\n",
    "# If table already exists then use the SQLite console to connect to the database (BEMM459.db) and then use the drop table command.\n",
    "# .. Altenatively, use the SQLiteStudio GUI to delete table ECC_DEPARTMENT and execute this code block again.\n",
    "        print ('Error in creating table')"
   ]
  },
  {
   "cell_type": "code",
   "execution_count": null,
   "metadata": {},
   "outputs": [],
   "source": []
  },
  {
   "cell_type": "code",
   "execution_count": 33,
   "metadata": {},
   "outputs": [
    {
     "name": "stdout",
     "output_type": "stream",
     "text": [
      "Table created successfully\n"
     ]
    }
   ],
   "source": [
    "qry='''\n",
    "CREATE TABLE E_ORD_INV (\n",
    "orderID INTEGER NOT NULL,\n",
    "invID INTEGER NOT NULL,\n",
    "PRIMARY KEY (orderID, invID),\n",
    "FOREIGN KEY (invID) REFERENCES E_INVENTORY (invID) ON UPDATE CASCADE ON DELETE SET NULL,\n",
    "FOREIGN KEY (orderID) REFERENCES E_ORDER (orderID) ON UPDATE CASCADE ON DELETE SET NULL\n",
    ");\n",
    "'''\n",
    "try:\n",
    "        cur.execute(qry)\n",
    "        print ('Table created successfully')\n",
    "except:\n",
    "# If table already exists then use the SQLite console to connect to the database (BEMM459.db) and then use the drop table command.\n",
    "# .. Altenatively, use the SQLiteStudio GUI to delete table ECC_DEPARTMENT and execute this code block again.\n",
    "        print ('Error in creating table')"
   ]
  },
  {
   "cell_type": "code",
   "execution_count": null,
   "metadata": {},
   "outputs": [],
   "source": []
  },
  {
   "cell_type": "code",
   "execution_count": 13,
   "metadata": {
    "scrolled": true
   },
   "outputs": [
    {
     "name": "stdout",
     "output_type": "stream",
     "text": [
      "Table created successfully\n"
     ]
    }
   ],
   "source": [
    "qry='''\n",
    "CREATE TABLE E_CUSTOMER (\n",
    "custID INTEGER PRIMARY KEY,\n",
    "custName TEXT (40) NOT NULL,\n",
    "custAddress TEXT (40) NOT NULL,\n",
    "custEmail TEXT (40) NOT NULL,\n",
    "custPhone INTEGER,\n",
    "billingID INTEGER NOT NULL,\n",
    "FOREIGN KEY (billingID) REFERENCES E_BILLINGINFO (billingID) ON UPDATE CASCADE ON DELETE SET NULL\n",
    ");\n",
    "'''\n",
    "try:\n",
    "        cur.execute(qry)\n",
    "        print ('Table created successfully')\n",
    "except:\n",
    "# If table already exists then use the SQLite console to connect to the database (BEMM459.db) and then use the drop table command.\n",
    "# .. Altenatively, use the SQLiteStudio GUI to delete table ECC_DEPARTMENT and execute this code block again.\n",
    "        print ('Error in creating table')"
   ]
  },
  {
   "cell_type": "code",
   "execution_count": 17,
   "metadata": {},
   "outputs": [
    {
     "name": "stdout",
     "output_type": "stream",
     "text": [
      "Table created successfully\n"
     ]
    }
   ],
   "source": [
    "qry='''\n",
    "CREATE TABLE E_DELIVERYINFO (\n",
    "delID INTEGER PRIMARY KEY,\n",
    "custID INTEGER,\n",
    "courierID INTEGER,\n",
    "FOREIGN KEY (custID) REFERENCES E_CUSTOMER (custID) ON UPDATE CASCADE ON DELETE SET NULL,\n",
    "FOREIGN KEY (courierID) REFERENCES E_COURIER (courierID) ON UPDATE CASCADE ON DELETE SET NULL\n",
    ");\n",
    "'''\n",
    "try:\n",
    "        cur.execute(qry)\n",
    "        print ('Table created successfully')\n",
    "except:\n",
    "# If table already exists then use the SQLite console to connect to the database (BEMM459.db) and then use the drop table command.\n",
    "# .. Altenatively, use the SQLiteStudio GUI to delete table ECC_DEPARTMENT and execute this code block again.\n",
    "        print ('Error in creating table')"
   ]
  },
  {
   "cell_type": "code",
   "execution_count": 45,
   "metadata": {},
   "outputs": [
    {
     "name": "stdout",
     "output_type": "stream",
     "text": [
      "Table created successfully\n"
     ]
    }
   ],
   "source": [
    "qry='''\n",
    "CREATE TABLE E_ORD_DEL (\n",
    "orderID INTEGER NOT NULL,\n",
    "delID INTEGER NOT NULL,\n",
    "PRIMARY KEY (orderID, delID),\n",
    "FOREIGN KEY (delID) REFERENCES E_DELIVERYINFO (delID) ON UPDATE CASCADE ON DELETE SET NULL,\n",
    "FOREIGN KEY (orderID) REFERENCES E_ORDER (orderID) ON UPDATE CASCADE ON DELETE SET NULL\n",
    ");\n",
    "'''\n",
    "try:\n",
    "        cur.execute(qry)\n",
    "        print ('Table created successfully')\n",
    "except:\n",
    "# If table already exists then use the SQLite console to connect to the database (BEMM459.db) and then use the drop table command.\n",
    "# .. Altenatively, use the SQLiteStudio GUI to delete table ECC_DEPARTMENT and execute this code block again.\n",
    "        print ('Error in creating table')"
   ]
  },
  {
   "cell_type": "code",
   "execution_count": 50,
   "metadata": {},
   "outputs": [
    {
     "name": "stdout",
     "output_type": "stream",
     "text": [
      "Table created successfully\n"
     ]
    }
   ],
   "source": [
    "qry='''\n",
    "CREATE TABLE E_EMPLOYEE (\n",
    "employeeID INTEGER PRIMARY KEY,\n",
    "employeeFirstName TEXT (30),\n",
    "employeeLastName TEXT (30),\n",
    "employeeDOB TEXT (20) NOT NULL, \n",
    "employeeType INTEGER NOT NULL, \n",
    "employeeEmail TEXT (30), \n",
    "employeeSalary INTEGER NOT NULL, \n",
    "employeeHireDate TEXT (20) NOT NULL, \n",
    "storeID INTEGER NOT NULL,\n",
    "FOREIGN KEY (storeID) REFERENCES E_WAREHOUSE (storeID) ON UPDATE CASCADE ON DELETE SET NULL\n",
    ");\n",
    "'''\n",
    "try:\n",
    "        cur.execute(qry)\n",
    "        print ('Table created successfully')\n",
    "except:\n",
    "# If table already exists then use the SQLite console to connect to the database (groupproject3.db) and then use the drop table command.\n",
    "# .. Altenatively, use the SQLiteStudio GUI to delete table ECC_DEPARTMENT and execute this code block again.\n",
    "        print ('Error in creating table')"
   ]
  },
  {
   "cell_type": "code",
   "execution_count": 65,
   "metadata": {},
   "outputs": [
    {
     "name": "stdout",
     "output_type": "stream",
     "text": [
      "Error in creating table\n"
     ]
    }
   ],
   "source": [
    "qry='''\n",
    "CREATE TABLE E_BILLINGINFO (\n",
    "billingID INTEGER PRIMARY KEY,\n",
    "billingName TEXT (40) NOT NULL,\n",
    "billingAddress TEXT (60) NOT NULL, \n",
    "billingTransaction TEXT (30) NOT NULL, \n",
    "billingDate TEXT (30)\n",
    ");\n",
    "'''\n",
    "try:\n",
    "        cur.execute(qry)\n",
    "        print ('Table created successfully')\n",
    "except:\n",
    "# If table already exists then use the SQLite console to connect to the database (groupproject3.db) and then use the drop table command.\n",
    "# .. Altenatively, use the SQLiteStudio GUI to delete table ECC_DEPARTMENT and execute this code block again.\n",
    "        print ('Error in creating table')"
   ]
  },
  {
   "cell_type": "code",
   "execution_count": 16,
   "metadata": {},
   "outputs": [
    {
     "name": "stdout",
     "output_type": "stream",
     "text": [
      "Table created successfully\n"
     ]
    }
   ],
   "source": [
    "qry='''\n",
    "CREATE TABLE E_COURIER (\n",
    "courierID INTEGER PRIMARY KEY,\n",
    "courierName TEXT (50) NOT NULL,\n",
    "courierPhone INTEGER NOT NULL, \n",
    "courierEmail TEXT (30) NOT NULL \n",
    ");\n",
    "'''\n",
    "try:\n",
    "        cur.execute(qry)\n",
    "        print ('Table created successfully')\n",
    "except:\n",
    "# If table already exists then use the SQLite console to connect to the database (groupproject3.db) and then use the drop table command.\n",
    "# .. Altenatively, use the SQLiteStudio GUI to delete table ECC_DEPARTMENT and execute this code block again.\n",
    "        print ('Error in creating table')"
   ]
  },
  {
   "cell_type": "code",
   "execution_count": null,
   "metadata": {},
   "outputs": [],
   "source": []
  },
  {
   "cell_type": "code",
   "execution_count": 8,
   "metadata": {},
   "outputs": [
    {
     "name": "stdout",
     "output_type": "stream",
     "text": [
      "One record inserted successfully..commit\n"
     ]
    }
   ],
   "source": [
    "qry=\"insert into E_WAREHOUSE values (001, 'Hoodies Ecommerce', 'Stocker Road, Exeter, EX4 4PY', 01392661000);\"\n",
    "\n",
    "try:\n",
    "        cur.execute(qry)\n",
    "        conn.commit()\n",
    "        print ('One record inserted successfully..commit')\n",
    "except:\n",
    "        print ('Error in insert operation..rollback')\n",
    "        conn.rollback()\n",
    "        print(conn)\n"
   ]
  },
  {
   "cell_type": "code",
   "execution_count": 32,
   "metadata": {},
   "outputs": [
    {
     "name": "stdout",
     "output_type": "stream",
     "text": [
      "Records inserted successfully..committed\n"
     ]
    }
   ],
   "source": [
    "# Insert multiple records in table E_EMPLOYEE\n",
    "\n",
    "qry=\"insert into E_EMPLOYEE (employeeID, employeeFirstName, employeeLastName, employeeDOB, employeeType, employeeEmail, employeeSalary, employeeHireDate, storeID) values (?,?,?,?,?,?,?,?,?);\"\n",
    "valuesemployee=[(2, 'Ava', 'Green', '03.04.1995', 'Warehouse Staff', 'Ava2@hoodiesecommerce.com', 19500, '07.01.22',1),\n",
    "(3, 'Isabella', 'James', '07.11.1992', 'Warehouse Staff', 'Isabella3@hoodiesecommerce.com', 21500, '08.04.21',1),\n",
    "(4, 'Sophia', 'Jones', '08.04.1978', 'Warehouse Staff', 'Sophia4@hoodiesecommerce.com', 26000, '02.04.21',1),\n",
    "(5, 'Alice', 'Jones', '04.12.1984', 'Warehouse Staff', 'Alice5@hoodiesecommerce.com', 21500, '09.05.21',1),\n",
    "(6, 'Isla', 'Campbell', '04.05.1991', 'Warehouse Staff', 'Isla6@hoodiesecommerce.com', 21500, '08.09.21',1)]\n",
    "\n",
    "try:\n",
    "        cur.executemany(qry, valuesemployee)\n",
    "        conn.commit()\n",
    "        print ('Records inserted successfully..committed')\n",
    "except:\n",
    "        print ('Error in insert operation..rollback')\n",
    "        conn.rollback()"
   ]
  },
  {
   "cell_type": "code",
   "execution_count": 34,
   "metadata": {},
   "outputs": [
    {
     "name": "stdout",
     "output_type": "stream",
     "text": [
      "Records inserted successfully..committed\n"
     ]
    }
   ],
   "source": [
    "# Insert multiple records in table E_EMPLOYEE\n",
    "\n",
    "qry=\"insert into E_EMPLOYEE (employeeID, employeeFirstName, employeeLastName, employeeDOB, employeeType, employeeEmail, employeeSalary, employeeHireDate, storeID) values (?,?,?,?,?,?,?,?,?);\"\n",
    "valuesemployees=[(7, 'Ruby', 'Mitchell', '03.07.1994', 'Warehouse Staff', 'Ruby7@hoodiesecommerce.com', 26000, '02.04.21',1),\n",
    "(8, 'James', 'Ross', '12.12.1973', 'Warehouse Staff', 'James8@hoodiesecommerce.com', 24000, '02.04.21',1),\n",
    "(9, 'Henry', 'Clark', '14.10.1981', 'Manager', 'Henry9@hoodiesecommerce.com', 75000, '02.04.21',1),\n",
    "(10, 'Oliver', 'Clarke', '13.12.1996', 'Warehouse Staff', 'Oliver10@hoodiesecommerce.com', 26000, '02.04.21',1),\n",
    "(11, 'Ben', 'Smith', '23.03.1995', 'Warehouse Staff', 'Ben11@hoodiesecommerce.com', 19500, '07.01.22',1),\n",
    "(12, 'Jack', 'Johnson', '14.02.1994', 'Warehouse Staff', 'Jack12@hoodiesecommerce.com', 26000, '02.04.21',1),\n",
    "(13, 'Liam', 'Scott',  '17.09.1992', 'Warehouse Staff', 'Liam13@hoodiesecommerce.com', 21500, '11.11.21',1),\n",
    "(14, 'Simon', 'Walker', '11.05.1977', 'Warehouse Staff', 'Simon14@hoodiesecommerce.com', 24000, '18.04.21',1),\n",
    "(15, 'Noah', 'Young', '02.07.1988', 'Warehouse Staff', 'Noah15@hoodiesecommerce.com', 21500, '05.10.21',1),\n",
    "(16, 'Logan', 'Pearson', '06.08.1984', 'Warehouse Staff', 'Logan16@hoodiesecommerce.com', 24000, '16.12.21',1),\n",
    "(17, 'Charlie', 'Green', '31.03.1995', 'Warehouse Staff', 'Charlier17@hoodiesecommerce.com', 26000, '02.04.21',1),\n",
    "(18, 'Joshua', 'Richardson', '24.02.1988', 'Warehouse Staff', 'Joshua18@hoodiesecommerce.com', 26000, '02.04.21',1),\n",
    "(19, 'Grace', 'Mackay', '27.03.1987', 'Warehouse Staff', 'Grace19@hoodiesecommerce.com', 24000, '03.11.21' ,1),\n",
    "(20, 'Svenja', 'Gordan', '15.04.1998', 'Warehouse Staff', 'Svenja20@hoodiesecommerce.com', 19500, '07.01.22',1),\n",
    "(21, 'Maya', 'Black', '16.12.1994', 'Warehouse Staff', 'Maya21@hoodiesecommerce.com', 21500, '12.06.21',1),\n",
    "(22, 'Freya', 'Brown', '17.10.1980', 'Warehouse Staff', 'Freya22@hoodiesecommerce.com', 26000, '02.04.21',1),\n",
    "(23, 'Jennifer', 'Nicholson', '04.06.1979', 'Warehouse Staff', 'Jennifer23@hoodiesecommerce.com', 21500, '25.11.21' ,1),\n",
    "(24, 'Michael', 'Davenport', '27.04.1988', 'Warehouse Staff', 'Michale24@hoodiesecommerce.com', 24000, '13.04.21',1),\n",
    "(25, 'Richard', 'James', '28.04.1992', 'Warehouse Staff', 'Richard25@hoodiesecommerce.com', 24000, '17.07.21',1),\n",
    "(26, 'Daniel',  'Henderson', '30.07.1974', 'Warehouse Staff', 'Daniel26@hoodiesecommerce.com', 26000, '02.04.21',1),\n",
    "(27, 'Steven', 'Crawford', '29.02.2000', 'Warehouse Staff', 'Steven27@hoodiesecommerce.com', 24000, '05.08.21',1),\n",
    "(28, 'Sally', 'Duncan', '01.01.1990', 'Warehouse Staff', 'Sally28@hoodiesecommerce.com', 26000, '02.04.21',1),\n",
    "(29, 'George', 'Hill', '05.08.1994', 'Warehouse Staff', 'George29@hoodiesecommerce.com', 19500, '07.01.22',1),\n",
    "(30, 'Sven', 'King', '13.11.1997', 'Warehouse Staff', 'Sven30@hoodiesecommerce.com', 26000, '02.04.21',1),\n",
    "]\n",
    "\n",
    "try:\n",
    "        cur.executemany(qry, valuesemployees)\n",
    "        conn.commit()\n",
    "        print ('Records inserted successfully..committed')\n",
    "except:\n",
    "        print ('Error in insert operation..rollback')\n",
    "        conn.rollback()"
   ]
  },
  {
   "cell_type": "code",
   "execution_count": 19,
   "metadata": {},
   "outputs": [
    {
     "name": "stdout",
     "output_type": "stream",
     "text": [
      "One record inserted successfully..commit\n"
     ]
    }
   ],
   "source": [
    "qry=\"insert into  E_EMPLOYEE values (1,'Olivia', 'Brown', '01.02.1997', 'Warehouse Staff',  'Olivia1@hoodiesecommerce.com', 26000, '02.04.21',1);\"\n",
    "\n",
    "try:\n",
    "        cur.execute(qry)\n",
    "        conn.commit()\n",
    "        print ('One record inserted successfully..commit')\n",
    "except:\n",
    "        print ('Error in insert operation..rollback')\n",
    "        conn.rollback()\n",
    "        print(conn)"
   ]
  },
  {
   "cell_type": "code",
   "execution_count": null,
   "metadata": {},
   "outputs": [],
   "source": []
  },
  {
   "cell_type": "code",
   "execution_count": null,
   "metadata": {},
   "outputs": [],
   "source": []
  },
  {
   "cell_type": "code",
   "execution_count": 21,
   "metadata": {},
   "outputs": [
    {
     "name": "stdout",
     "output_type": "stream",
     "text": [
      "Records inserted successfully..committed\n"
     ]
    }
   ],
   "source": [
    "# Insert multiple records in table E_INVENTORY\n",
    "\n",
    "qry=\"insert into E_INVENTORY (invID, invName, invBrand, invColour, invSize, invQuantity, invPackaging,invPrice, storeID) values (?,?,?,?,?,?,?,?,?);\"\n",
    "valuesinventory=[(1, 'Navy Blue Hoodie','Munti', 'navy blue', 32, 1000, 'Recyclable Paper',10,1),\n",
    "(2, 'Grey Hoodie', 'Munti', 'grey', 32,1000,'Recyclable Paper',10,1),\n",
    "(3, 'Red Hoodie', 'Munti', 'red', 32,1000, 'Recyclable Paper',12,1),\n",
    "(4, 'Olive Hoodie', 'Munti', 'olive', 32,1000, 'Recylable Paper',14,1),\n",
    "(5, 'Pink Hoodie', 'Munti', 'pink', 32,1000, 'Recylable Paper',12,1),\n",
    "(6, 'Purple Hoodie', 'Munti', 'purple', 32,1000, 'Recylable Paper',12,1),\n",
    "(7, 'Black Hoodie', 'Munti', 'black', 32,1000, 'Recylable Paper',10,1),\n",
    "(8, 'Burgundy Hoodie', 'Munti', 'burgundy', 32,1000, 'Recylable Paper',12,1),\n",
    "(9, 'Navy Blue Hoodie','Munti', 'navy blue', 34, 1000, 'Recyclable Paper',10,1),\n",
    "(10, 'Grey Hoodie', 'Munti', 'grey', 34,1000,'Recyclable Paper',10,1),\n",
    "(11, 'Red Hoodie', 'Munti', 'red', 34,1000, 'Recyclable Paper',12,1),\n",
    "(12, 'Olive Hoodie', 'Munti', 'olive', 34,1000, 'Recylable Paper',14,1),\n",
    "(13, 'Pink Hoodie', 'Munti', 'pink', 34,1000, 'Recylable Paper',12,1),\n",
    "(14, 'Purple Hoodie', 'Munti', 'purple', 34,1000, 'Recylable Paper',12,1),\n",
    "(15, 'Black Hoodie', 'Munti', 'black', 34,1000, 'Recylable Paper',10,1),\n",
    "(16, 'Burgundy Hoodie', 'Munti', 'burgundy', 34,1000, 'Recylable Paper',12,1),\n",
    "(17, 'Navy Blue Hoodie','Munti', 'navy blue', 36, 1000, 'Recyclable Paper',10,1),\n",
    "(18, 'Grey Hoodie', 'Munti', 'grey', 36,1000,'Recyclable Paper',10,1),\n",
    "(19, 'Red Hoodie', 'Munti', 'red', 36,1000, 'Recyclable Paper',12,1),\n",
    "(20, 'Olive Hoodie', 'Munti', 'olive', 36,1000, 'Recylable Paper',14,1),\n",
    "(21, 'Pink Hoodie', 'Munti', 'pink', 36,1000, 'Recylable Paper',12,1),\n",
    "(22, 'Purple Hoodie', 'Munti', 'purple', 36,1000, 'Recylable Paper',12,1),\n",
    "(23, 'Black Hoodie', 'Munti', 'black', 36,1000, 'Recylable Paper',10,1),\n",
    "(24, 'Burgundy Hoodie', 'Munti', 'burgundy', 36,1000, 'Recylable Paper',12,1),\n",
    "(25, 'Navy Blue Hoodie','Munti', 'navy blue', 38, 1000, 'Recyclable Paper',10,1),\n",
    "(26, 'Grey Hoodie', 'Munti', 'grey', 38,1000,'Recyclable Paper',10,1),\n",
    "(27, 'Red Hoodie', 'Munti', 'red', 38,1000, 'Recyclable Paper',12,1),\n",
    "(28, 'Olive Hoodie', 'Munti', 'olive', 38,1000, 'Recylable Paper',14,1),\n",
    "(29, 'Pink Hoodie', 'Munti', 'pink', 38,1000, 'Recylable Paper',12,1),\n",
    "(30, 'Purple Hoodie', 'Munti', 'purple', 38,1000, 'Recylable Paper',12,1),\n",
    "(31, 'Black Hoodie', 'Munti', 'black', 38,1000, 'Recylable Paper',10,1),\n",
    "(32, 'Burgundy Hoodie', 'Munti', 'burgundy', 38,1000, 'Recylable Paper',12,1),\n",
    "(33, 'Navy Blue Hoodie','Munti', 'navy blue', 40, 1000, 'Recyclable Paper',10,1),\n",
    "(34, 'Grey Hoodie', 'Munti', 'grey', 40,1000,'Recyclable Paper',10,1),\n",
    "(35, 'Red Hoodie', 'Munti', 'red', 40,1000, 'Recyclable Paper',12,1),\n",
    "(36, 'Olive Hoodie', 'Munti', 'olive', 40,1000, 'Recylable Paper',14,1),\n",
    "(37, 'Pink Hoodie', 'Munti', 'pink', 40,1000, 'Recylable Paper',12,1),\n",
    "(38, 'Purple Hoodie', 'Munti', 'purple', 40,1000, 'Recylable Paper',12,1),\n",
    "(39, 'Black Hoodie', 'Munti', 'black', 40,1000, 'Recylable Paper',10,1),\n",
    "(40, 'Burgundy Hoodie', 'Munti', 'burgundy', 40,1000, 'Recylable Paper',12,1),\n",
    "(41, 'Navy Blue Hoodie','Munti', 'navy blue', 42, 1000, 'Recyclable Paper',10,1),\n",
    "(42, 'Grey Hoodie', 'Munti', 'grey', 42,1000,'Recyclable Paper',10,1),\n",
    "(43, 'Red Hoodie', 'Munti', 'red', 42,1000, 'Recyclable Paper',12,1),\n",
    "(44, 'Olive Hoodie', 'Munti', 'olive', 42,1000, 'Recylable Paper',14,1),\n",
    "(45, 'Pink Hoodie', 'Munti', 'pink', 42,1000, 'Recylable Paper',12,1),\n",
    "(46, 'Purple Hoodie', 'Munti', 'purple', 42,1000, 'Recylable Paper',12,1),\n",
    "(47, 'Black Hoodie', 'Munti', 'black', 42,1000, 'Recylable Paper',10,1),\n",
    "(48, 'Burgundy Hoodie', 'Munti', 'burgundy', 42,1000, 'Recylable Paper',12,1),\n",
    "(49, 'Navy Blue Hoodie','Munti', 'navy blue', 44, 1000, 'Recyclable Paper',10,1),\n",
    "(50, 'Grey Hoodie', 'Munti', 'grey', 44,1000,'Recyclable Paper',10,1),\n",
    "(51, 'Red Hoodie', 'Munti', 'red', 44,1000, 'Recyclable Paper',12,1),\n",
    "(52, 'Olive Hoodie', 'Munti', 'olive', 44,1000, 'Recylable Paper',14,1),\n",
    "(53, 'Pink Hoodie', 'Munti', 'pink', 44,1000, 'Recylable Paper',12,1),\n",
    "(54, 'Purple Hoodie', 'Munti', 'purple', 44,1000, 'Recylable Paper',12,1),\n",
    "(55, 'Black Hoodie', 'Munti', 'black', 44,1000, 'Recylable Paper',10,1),\n",
    "(56, 'Burgundy Hoodie', 'Munti', 'burgundy', 44,1000, 'Recylable Paper',12,1)]\n",
    "\n",
    "try:\n",
    "        cur.executemany(qry, valuesinventory)\n",
    "        conn.commit()\n",
    "        print ('Records inserted successfully..committed')\n",
    "except:\n",
    "        print ('Error in insert operation..rollback')\n",
    "        conn.rollback()"
   ]
  },
  {
   "cell_type": "code",
   "execution_count": null,
   "metadata": {},
   "outputs": [],
   "source": []
  },
  {
   "cell_type": "code",
   "execution_count": 46,
   "metadata": {},
   "outputs": [
    {
     "name": "stdout",
     "output_type": "stream",
     "text": [
      "Records inserted successfully..committed\n"
     ]
    }
   ],
   "source": [
    "# Insert multiple records in table E_ORDER\n",
    "\n",
    "qry=\"insert into E_ORDER (orderID, orderDate, orderDiscInfo, orderComment, orderStatus, delID) values (?,?,?,?,?,?);\"\n",
    "valuesorder=[(1,'02.01.2022',0.1,'example comment', 'dispatched', 10001),\n",
    "(2,'02.01.2022',0.2,'example comment', 'dispatched',10002),\n",
    "(3,'02.01.2022',0.05,'example comment', 'dispatched',10003),\n",
    "(4,'03.01.2022',0.0,'example comment', 'dispatched',10004),\n",
    "(5,'03.01.2022',0.0,'example comment', 'dispatched',10005),\n",
    "(6,'04.01.2022',0.0,'example comment', 'dispatched',10006),\n",
    "(7,'05.01.2022',0.1,'example comment', 'dispatched',10007),\n",
    "(8,'06.01.2022',0.05,'example comment', 'dispatched',10008),\n",
    "(9,'07.01.2022',0.0,'example comment', 'dispatched',10009),\n",
    "(10,'07.01.2022',0.0,'example comment', 'dispatched',10010),\n",
    "(11,'07.01.2022',0.0,'example comment', 'dispatched',10011),\n",
    "(12,'08.01.2022',0.05,'example comment', 'dispatched',10012),\n",
    "(13,'08.01.2022',0.05,'example comment', 'dispatched',10013),\n",
    "(14,'09.01.2022',0.05,'example comment', 'dispatched',10014),\n",
    "(15,'10.01.2022',0.05,'example comment', 'dispatched',10015),\n",
    "(16,'10.01.2022',0.05,'example comment', 'dispatched',10016),\n",
    "(17,'10.01.2022',0.05,'example comment', 'dispatched',10017),\n",
    "(18,'10.01.2022',0.05,'example comment', 'dispatched',10018),\n",
    "(19,'11.01.2022',0.0,'example comment', 'dispatched',10019),\n",
    "(20,'12.01.2022',0.1,'example comment', 'dispatched',10020),\n",
    "(21,'13.01.2022',0.05,'example comment', 'dispatched',10021),\n",
    "(22,'14.01.2022',0.0,'example comment', 'dispatched',10022),\n",
    "(23,'15.01.2022',0.0,'example comment', 'dispatched',10023),\n",
    "(24,'16.01.2022',0.05,'example comment', 'dispatched',10024),\n",
    "(25,'16.01.2022',0.05,'example comment', 'dispatched',10025),\n",
    "(26,'17.01.2022',0.05,'example comment', 'dispatched',10026),\n",
    "(27,'17.01.2022',0.05,'example comment', 'dispatched',10027),\n",
    "(28,'17.01.2022',0.05,'example comment', 'dispatched',10028),\n",
    "(29,'18.01.2022',0.05,'example comment', 'dispatched',10029),\n",
    "(30,'19.01.2022',0.1,'example comment', 'dispatched',10030),\n",
    "(31,'20.01.2022',0.0,'example comment', 'dispatched',10031),\n",
    "(32,'21.01.2022',0.05,'example comment', 'dispatched',10032),\n",
    "(33,'22.01.2022',0.05,'example comment', 'processed',10033),\n",
    "(34,'23.01.2022',0.05,'example comment', 'processed',10034),\n",
    "(35,'24.01.2022',0.05,'example comment', 'processed',10035),\n",
    "(36,'25.01.2022',0.1,'example comment', 'processed',10036),\n",
    "(37,'25.01.2022',0.05,'example comment', 'processed',10037),\n",
    "(38,'26.01.2022',0.0,'example comment', 'processed',10038),\n",
    "(39,'26.01.2022',0.0,'example comment', 'processed',10039),\n",
    "(40,'27.01.2022',0.0,'example comment', 'processed',10040),\n",
    "(41,'28.01.2022',0.05,'example comment', 'processed',10041),\n",
    "(42,'29.01.2022',0.05,'example comment', 'processed',10042),\n",
    "(43,'30.01.2022',0.0,'example comment', 'processed',10043),\n",
    "(44,'31.01.2022',0.0,'example comment', 'processed',10044),\n",
    "(45,'01.02.2022',0.05,'example comment', 'processed',10045),\n",
    "(46,'02.02.2022',0.05,'example comment', 'processed',10046),\n",
    "(47,'02.02.2022',0.05,'example comment', 'processed',10047),\n",
    "(48,'03.02.2022',0.05,'example comment', 'processed',10048),\n",
    "(49,'03.02.2022',0.05,'example comment', 'processed',10049),\n",
    "(50,'04.02.2022',0.05,'example comment', 'processed',10050),\n",
    "(51,'05.02.2022',0.1,'example comment', 'processed',10051),\n",
    "(52,'06.02.2022',0.05,'example comment', 'processed',10052),\n",
    "(53,'06.02.2022',0.0,'example comment', 'processed',10053),\n",
    "(54,'06.02.2022',0.05,'example comment', 'processed',10054),\n",
    "(55,'07.02.2022',0.05,'example comment', 'processed',10055),\n",
    "(56,'08.02.2022',0.05,'example comment', 'processed',10056),\n",
    "(57,'09.02.2022',0.05,'example comment', 'processed',10057),\n",
    "(58,'09.02.2022',0.0,'example comment', 'processed',10058),\n",
    "(59,'10.02.2022',0.05,'example comment', 'processed',10059),\n",
    "(60,'10.02.2022',0.05,'example comment', 'processed',10060),\n",
    "(61,'11.02.2022',0.05,'example comment', 'received', 10060),\n",
    "(62,'12.02.2022',0.0,'example comment', 'received', 10059),\n",
    "(63,'12.02.2022',0.05,'example comment', 'received', 10052),\n",
    "(64,'13.02.2022',0.05,'example comment', 'received', 10053),\n",
    "(65,'14.02.2022',0.0,'example comment', 'received', 10055),\n",
    "(66,'15.02.2022',0.05,'example comment', 'received', 10060),\n",
    "(67,'16.02.2022',0.05,'example comment', 'received', 10052),\n",
    "(68,'16.02.2022',0.0,'example comment', 'received', 10056),\n",
    "(69,'17.02.2022',0.05,'example comment', 'received',10057),\n",
    "(70,'17.02.2022',0.05,'example comment', 'received', 10060)\n",
    "]\n",
    "\n",
    "try:\n",
    "        cur.executemany(qry, valuesorder)\n",
    "        conn.commit()\n",
    "        print ('Records inserted successfully..committed')\n",
    "except:\n",
    "        print ('Error in insert operation..rollback')\n",
    "        conn.rollback()"
   ]
  },
  {
   "cell_type": "code",
   "execution_count": 45,
   "metadata": {},
   "outputs": [
    {
     "name": "stdout",
     "output_type": "stream",
     "text": [
      "Records inserted successfully..committed\n"
     ]
    }
   ],
   "source": [
    "# Insert multiple records in table E_DELIVERYINFO\n",
    "\n",
    "qry=\"insert into E_DELIVERYINFO (delID, custID, courierID) values (?,?,?);\"\n",
    "valuesdelivery=[(10001, 1000, 1),\n",
    "(10002, 3000, 1),\n",
    "(10003, 2000, 2),\n",
    "(10004, 4000, 1),\n",
    "(10005, 5000, 1),\n",
    "(10006, 6000, 2),\n",
    "(10007, 7000, 2),\n",
    "(10008, 8000, 2),\n",
    "(10009, 10000, 1),\n",
    "(10010, 9000, 2),\n",
    "(10011, 11000, 2),\n",
    "(10012, 12000, 2),\n",
    "(10013, 14000, 1),\n",
    "(10014, 15000, 1),\n",
    "(10015, 16000, 1),\n",
    "(10016, 17000, 1),\n",
    "(10017, 19000, 2),\n",
    "(10018, 18000, 2),\n",
    "(10019, 13000, 2),\n",
    "(10020, 21000, 1),\n",
    "(10021, 20000, 2),\n",
    "(10022, 22000, 1),\n",
    "(10023, 25000, 1),\n",
    "(10024, 24000, 1),\n",
    "(10025, 23000, 2),\n",
    "(10026, 26000, 2),\n",
    "(10027, 27000, 2),\n",
    "(10028, 28000, 2),\n",
    "(10029, 32000, 1),\n",
    "(10030, 33000, 1),\n",
    "(10031, 31000, 1),\n",
    "(10032, 30000, 1),\n",
    "(10033, 29000, 2),\n",
    "(10034, 35000, 2),\n",
    "(10035, 34000, 2),\n",
    "(10036, 36000, 2),\n",
    "(10037, 37000, 2),\n",
    "(10038, 42000, 2),\n",
    "(10039, 40000, 1),\n",
    "(10040, 41000, 1),\n",
    "(10041, 39000, 1),\n",
    "(10042, 38000, 2),\n",
    "(10043, 43000, 1),\n",
    "(10044, 44000, 1),\n",
    "(10045, 45000, 1),\n",
    "(10046, 46000, 2),\n",
    "(10047, 47000, 2),\n",
    "(10048, 48000, 1),\n",
    "(10049, 50000, 2),\n",
    "(10050, 51000, 1),\n",
    "(10051, 52000, 2),\n",
    "(10052, 49000, 2),\n",
    "(10053, 54000, 1),\n",
    "(10054, 53000, 1),\n",
    "(10055, 55000, 2),\n",
    "(10056, 57000, 2),\n",
    "(10057, 56000, 1),\n",
    "(10058, 60000, 2),\n",
    "(10059, 59000, 1),\n",
    "(10060, 58000, 2)]\n",
    "\n",
    "try:\n",
    "        cur.executemany(qry, valuesdelivery)\n",
    "        conn.commit()\n",
    "        print ('Records inserted successfully..committed')\n",
    "except:\n",
    "        print ('Error in insert operation..rollback')\n",
    "        conn.rollback()"
   ]
  },
  {
   "cell_type": "code",
   "execution_count": 70,
   "metadata": {},
   "outputs": [
    {
     "name": "stdout",
     "output_type": "stream",
     "text": [
      "Records inserted successfully..committed\n"
     ]
    }
   ],
   "source": [
    "# Insert multiple records in table E_BILLINGINFO\n",
    "\n",
    "qry=\"insert into E_BILLINGINFO (billingID, billingName, billingAddress, billingTransaction, billingDate) values (?,?,?,?,?);\"\n",
    "valuesbilling=[(2000, 'Southampton University', 'Building 85, Highfield Campus University Road, Southampton SO17 1BJ', 'credit card','01.03.2022'),\n",
    "(3000, 'Cardiff University', 'Park Place, Cardiff CF10 3AT', 'apple pay', '01.03.2022'),\n",
    "(4000, 'Durham University', 'The Palatine Centre, Stockton Road, Durham DH1 3LE', 'paypal', '01.03.2022'),\n",
    "(5000, 'Heriot Watt University', 'The Avenue, Edinburgh EH14 4AS', 'credit card', '01.03.2022'),\n",
    "(6000, 'Keele University', 'Keele Road, Keele ST5 5BG', 'credit card', '01.03.2022'),\n",
    "(7000, 'Lancaster University', 'Bailrigg, Lancaster LA1 4YX, Lancaster', 'apple pay', '01.03.2022'),\n",
    "(8000, 'Manchester Metropolitan University', 'All Saints Building, All Saints, Manchester M15 6BH', 'credit card', '01.03.2022'),\n",
    "(9000, 'Newcastle University', 'Northern Stage, Newcastle Upon Tyne NE1 7RU', 'paypal', '01.03.2022'),\n",
    "(10000, 'Oxford Brookers University', 'John Radcliffe Hospital, Headley Way, Oxford OX3 9DU', 'credit card', '01.03.2022'),\n",
    "(11000, 'The University of Manchester', 'Sackville Building, Sackville Street, Manchester M1 3NJ', 'credit card', '01.03.2022'),\n",
    "(12000, 'University of Chester', 'Parkgate Road, Chester CH1 4BJ', 'credit card', '01.03.2022'),\n",
    "(13000, 'University of Exeter', 'Stocker Road, Exeter EX4 4PY', 'credit card', '01.03.2022'),\n",
    "(14000, 'University of Leeds', 'Woodhouse Lane, Leeds LS2 9JT', 'credit card', '01.03.2022'),\n",
    "(15000, 'University of Westminster', '309 Regent Street, London W1B 2HW', 'credit card', '01.03.2022'),\n",
    "(16000, 'Sherborne School', 'Abbey Road, Sherborne DT9 3AP', 'paypal', '01.03.2022'),\n",
    "(17000, 'Abingdon School', 'Park Road, Abingdon OX14 1DE', 'paypal', '01.03.2022'),\n",
    "(18000, 'St Paul`s Cathedral School', '2 New Change, London EC4M 9AD', 'credit card', '01.03.2022'),\n",
    "(19000, 'The King`s School, Chester', 'The Kings School Wrexham Road, Chester CH4 7QL','credit card', '01.03.2022'),\n",
    "(20000, 'Exeter Cathedral School', 'The Chantry, Exeter EX1 1HX', 'credit card', '01.03.2022'),\n",
    "(21000, 'Oswestry School', 'Upper Brook Street, Oswestry SY11 2TL', 'paypal', '01.03.2022'),\n",
    "(22000, 'Sevenoaks School', 'High Street, Sevenoaks TN13 1HU', 'apple pay', '01.03.2022'),\n",
    "(23000, 'Eton College', 'Windsor SL4 6DW', 'credit card', '01.03.2022'),\n",
    "(24000, 'City of London School', 'Queen Victoria Street, London EC4V 3AL', 'credit card', '01.03.2022'),\n",
    "(25000, 'Stockport Grammar School', 'Buxton Road, Stockport SK2 7AF', 'apple pay', '01.03.2022'),\n",
    "(26000, 'Wolverhampton Grammar School', 'Compton Road, Wolverhampton WV3 9RB', 'credit card', '01.03.2022'),\n",
    "(27000, 'Shrewsbury School', '11 Ashton Road, Shrewsbury SY3 7BA', 'credit card', '01.03.2022' ),\n",
    "(28000, 'Dolphin School', '25a Bath Buildings, Bristol BS6 5PT', 'paypal', '01.03.2022'),\n",
    "(29000, 'Colchester High School', 'Wellesley Road, Colchester CO3 3HD', 'apple pay', '01.03.2022' ),\n",
    "(30000, 'Hydesville Tower School', '25 Broadway North, Walsall WS1 2QG', 'credit card', '01.03.2022' ),\n",
    "(31000, 'Winchester College', 'Porters Lodge College Street, Winchester SO23 9NA', 'credit card', '01.03.2022'),\n",
    "(32000, 'Concord College', 'Acton Burnell Hall, Shrewsbury SY5 7PF', 'paypal', '01.03.2022'),\n",
    "(33000, 'Wycombe Abbey School', 'Wycombe Abbey School Abbey Way, High Wycombe HP11 1PE', 'credit card', '01.03.2022'),\n",
    "(34000, 'Manchester High School for Girls', 'Grangethorpe Road, Manchester M14 6HS', 'credit card', '01.03.2022'),\n",
    "(35000, 'Hampton School', 'Hanworth Road, Hampton TW12 3HD', 'apple pay', '01.03.2022'),\n",
    "(36000, 'Highgate School', 'North Road, London N6 4AY', 'credit card', '01.03.2022'),\n",
    "(37000, 'Godolphin & Latymer School', 'Godolphin Caretakers Lodge Iffley Road, Hammersmith W6 0PG', 'credit card', '01.03.2022'),\n",
    "(38000, 'Merchant Taylors` School', 'Sandy Lodge, Rickmansworth HA6 2HT', 'apple pay', '01.03.2022'),\n",
    "(39000, 'Loughborough High School', '3 Burton Walks, Loughborough LE11 2DU', 'credit card', '01.03.2022'),\n",
    "(40000, 'Uppingham School', '20-24 High Street West, Uppingham LE15 9QE', 'credit card', '01.03.2022'),\n",
    "(41000, 'Radley College', 'Radley College Radley, Abingdon OX14 2HR', 'paypal', '01.03.2022'),\n",
    "(42000, 'Cheltenham Ladies` College', 'Bayshill Road, Cheltenham GL50 3EP', 'credit card', '01.03.2022'),\n",
    "(43000, 'St Albans School', 'Abbey Gateway, St Albans AL3 4HB', 'paypal', '01.03.2022'),\n",
    "(44000, 'Caterham School', 'Caterham School Harestone Valley Road, Caterham CR3 6YA', 'credit card', '01.03.2022'),\n",
    "(45000, 'Latymer Upper School', '237 King Street, London W6 9LR', 'credit card', '01.03.2022'),\n",
    "(46000, 'Wellington College', 'Wellington College Duke`s Ride CROWTHORNE Berkshire RG45 7PU', 'paypal', '01.03.2022'),\n",
    "(47000, 'Francis Holland School', '39 Graham Terrace, London SW1W 8JF', 'credit card', '01.03.2022'),\n",
    "(48000, 'Mayfield', 'High Street, The Old Palace, Mayfield TN20 6PH', 'credit card', '01.03.2022'),\n",
    "(49000, 'Canford School', 'Wimborne Minster BH21 3AD', 'credit card', '01.03.2022'),\n",
    "(50000, 'Wembley High Technology College', '2 Oldborough Road, Wembley HA0 3NT', 'apple pay', '01.03.2022'),\n",
    "(51000, 'The Tiffin Girls School', 'Richmond Rd, London KT2 5PL', 'paypal', '01.03.2022'),\n",
    "(52000, 'Magna Academy', 'Ashdown Leisure Centre Adastral Road, Poole BH17 8RE', 'paypal', '01.03.2022'),\n",
    "(53000, 'The Holy Cross School', 'Dean Lane, Bristol BS3 1DB', 'credit card', '01.03.2022'),\n",
    "(54000, 'Dartford Grammar School for Girls', '65 Shepherds Lane, Dartford DA1 2NT', 'credit card', '01.03.2022'),\n",
    "(55000, 'London Academy', 'Spur Road, Edgware, London HA8 8DE', 'paypal', '01.03.2022'),\n",
    "(56000, 'St Augustine`s Catholic High School', 'Stonepits Ln, Redditch B97 5LX', 'apple pay', '01.03.2022'),\n",
    "(57000, 'Sacred Heart Catholic School', 'Camberwell New Road, London SE5 0RP', 'credit card', '01.03.2022'),\n",
    "(58000, 'Beacon Academy', 'North Beeches Road, Crowborough TN6 2AS', 'paypal', '01.03.2022'),\n",
    "(59000, 'Featherstone High School', '11 Montague Waye, Southall UB2 5HF', 'credit card', '01.03.2022'),\n",
    "(60000,'Manor High School', '3 Severn Road, Oadby LE2 4FU', 'credit card', '01.03.2022')]\n",
    "\n",
    "try:\n",
    "        cur.executemany(qry, valuesbilling)\n",
    "        conn.commit()\n",
    "        print ('Records inserted successfully..committed')\n",
    "except:\n",
    "        print ('Error in insert operation..rollback')\n",
    "        conn.rollback()"
   ]
  },
  {
   "cell_type": "code",
   "execution_count": 69,
   "metadata": {},
   "outputs": [
    {
     "name": "stdout",
     "output_type": "stream",
     "text": [
      "One record inserted successfully..commit\n"
     ]
    }
   ],
   "source": [
    "qry=\"insert into  E_BILLINGINFO values (1000,'Bath Spa University', 'Newton Park, Newton St Loe, Bath BA2 9BN', 'credit card','01.03.2022');\"\n",
    "\n",
    "try:\n",
    "        cur.execute(qry)\n",
    "        conn.commit()\n",
    "        print ('One record inserted successfully..commit')\n",
    "except:\n",
    "        print ('Error in insert operation..rollback')\n",
    "        conn.rollback()\n",
    "        print(conn)"
   ]
  },
  {
   "cell_type": "code",
   "execution_count": 71,
   "metadata": {},
   "outputs": [
    {
     "name": "stdout",
     "output_type": "stream",
     "text": [
      "Records inserted successfully..committed\n"
     ]
    }
   ],
   "source": [
    "# Insert multiple records in table E_COURIER\n",
    "\n",
    "qry=\"insert into E_COURIER (courierID, courierName, courierPhone, courierEmail) values (?,?,?,?);\"\n",
    "valuescourier=[(1, 'DPD', 1179105010, 'deliveries@dpd.com'),\n",
    "(2, 'Royal Mail', 3457740740, 'deliveries@royalmail.com')]\n",
    "\n",
    "try:\n",
    "        cur.executemany(qry, valuescourier)\n",
    "        conn.commit()\n",
    "        print ('Records inserted successfully..committed')\n",
    "except:\n",
    "        print ('Error in insert operation..rollback')\n",
    "        conn.rollback()"
   ]
  },
  {
   "cell_type": "code",
   "execution_count": 99,
   "metadata": {},
   "outputs": [
    {
     "name": "stdout",
     "output_type": "stream",
     "text": [
      "Records inserted successfully..committed\n"
     ]
    }
   ],
   "source": [
    "# Insert multiple records in table E_CUSTOMER\n",
    "\n",
    "qry=\"insert into E_CUSTOMER (custID, custName, custAddress, custEmail, custPhone, billingID) values (?,?,?,?,?,?);\"\n",
    "valuescustomer=[(3000, 'Cardiff University', 'Park Place, Cardiff CF10 3AT', 'office@cardiff.ac.uk', 2920874000,3000),\n",
    "(4000, 'Durham University', 'The Palatine Centre, Stockton Road, Durham DH1 3LE', 'services@durham.ac.uk', 1913342000,4000),\n",
    "(5000, 'Heriot Watt University', 'The Avenue, Edinburgh EH14 4AS', 'info@hw.ac.uk', 1314495111,5000),\n",
    "(6000, 'Keele University', 'Keele Road, Keele ST5 5BG', 'reception@keele.ac.uk', 1782733937,6000)]\n",
    "\n",
    "try:\n",
    "        cur.executemany(qry, valuescustomer)\n",
    "        conn.commit()\n",
    "        print ('Records inserted successfully..committed')\n",
    "except:\n",
    "        print ('Error in insert operation..rollback')\n",
    "        conn.rollback()"
   ]
  },
  {
   "cell_type": "code",
   "execution_count": 75,
   "metadata": {},
   "outputs": [
    {
     "name": "stdout",
     "output_type": "stream",
     "text": [
      "One record inserted successfully..commit\n"
     ]
    }
   ],
   "source": [
    "qry=\"insert into E_CUSTOMER values (1000,'Bath Spa University', 'Newton Park, Newton St Loe, Bath BA2 9BN', 'maindesk@bathspa.ac.uk', 1225875875,1000);\"\n",
    "\n",
    "try:\n",
    "        cur.execute(qry)\n",
    "        conn.commit()\n",
    "        print ('One record inserted successfully..commit')\n",
    "except:\n",
    "        print ('Error in insert operation..rollback')\n",
    "        conn.rollback()\n",
    "        print(conn)"
   ]
  },
  {
   "cell_type": "code",
   "execution_count": 102,
   "metadata": {},
   "outputs": [
    {
     "name": "stdout",
     "output_type": "stream",
     "text": [
      "One record inserted successfully..commit\n"
     ]
    }
   ],
   "source": [
    "qry=\"insert into E_CUSTOMER values (2000,'Southampton University', 'Highfield Campus University Road, Southampton SO17 1BJ', 'admin@southampton.ac.uk', 1225785875,2000);\"\n",
    "\n",
    "try:\n",
    "        cur.execute(qry)\n",
    "        conn.commit()\n",
    "        print ('One record inserted successfully..commit')\n",
    "except:\n",
    "        print ('Error in insert operation..rollback')\n",
    "        conn.rollback()\n",
    "        print(conn)"
   ]
  },
  {
   "cell_type": "code",
   "execution_count": 123,
   "metadata": {},
   "outputs": [
    {
     "name": "stdout",
     "output_type": "stream",
     "text": [
      "Records inserted successfully..committed\n"
     ]
    }
   ],
   "source": [
    "# Insert multiple records in table E_CUSTOMER\n",
    "\n",
    "qry=\"insert into E_CUSTOMER (custID, custName, custAddress, custEmail, custPhone, billingID) values (?,?,?,?,?,?);\"\n",
    "valuescustomer=[(7000,'Lancaster University', 'Bailrigg, Lancaster LA1 4YX, Lancaster', 'info@lancaster.ac.uk',152459028,7000),\n",
    "(8000,'Manchester Metropolitan University', 'All Saints Building, All Saints, Manchester M15 6BH', 'office@mmu.ac.uk',1612472186,8000),\n",
    "(9000,'Newcastle University', 'Northern Stage, Newcastle Upon Tyne NE1 7RU', 'admin@ncl.ac.uk',1912086000,9000),\n",
    "(10000,'Oxford Brookers University', 'John Radcliffe Hospital, Headley Way, Oxford OX3 9DU','admin@brookes.ac.uk',1865484848,10000),\n",
    "(11000,'The University of Manchester', 'Sackville Building, Sackville Street, Manchester M1 3NJ','admin@manchester.ac.uk',1612732996,11000),\n",
    "(12000, 'University of Chester', 'Parkgate Road, Chester CH1 4BJ', 'helpdesk@chester.ac.uk',1244511000,12000),\n",
    "(13000, 'University of Exeter', 'Stocker Road, Exeter EX4 4PY', 'info@exeter.ac.uk',1392661000,13000),\n",
    "(14000, 'University of Leeds', 'Woodhouse Lane, Leeds LS2 9JT', 'info@leeds.ac.uk',1132431751,14000),\n",
    "(15000, 'University of Westminster', '309 Regent Street, London W1B 2HW', 'admin@westminster.ac.uk',2079115000,15000),\n",
    "(16000, 'Sherborne School', 'Abbey Road, Sherborne DT9 3AP', 'enquiries@sherborne.org',1935812249,16000),\n",
    "(17000, 'Abingdon School', 'Park Road, Abingdon OX14 1DE', 'reception@abingdon.org.uk',1235521563,17000),\n",
    "(18000, 'St Paul`s Cathedral School', '2 New Change, London EC4M 9AD', 'admin@spcs@london.sch.uk',2072485156,18000),\n",
    "(19000, 'The King`s School, Chester', 'The Kings School Wrexham Road, Chester CH4 7QL','office@kingschester.co.uk',1244689500,19000),\n",
    "(20000, 'Exeter Cathedral School', 'The Chantry, Exeter EX1 1HX', 'reception@exetercs.org',1392255298,20000)]\n",
    "\n",
    "try:\n",
    "        cur.executemany(qry, valuescustomer)\n",
    "        conn.commit()\n",
    "        print ('Records inserted successfully..committed')\n",
    "except:\n",
    "        print ('Error in insert operation..rollback')\n",
    "        conn.rollback()"
   ]
  },
  {
   "cell_type": "code",
   "execution_count": 125,
   "metadata": {},
   "outputs": [
    {
     "name": "stdout",
     "output_type": "stream",
     "text": [
      "Records inserted successfully..committed\n"
     ]
    }
   ],
   "source": [
    "# Insert multiple records in table E_CUSTOMER\n",
    "\n",
    "qry=\"insert into E_CUSTOMER (custID, custName, custAddress, custEmail, custPhone, billingID) values (?,?,?,?,?,?);\"\n",
    "valuescustomer=[(21000, 'Oswestry School', 'Upper Brook Street, Oswestry SY11 2TL', 'admin@oswestryschool.com',1691655711,21000),\n",
    "(22000, 'Sevenoaks School', 'High Street, Sevenoaks TN13 1HU', 'admin@sevenoaksschool.org',1732467703,22000),\n",
    "(23000, 'Eton College', 'Windsor SL4 6DW', 'enquiries@etoncollege.org.uk',1753370100,23000),\n",
    "(24000, 'City of London School', 'Queen Victoria Street, London EC4V 3AL', 'officr@cityoflondonschool.org.uk',2036806314,24000),\n",
    "(25000, 'Stockport Grammar School', 'Buxton Road, Stockport SK2 7AF', 'sgs@stockportgrammar.co.uk',1614569000,25000),\n",
    "(26000, 'Wolverhampton Grammar School', 'Compton Road, Wolverhampton WV3 9RB', 'office@wgs-sch.net',1902421326,26000),\n",
    "(27000, 'Shrewsbury School', '11 Ashton Road, Shrewsbury SY3 7BA', 'reception@shrewsbury.org.uk',1743280500,27000),\n",
    "(28000, 'Dolphin School', '25a Bath Buildings, Bristol BS6 5PT', 'receptionist@dolphinschool.org.uk',2079243472,28000),\n",
    "(29000, 'Colchester High School', 'Wellesley Road, Colchester CO3 3HD', 'info@colchesterhighschool.co.uk',1206217116,29000),\n",
    "(30000, 'Hydesville Tower School', '25 Broadway North, Walsall WS1 2QG', 'info@hydesville.com',1922624374,30000),\n",
    "(31000, 'Winchester College', 'Porters Lodge College Street, Winchester SO23 9NA', 'wincolloffice@wincoll.ac.uk',1962621100,31000),\n",
    "(32000, 'Concord College', 'Acton Burnell Hall, Shrewsbury SY5 7PF', 'office@concordcollege.org.uk',1694731631,32000),\n",
    "(33000, 'Wycombe Abbey School', 'Wycombe Abbey School Abbey Way, High Wycombe HP11 1PE', 'office@wycombeabbey.com',1494520381,33000),\n",
    "(34000, 'Manchester High School for Girls', 'Grangethorpe Road, Manchester M14 6HS', 'administration@mhsg.manchester.sch.uk',1612240447,34000),\n",
    "(35000, 'Hampton School', 'Hanworth Road, Hampton TW12 3HD', 'info@hamptonschool.org.uk',2089795526,35000),\n",
    "(36000, 'Highgate School', 'North Road, London N6 4AY', 'communications@highgateschool.org.uk',2083401524,36000),\n",
    "(37000, 'Godolphin & Latymer School', 'Godolphin Caretakers Lodge Iffley Road, Hammersmith W6 0PG', 'office@godolphinandlatymer.com',2087411936,37000),\n",
    "(38000, 'Merchant Taylors` School', 'Sandy Lodge, Rickmansworth HA6 2HT', 'infomtgs@merchanttaylors.com',1923820644,38000),\n",
    "(39000, 'Loughborough High School', '3 Burton Walks, Loughborough LE11 2DU', 'office@lhs.com',1509212348,39000),\n",
    "(40000, 'Uppingham School', '20-24 High Street West, Uppingham LE15 9QE', 'pa@uppingham.co.uk',1572822216,40000),\n",
    "(41000, 'Radley College', 'Radley College Radley, Abingdon OX14 2HR', 'office@radley.org.uk',1235543174,41000),\n",
    "(42000, 'Cheltenham Ladies` College', 'Bayshill Road, Cheltenham GL50 3EP', 'enquiries@cheltladiescollege.org',1242520691,42000),\n",
    "(43000, 'St Albans School', 'Abbey Gateway, St Albans AL3 4HB', 'office@stalbanssch.org.uk',1727855521,43000),\n",
    "(44000, 'Caterham School', 'Caterham School Harestone Valley Road, Caterham CR3 6YA', 'pa@caterhamschool.co.uk',1883343028,44000),\n",
    "(45000, 'Latymer Upper School', '237 King Street, London W6 9LR', 'office@latymer-upper.org.',2086292024,45000),\n",
    "(46000, 'Wellington College', 'Wellington College Duke`s Ride CROWTHORNE Berkshire RG45 7PU', 'office@wellingtoncollege.org.uk',1344444000,46000),\n",
    "(47000, 'Francis Holland School', '39 Graham Terrace, London SW1W 8JF', 'office@fhs.com',2077308359,47000),\n",
    "(48000, 'Mayfield', 'High Street, The Old Palace, Mayfield TN20 6PH', 'enquiry@mayfiled.org',1435874600,48000),\n",
    "(49000, 'Canford School', 'Wimborne Minster BH21 3AD', 'office@canford.com',1202847207,49000),\n",
    "(50000, 'Wembley High Technology College', '2 Oldborough Road, Wembley HA0 3NT', 'admin@whtc.co.uk',2083854800,50000),\n",
    "(51000, 'The Tiffin Girls School', 'Richmond Rd, London KT2 5PL', 'contact@tiffingirls.org',2085460773,51000),\n",
    "(52000, 'Magna Academy', 'Ashdown Leisure Centre Adastral Road, Poole BH17 8RE', 'office@magna-aspirations.org',1202604222,52000),\n",
    "(53000, 'The Holy Cross School', 'Dean Lane, Bristol BS3 1DB', 'hxs@holycross.kingston.sch.uk',1173772199,53000),\n",
    "(54000, 'Dartford Grammar School for Girls', '65 Shepherds Lane, Dartford DA1 2NT', 'info@dartfordgrammarschool.org.uk',1322223123,54000),\n",
    "(55000, 'London Academy', 'Spur Road, Edgware, London HA8 8DE', 'office@londonacademy.org.uk',2082381100,55000),\n",
    "(56000, 'St Augustine`s Catholic High School', 'Stonepits Ln, Redditch B97 5LX', 'reception@sta.magnificat.org.uk',1527550400,56000),\n",
    "(57000, 'Sacred Heart Catholic School', 'Camberwell New Road, London SE5 0RP', 'office@sacredheart.southwark.sch.uk',2072746844,57000),\n",
    "(58000, 'Beacon Academy', 'North Beeches Road, Crowborough TN6 2AS', 'office@beaconacademy.co.uk',1472328888,58000),\n",
    "(59000, 'Featherstone High School', '11 Montague Waye, Southall UB2 5HF', 'info@featherstonehigh.ealing.sch.uk',2088430984,59000),\n",
    "(60000,'Manor High School', '3 Severn Road, Oadby LE2 4FU', 'admin@oaktrust.org',1162714941,60000)]\n",
    "\n",
    "try:\n",
    "        cur.executemany(qry, valuescustomer)\n",
    "        conn.commit()\n",
    "        print ('Records inserted successfully..committed')\n",
    "except:\n",
    "        print ('Error in insert operation..rollback')\n",
    "        conn.rollback()"
   ]
  },
  {
   "cell_type": "code",
   "execution_count": 131,
   "metadata": {},
   "outputs": [
    {
     "name": "stdout",
     "output_type": "stream",
     "text": [
      "Records inserted successfully..committed\n"
     ]
    }
   ],
   "source": [
    "# Insert multiple records in table E_ORD_INV\n",
    "\n",
    "qry=\"insert into E_ORD_INV (orderID, invID) values (?,?);\"\n",
    "valuesordinv=[(1,10),\n",
    "(1,56),\n",
    "(2,10),\n",
    "(2,56),\n",
    "(2,29),\n",
    "(3,42),\n",
    "(3,41),\n",
    "(3,23),\n",
    "(3,34),\n",
    "(3,37),\n",
    "(4,40),\n",
    "(4,34),\n",
    "(5,28),\n",
    "(5,33),\n",
    "(6,22),\n",
    "(7,32),\n",
    "(7,38),\n",
    "(7,10),\n",
    "(7,43),\n",
    "(8,26),\n",
    "(9,5),\n",
    "(10,45)]\n",
    "\n",
    "try:\n",
    "        cur.executemany(qry, valuesordinv)\n",
    "        conn.commit()\n",
    "        print ('Records inserted successfully..committed')\n",
    "except:\n",
    "        print ('Error in insert operation..rollback')\n",
    "        conn.rollback()\n"
   ]
  },
  {
   "cell_type": "code",
   "execution_count": 138,
   "metadata": {},
   "outputs": [
    {
     "name": "stdout",
     "output_type": "stream",
     "text": [
      "Records inserted successfully..committed\n"
     ]
    }
   ],
   "source": [
    "qry=\"insert into E_ORD_INV (orderID, invID) values (?,?);\"\n",
    "valuesordinv=[(10,25),\n",
    "(11,25),\n",
    "(11,45),\n",
    "(11,6),\n",
    "(11,38),\n",
    "(12,31),\n",
    "(12,37),\n",
    "(12,9),\n",
    "(12,29),\n",
    "(13,17),\n",
    "(13,29),\n",
    "(13,27),\n",
    "(14,31),\n",
    "(14,48),\n",
    "(14,36),\n",
    "(14,51),\n",
    "(15,16),\n",
    "(15,54),\n",
    "(16,20),\n",
    "(17,11),]\n",
    "\n",
    "try:\n",
    "        cur.executemany(qry, valuesordinv)\n",
    "        conn.commit()\n",
    "        print ('Records inserted successfully..committed')\n",
    "except:\n",
    "        print ('Error in insert operation..rollback')\n",
    "        conn.rollback()"
   ]
  },
  {
   "cell_type": "code",
   "execution_count": 140,
   "metadata": {},
   "outputs": [
    {
     "name": "stdout",
     "output_type": "stream",
     "text": [
      "Records inserted successfully..committed\n"
     ]
    }
   ],
   "source": [
    "qry=\"insert into E_ORD_INV (orderID, invID) values (?,?);\"\n",
    "valuesordinv=[(18,15),\n",
    "(18,21),\n",
    "(18,22),\n",
    "(19,16),\n",
    "(19,42),\n",
    "(20,52),\n",
    "(20,49),\n",
    "(21,31),\n",
    "(21,35),\n",
    "(21,47),\n",
    "(22,5),\n",
    "(23,3),\n",
    "(24,9),\n",
    "(24,28),\n",
    "(25,50),\n",
    "(25,11),\n",
    "(26,12),\n",
    "(27,43),\n",
    "(27,23),\n",
    "(27,28),\n",
    "(27,39),\n",
    "(28,14),\n",
    "(29,36),\n",
    "(29,37),\n",
    "(30,36),\n",
    "(31,48),\n",
    "(32,20),\n",
    "(32,7),\n",
    "(32,44),\n",
    "(33,10),\n",
    "(34,50),\n",
    "(34,21),\n",
    "(34,34),\n",
    "(35,24),\n",
    "(36,31),\n",
    "(37,35),\n",
    "(37,13),\n",
    "(38,32),\n",
    "(39,25),\n",
    "(39,22),\n",
    "(40,34),\n",
    "(41,26),\n",
    "(41,51),\n",
    "(42,18),\n",
    "(43,27),\n",
    "(44,30),\n",
    "(45,10),\n",
    "(46,37),\n",
    "(47,51),\n",
    "(47,27),\n",
    "(47,36),\n",
    "(48,3),\n",
    "(49,11),\n",
    "(50,20),\n",
    "(50,54),\n",
    "(51,55),\n",
    "(51,3),\n",
    "(52,47),\n",
    "(53,42),\n",
    "(54,14),\n",
    "(55,14),\n",
    "(56,45),\n",
    "(56,32),\n",
    "(56,24),\n",
    "(57,16),\n",
    "(58,25),\n",
    "(59,52),\n",
    "(59,20),\n",
    "(59,41),\n",
    "(60,20),\n",
    "(61,48),\n",
    "(62,41),\n",
    "(63,19),\n",
    "(63,8),\n",
    "(63,9),\n",
    "(64,40),\n",
    "(65,31),\n",
    "(66,44),\n",
    "(67,56),\n",
    "(68,19),\n",
    "(69,23),\n",
    "(69,31),\n",
    "(70,12),\n",
    "(70,16)]\n",
    "\n",
    "try:\n",
    "        cur.executemany(qry, valuesordinv)\n",
    "        conn.commit()\n",
    "        print ('Records inserted successfully..committed')\n",
    "except:\n",
    "        print ('Error in insert operation..rollback')\n",
    "        conn.rollback()"
   ]
  },
  {
   "cell_type": "code",
   "execution_count": 129,
   "metadata": {},
   "outputs": [
    {
     "name": "stdout",
     "output_type": "stream",
     "text": [
      "One record inserted successfully..commit\n"
     ]
    }
   ],
   "source": [
    "qry=\"insert into E_ORD_INV values (1,4);\"\n",
    "\n",
    "try:\n",
    "        cur.execute(qry)\n",
    "        conn.commit()\n",
    "        print ('One record inserted successfully..commit')\n",
    "except:\n",
    "        print ('Error in insert operation..rollback')\n",
    "        conn.rollback()\n",
    "        print(conn)"
   ]
  },
  {
   "cell_type": "code",
   "execution_count": null,
   "metadata": {},
   "outputs": [],
   "source": [
    "\n"
   ]
  },
  {
   "cell_type": "code",
   "execution_count": null,
   "metadata": {},
   "outputs": [],
   "source": []
  },
  {
   "cell_type": "code",
   "execution_count": null,
   "metadata": {},
   "outputs": [],
   "source": []
  },
  {
   "cell_type": "code",
   "execution_count": null,
   "metadata": {},
   "outputs": [],
   "source": []
  },
  {
   "cell_type": "code",
   "execution_count": 50,
   "metadata": {},
   "outputs": [],
   "source": [
    "conn.close()"
   ]
  },
  {
   "cell_type": "code",
   "execution_count": null,
   "metadata": {},
   "outputs": [],
   "source": []
  },
  {
   "cell_type": "code",
   "execution_count": null,
   "metadata": {},
   "outputs": [],
   "source": []
  },
  {
   "cell_type": "code",
   "execution_count": 5,
   "metadata": {},
   "outputs": [
    {
     "name": "stdout",
     "output_type": "stream",
     "text": [
      "(1, 'Navy Blue Hoodie', 'Munti', 'navy blue', 32, 1000, 'Recyclable Paper', 1)\n"
     ]
    }
   ],
   "source": [
    "qry=\"select * from E_INVENTORY;\"\n",
    "cur.execute(qry)\n",
    "\n",
    "# Fetch and display one row\n",
    "row=cur.fetchone()\n",
    "\n",
    "print (row)"
   ]
  },
  {
   "cell_type": "code",
   "execution_count": 13,
   "metadata": {},
   "outputs": [
    {
     "name": "stdout",
     "output_type": "stream",
     "text": [
      "(1, 'Navy Blue Hoodie', 'Munti', 'navy blue', 32, 1000, 'Recyclable Paper', 1)\n",
      "(2, 'Grey Hoodie', 'Munti', 'grey', 32, 1000, 'Recyclable Paper', 1)\n",
      "(3, 'Red Hoodie', 'Munti', 'red', 32, 1000, 'Recyclable Paper', 1)\n",
      "(4, 'Olive Hoodie', 'Munti', 'olive', 32, 1000, 'Recylable Paper', 1)\n",
      "(5, 'Pink Hoodie', 'Munti', 'pink', 32, 1000, 'Recylable Paper', 1)\n",
      "(6, 'Purple Hoodie', 'Munti', 'purple', 32, 1000, 'Recylable Paper', 1)\n",
      "(7, 'Black Hoodie', 'Munti', 'black', 32, 1000, 'Recylable Paper', 1)\n",
      "(8, 'Burgundy Hoodie', 'Munti', 'burgundy', 32, 1000, 'Recylable Paper', 1)\n",
      "(9, 'Navy Blue Hoodie', 'Munti', 'navy blue', 34, 1000, 'Recyclable Paper', 1)\n",
      "(10, 'Grey Hoodie', 'Munti', 'grey', 34, 1000, 'Recyclable Paper', 1)\n",
      "(11, 'Red Hoodie', 'Munti', 'red', 34, 1000, 'Recyclable Paper', 1)\n",
      "(12, 'Olive Hoodie', 'Munti', 'olive', 34, 1000, 'Recylable Paper', 1)\n",
      "(13, 'Pink Hoodie', 'Munti', 'pink', 34, 1000, 'Recylable Paper', 1)\n",
      "(14, 'Purple Hoodie', 'Munti', 'purple', 34, 1000, 'Recylable Paper', 1)\n",
      "(15, 'Black Hoodie', 'Munti', 'black', 34, 1000, 'Recylable Paper', 1)\n",
      "(16, 'Burgundy Hoodie', 'Munti', 'burgundy', 34, 1000, 'Recylable Paper', 1)\n",
      "(17, 'Navy Blue Hoodie', 'Munti', 'navy blue', 36, 1000, 'Recyclable Paper', 1)\n",
      "(18, 'Grey Hoodie', 'Munti', 'grey', 36, 1000, 'Recyclable Paper', 1)\n",
      "(19, 'Red Hoodie', 'Munti', 'red', 36, 1000, 'Recyclable Paper', 1)\n",
      "(20, 'Olive Hoodie', 'Munti', 'olive', 36, 1000, 'Recylable Paper', 1)\n",
      "(21, 'Pink Hoodie', 'Munti', 'pink', 36, 1000, 'Recylable Paper', 1)\n",
      "(22, 'Purple Hoodie', 'Munti', 'purple', 36, 1000, 'Recylable Paper', 1)\n",
      "(23, 'Black Hoodie', 'Munti', 'black', 36, 1000, 'Recylable Paper', 1)\n",
      "(24, 'Burgundy Hoodie', 'Munti', 'burgundy', 36, 1000, 'Recylable Paper', 1)\n",
      "(25, 'Navy Blue Hoodie', 'Munti', 'navy blue', 38, 1000, 'Recyclable Paper', 1)\n",
      "(26, 'Grey Hoodie', 'Munti', 'grey', 38, 1000, 'Recyclable Paper', 1)\n",
      "(27, 'Red Hoodie', 'Munti', 'red', 38, 1000, 'Recyclable Paper', 1)\n",
      "(28, 'Olive Hoodie', 'Munti', 'olive', 38, 1000, 'Recylable Paper', 1)\n",
      "(29, 'Pink Hoodie', 'Munti', 'pink', 38, 1000, 'Recylable Paper', 1)\n",
      "(30, 'Purple Hoodie', 'Munti', 'purple', 38, 1000, 'Recylable Paper', 1)\n",
      "(31, 'Black Hoodie', 'Munti', 'black', 38, 1000, 'Recylable Paper', 1)\n",
      "(32, 'Burgundy Hoodie', 'Munti', 'burgundy', 38, 1000, 'Recylable Paper', 1)\n",
      "(33, 'Navy Blue Hoodie', 'Munti', 'navy blue', 40, 1000, 'Recyclable Paper', 1)\n",
      "(34, 'Grey Hoodie', 'Munti', 'grey', 40, 1000, 'Recyclable Paper', 1)\n",
      "(35, 'Red Hoodie', 'Munti', 'red', 40, 1000, 'Recyclable Paper', 1)\n",
      "(36, 'Olive Hoodie', 'Munti', 'olive', 40, 1000, 'Recylable Paper', 1)\n",
      "(37, 'Pink Hoodie', 'Munti', 'pink', 40, 1000, 'Recylable Paper', 1)\n",
      "(38, 'Purple Hoodie', 'Munti', 'purple', 40, 1000, 'Recylable Paper', 1)\n",
      "(39, 'Black Hoodie', 'Munti', 'black', 40, 1000, 'Recylable Paper', 1)\n",
      "(40, 'Burgundy Hoodie', 'Munti', 'burgundy', 40, 1000, 'Recylable Paper', 1)\n",
      "(41, 'Navy Blue Hoodie', 'Munti', 'navy blue', 42, 1000, 'Recyclable Paper', 1)\n",
      "(42, 'Grey Hoodie', 'Munti', 'grey', 42, 1000, 'Recyclable Paper', 1)\n",
      "(43, 'Red Hoodie', 'Munti', 'red', 42, 1000, 'Recyclable Paper', 1)\n",
      "(44, 'Olive Hoodie', 'Munti', 'olive', 42, 1000, 'Recylable Paper', 1)\n",
      "(45, 'Pink Hoodie', 'Munti', 'pink', 42, 1000, 'Recylable Paper', 1)\n",
      "(46, 'Purple Hoodie', 'Munti', 'purple', 42, 1000, 'Recylable Paper', 1)\n",
      "(47, 'Black Hoodie', 'Munti', 'black', 42, 1000, 'Recylable Paper', 1)\n",
      "(48, 'Burgundy Hoodie', 'Munti', 'burgundy', 42, 1000, 'Recylable Paper', 1)\n",
      "(49, 'Navy Blue Hoodie', 'Munti', 'navy blue', 44, 1000, 'Recyclable Paper', 1)\n",
      "(50, 'Grey Hoodie', 'Munti', 'grey', 44, 1000, 'Recyclable Paper', 1)\n",
      "(51, 'Red Hoodie', 'Munti', 'red', 44, 1000, 'Recyclable Paper', 1)\n",
      "(52, 'Olive Hoodie', 'Munti', 'olive', 44, 1000, 'Recylable Paper', 1)\n",
      "(53, 'Pink Hoodie', 'Munti', 'pink', 44, 1000, 'Recylable Paper', 1)\n",
      "(54, 'Purple Hoodie', 'Munti', 'purple', 44, 1000, 'Recylable Paper', 1)\n",
      "(55, 'Black Hoodie', 'Munti', 'black', 44, 1000, 'Recylable Paper', 1)\n",
      "(56, 'Burgundy Hoodie', 'Munti', 'burgundy', 44, 1000, 'Recylable Paper', 1)\n"
     ]
    }
   ],
   "source": [
    "# Query and display all records from the table E_INVENTORY\n",
    "\n",
    "# Prepare the query String\n",
    "qry=\"select * from E_INVENTORY;\"\n",
    "\n",
    "# Execute query on SQLite\n",
    "cur.execute(qry)\n",
    "\n",
    "# Fetch and display one row\n",
    "\n",
    "rows=cur.fetchall()\n",
    "for row in rows:\n",
    "    print (row)\n",
    "\n"
   ]
  },
  {
   "cell_type": "code",
   "execution_count": 6,
   "metadata": {},
   "outputs": [
    {
     "name": "stdout",
     "output_type": "stream",
     "text": [
      "Enter E_INVENTORY ID:5\n",
      "(5, 'Pink Hoodie', 'Munti', 'pink', 32, 1000, 'Recylable Paper', 1)\n",
      "Inventory name is  Pink Hoodie\n"
     ]
    }
   ],
   "source": [
    "# Query and display records from the table E_INVENTORY based on user input\n",
    "\n",
    "inputE_InventoryID=input ('Enter E_INVENTORY ID:')\n",
    "qry=\"select * from E_INVENTORY where invID=?\";\n",
    "cur.execute(qry, (inputE_InventoryID,))\n",
    "row=cur.fetchone()\n",
    "print (row)\n",
    "\n",
    "# IMPORTANT: Individual items in the tuple can be accessed by index .. we are accessing the second attribute\n",
    "print (\"Inventory name is \", row[1])"
   ]
  },
  {
   "cell_type": "code",
   "execution_count": null,
   "metadata": {},
   "outputs": [],
   "source": []
  },
  {
   "cell_type": "code",
   "execution_count": 14,
   "metadata": {},
   "outputs": [
    {
     "name": "stdout",
     "output_type": "stream",
     "text": [
      "Enter E_Customer Name:Sevenoaks School\n",
      "(22000, 'Sevenoaks School', 'High Street, Sevenoaks TN13 1HU', 'admin@sevenoaksschool.org', 1732467703, 22000)\n",
      "Department Name is  Sevenoaks School\n"
     ]
    }
   ],
   "source": [
    "# Query and display records from the table E_Customer based on user input\n",
    "\n",
    "inputCustomerName=input ('Enter E_Customer Name:')\n",
    "qry=\"select * from E_CUSTOMER where custName=?\";\n",
    "cur.execute(qry, (inputCustomerName,))\n",
    "row=cur.fetchone()\n",
    "print (row)\n",
    "\n",
    "# IMPORTANT: Individual items in the tuple can be accessed by index .. we are accessing the second attribute\n",
    "print (\"Department Name is \", row[1])"
   ]
  },
  {
   "cell_type": "code",
   "execution_count": 9,
   "metadata": {},
   "outputs": [
    {
     "name": "stdout",
     "output_type": "stream",
     "text": [
      "Enter name of E_Customer to update:Sevenoaks School\n",
      "Enter new customer number:22000\n",
      "Customer name updated\n"
     ]
    }
   ],
   "source": [
    "# Update table based on user input\n",
    "\n",
    "inputName=input('Enter name of E_Customer to update:')\n",
    "inputCustomerNum=int(input('Enter new customer number:'))\n",
    "qry='update E_CUSTOMER set custID=? where custName=?'\n",
    "\n",
    "try:\n",
    "        cur.execute(qry, (inputCustomerNum,inputName))\n",
    "        print ('Customer name updated')\n",
    "        conn.commit()\n",
    "except:\n",
    "        print ('Error in update operation .. rollback')\n",
    "        conn.rollback()"
   ]
  },
  {
   "cell_type": "code",
   "execution_count": null,
   "metadata": {},
   "outputs": [],
   "source": [
    "# Query and display records from the table E_Customer based on user input\n",
    "\n",
    "inputCustomerName=input ('Enter E_Customer Name:')\n",
    "qry=\"select * from E_CUSTOMER where custName=?\";\n",
    "cur.execute(qry, (inputCustomerName,))\n",
    "row=cur.fetchone()\n",
    "print (row)\n",
    "\n",
    "# IMPORTANT: Individual items in the tuple can be accessed by index .. we are accessing the second attribute\n",
    "print (\"Department Name is \", row[1])"
   ]
  },
  {
   "cell_type": "code",
   "execution_count": 6,
   "metadata": {},
   "outputs": [
    {
     "name": "stdout",
     "output_type": "stream",
     "text": [
      "Enter name of E_Customer to delete:Manor \n",
      "Customer deleted\n"
     ]
    }
   ],
   "source": [
    "# Delete record based on user input\n",
    "\n",
    "inputName=input('Enter name of E_Customer to delete:')\n",
    "qry='delete from E_CUSTOMER where custName=?'\n",
    "try:\n",
    "        cur.execute(qry, (inputName,))\n",
    "        print ('Customer deleted')\n",
    "        conn.commit()\n",
    "except:\n",
    "        print ('Error in deleting customer', inputName)\n",
    "        conn.rollback()"
   ]
  },
  {
   "cell_type": "code",
   "execution_count": 7,
   "metadata": {},
   "outputs": [
    {
     "name": "stdout",
     "output_type": "stream",
     "text": [
      "Error in insert operation..rollback\n",
      "<sqlite3.Connection object at 0x000002C31D4E63B0>\n"
     ]
    }
   ],
   "source": [
    "qry=\"insert into E_CUSTOMER values (60000,'Manor High School', '3 Severn Road, Oadby LE2 4FU', 'admin@oaktrust.org',1162714941,60000);\"\n",
    "\n",
    "try:\n",
    "        cur.execute(qry)\n",
    "        conn.commit()\n",
    "        print ('One record inserted successfully..commit')\n",
    "except:\n",
    "        print ('Error in insert operation..rollback')\n",
    "        conn.rollback()\n",
    "        print(conn)"
   ]
  },
  {
   "cell_type": "code",
   "execution_count": 7,
   "metadata": {},
   "outputs": [
    {
     "name": "stdout",
     "output_type": "stream",
     "text": [
      "Enter Employee ID:40\n",
      "Enter first name of employee to insert:Percy\n",
      "Enter last name of employee:King\n",
      "Enter employee date of birth:03.04.1980\n",
      "Enter employee type:Warehouse Staff\n",
      "Enter employee mail:Percy40@hoodiesecommerce.com\n",
      "Enter employee salary:25000\n",
      "Enter employee hire date:27.03.2022\n",
      "Enter ID of store the employee is employed at:1\n",
      "New employee added\n"
     ]
    }
   ],
   "source": [
    "# Insert one record in table E_EMPLOYEE based on user input\n",
    "\n",
    "inputemployeeID=input('Enter Employee ID:')\n",
    "inputemployeeFirstName=input('Enter first name of employee to insert:')\n",
    "inputemployeeLastName=input('Enter last name of employee:')\n",
    "inputemployeeDOB=input('Enter employee date of birth:')\n",
    "inputemployeeType=input('Enter employee type:')\n",
    "inputemployeeEmail=input('Enter employee mail:')\n",
    "inputemployeeSalary=input('Enter employee salary:')\n",
    "inputemployeeHireDate=input('Enter employee hire date:')\n",
    "inputemployeestoreID=input('Enter ID of store the employee is employed at:')\n",
    "\n",
    "qry=\"insert into E_EMPLOYEE values (?,?,?,?,?,?,?,?,?);\"\n",
    "\n",
    "try:\n",
    "        cur.execute(qry, (inputemployeeID, inputemployeeFirstName, inputemployeeLastName, inputemployeeDOB, inputemployeeType,inputemployeeEmail,inputemployeeSalary,inputemployeeHireDate, inputemployeestoreID))\n",
    "        print ('New employee added')\n",
    "        conn.commit()\n",
    "except:\n",
    "        print ('Error in adding employee .. rollback')\n",
    "        conn.rollback()"
   ]
  },
  {
   "cell_type": "code",
   "execution_count": null,
   "metadata": {},
   "outputs": [],
   "source": []
  },
  {
   "cell_type": "code",
   "execution_count": 12,
   "metadata": {},
   "outputs": [
    {
     "name": "stdout",
     "output_type": "stream",
     "text": [
      "(17000, 'Abingdon School', 'Park Road, Abingdon OX14 1DE', 'reception@abingdon.org.uk', 1235521563, 17000)\n",
      "(1000, 'Bath Spa University', 'Newton Park, Newton St Loe, Bath BA2 9BN', 'maindesk@bathspa.ac.uk', 1225875875, 1000)\n",
      "(58000, 'Beacon Academy', 'North Beeches Road, Crowborough TN6 2AS', 'office@beaconacademy.co.uk', 1472328888, 58000)\n",
      "(49000, 'Canford School', 'Wimborne Minster BH21 3AD', 'office@canford.com', 1202847207, 49000)\n",
      "(3000, 'Cardiff University', 'Park Place, Cardiff CF10 3AT', 'office@cardiff.ac.uk', 2920874000, 3000)\n",
      "(44000, 'Caterham School', 'Caterham School Harestone Valley Road, Caterham CR3 6YA', 'pa@caterhamschool.co.uk', 1883343028, 44000)\n",
      "(42000, 'Cheltenham Ladies` College', 'Bayshill Road, Cheltenham GL50 3EP', 'enquiries@cheltladiescollege.org', 1242520691, 42000)\n",
      "(24000, 'City of London School', 'Queen Victoria Street, London EC4V 3AL', 'officr@cityoflondonschool.org.uk', 2036806314, 24000)\n",
      "(29000, 'Colchester High School', 'Wellesley Road, Colchester CO3 3HD', 'info@colchesterhighschool.co.uk', 1206217116, 29000)\n",
      "(32000, 'Concord College', 'Acton Burnell Hall, Shrewsbury SY5 7PF', 'office@concordcollege.org.uk', 1694731631, 32000)\n",
      "(54000, 'Dartford Grammar School for Girls', '65 Shepherds Lane, Dartford DA1 2NT', 'info@dartfordgrammarschool.org.uk', 1322223123, 54000)\n",
      "(28000, 'Dolphin School', '25a Bath Buildings, Bristol BS6 5PT', 'receptionist@dolphinschool.org.uk', 2079243472, 28000)\n",
      "(4000, 'Durham University', 'The Palatine Centre, Stockton Road, Durham DH1 3LE', 'services@durham.ac.uk', 1913342000, 4000)\n",
      "(23000, 'Eton College', 'Windsor SL4 6DW', 'enquiries@etoncollege.org.uk', 1753370100, 23000)\n",
      "(20000, 'Exeter Cathedral School', 'The Chantry, Exeter EX1 1HX', 'reception@exetercs.org', 1392255298, 20000)\n",
      "(59000, 'Featherstone High School', '11 Montague Waye, Southall UB2 5HF', 'info@featherstonehigh.ealing.sch.uk', 2088430984, 59000)\n",
      "(47000, 'Francis Holland School', '39 Graham Terrace, London SW1W 8JF', 'office@fhs.com', 2077308359, 47000)\n",
      "(37000, 'Godolphin & Latymer School', 'Godolphin Caretakers Lodge Iffley Road, Hammersmith W6 0PG', 'office@godolphinandlatymer.com', 2087411936, 37000)\n",
      "(35000, 'Hampton School', 'Hanworth Road, Hampton TW12 3HD', 'info@hamptonschool.org.uk', 2089795526, 35000)\n",
      "(5000, 'Heriot Watt University', 'The Avenue, Edinburgh EH14 4AS', 'info@hw.ac.uk', 1314495111, 5000)\n",
      "(36000, 'Highgate School', 'North Road, London N6 4AY', 'communications@highgateschool.org.uk', 2083401524, 36000)\n",
      "(30000, 'Hydesville Tower School', '25 Broadway North, Walsall WS1 2QG', 'info@hydesville.com', 1922624374, 30000)\n",
      "(6000, 'Keele University', 'Keele Road, Keele ST5 5BG', 'reception@keele.ac.uk', 1782733937, 6000)\n",
      "(7000, 'Lancaster University', 'Bailrigg, Lancaster LA1 4YX, Lancaster', 'info@lancaster.ac.uk', 152459028, 7000)\n",
      "(45000, 'Latymer Upper School', '237 King Street, London W6 9LR', 'office@latymer-upper.org.', 2086292024, 45000)\n",
      "(55000, 'London Academy', 'Spur Road, Edgware, London HA8 8DE', 'office@londonacademy.org.uk', 2082381100, 55000)\n",
      "(39000, 'Loughborough High School', '3 Burton Walks, Loughborough LE11 2DU', 'office@lhs.com', 1509212348, 39000)\n",
      "(52000, 'Magna Academy', 'Ashdown Leisure Centre Adastral Road, Poole BH17 8RE', 'office@magna-aspirations.org', 1202604222, 52000)\n",
      "(34000, 'Manchester High School for Girls', 'Grangethorpe Road, Manchester M14 6HS', 'administration@mhsg.manchester.sch.uk', 1612240447, 34000)\n",
      "(8000, 'Manchester Metropolitan University', 'All Saints Building, All Saints, Manchester M15 6BH', 'office@mmu.ac.uk', 1612472186, 8000)\n",
      "(60000, 'Manor High School', '3 Severn Road, Oadby LE2 4FU', 'admin@oaktrust.org', 1162714941, 60000)\n",
      "(48000, 'Mayfield', 'High Street, The Old Palace, Mayfield TN20 6PH', 'enquiry@mayfiled.org', 1435874600, 48000)\n",
      "(38000, 'Merchant Taylors` School', 'Sandy Lodge, Rickmansworth HA6 2HT', 'infomtgs@merchanttaylors.com', 1923820644, 38000)\n",
      "(9000, 'Newcastle University', 'Northern Stage, Newcastle Upon Tyne NE1 7RU', 'admin@ncl.ac.uk', 1912086000, 9000)\n",
      "(21000, 'Oswestry School', 'Upper Brook Street, Oswestry SY11 2TL', 'admin@oswestryschool.com', 1691655711, 21000)\n",
      "(10000, 'Oxford Brookers University', 'John Radcliffe Hospital, Headley Way, Oxford OX3 9DU', 'admin@brookes.ac.uk', 1865484848, 10000)\n",
      "(41000, 'Radley College', 'Radley College Radley, Abingdon OX14 2HR', 'office@radley.org.uk', 1235543174, 41000)\n",
      "(57000, 'Sacred Heart Catholic School', 'Camberwell New Road, London SE5 0RP', 'office@sacredheart.southwark.sch.uk', 2072746844, 57000)\n",
      "(22000, 'Sevenoaks School', 'High Street, Sevenoaks TN13 1HU', 'admin@sevenoaksschool.org', 1732467703, 22000)\n",
      "(16000, 'Sherborne School', 'Abbey Road, Sherborne DT9 3AP', 'enquiries@sherborne.org', 1935812249, 16000)\n",
      "(27000, 'Shrewsbury School', '11 Ashton Road, Shrewsbury SY3 7BA', 'reception@shrewsbury.org.uk', 1743280500, 27000)\n",
      "(2000, 'Southampton University', 'Highfield Campus University Road, Southampton SO17 1BJ', 'admin@southampton.ac.uk', 1225785875, 2000)\n",
      "(43000, 'St Albans School', 'Abbey Gateway, St Albans AL3 4HB', 'office@stalbanssch.org.uk', 1727855521, 43000)\n",
      "(56000, 'St Augustine`s Catholic High School', 'Stonepits Ln, Redditch B97 5LX', 'reception@sta.magnificat.org.uk', 1527550400, 56000)\n",
      "(18000, 'St Paul`s Cathedral School', '2 New Change, London EC4M 9AD', 'admin@spcs@london.sch.uk', 2072485156, 18000)\n",
      "(25000, 'Stockport Grammar School', 'Buxton Road, Stockport SK2 7AF', 'sgs@stockportgrammar.co.uk', 1614569000, 25000)\n",
      "(53000, 'The Holy Cross School', 'Dean Lane, Bristol BS3 1DB', 'hxs@holycross.kingston.sch.uk', 1173772199, 53000)\n",
      "(19000, 'The King`s School, Chester', 'The Kings School Wrexham Road, Chester CH4 7QL', 'office@kingschester.co.uk', 1244689500, 19000)\n",
      "(51000, 'The Tiffin Girls School', 'Richmond Rd, London KT2 5PL', 'contact@tiffingirls.org', 2085460773, 51000)\n",
      "(11000, 'The University of Manchester', 'Sackville Building, Sackville Street, Manchester M1 3NJ', 'admin@manchester.ac.uk', 1612732996, 11000)\n",
      "(12000, 'University of Chester', 'Parkgate Road, Chester CH1 4BJ', 'helpdesk@chester.ac.uk', 1244511000, 12000)\n",
      "(13000, 'University of Exeter', 'Stocker Road, Exeter EX4 4PY', 'info@exeter.ac.uk', 1392661000, 13000)\n",
      "(14000, 'University of Leeds', 'Woodhouse Lane, Leeds LS2 9JT', 'info@leeds.ac.uk', 1132431751, 14000)\n",
      "(15000, 'University of Westminster', '309 Regent Street, London W1B 2HW', 'admin@westminster.ac.uk', 2079115000, 15000)\n",
      "(40000, 'Uppingham School', '20-24 High Street West, Uppingham LE15 9QE', 'pa@uppingham.co.uk', 1572822216, 40000)\n",
      "(46000, 'Wellington College', 'Wellington College Duke`s Ride CROWTHORNE Berkshire RG45 7PU', 'office@wellingtoncollege.org.uk', 1344444000, 46000)\n",
      "(50000, 'Wembley High Technology College', '2 Oldborough Road, Wembley HA0 3NT', 'admin@whtc.co.uk', 2083854800, 50000)\n",
      "(31000, 'Winchester College', 'Porters Lodge College Street, Winchester SO23 9NA', 'wincolloffice@wincoll.ac.uk', 1962621100, 31000)\n",
      "(26000, 'Wolverhampton Grammar School', 'Compton Road, Wolverhampton WV3 9RB', 'office@wgs-sch.net', 1902421326, 26000)\n",
      "(33000, 'Wycombe Abbey School', 'Wycombe Abbey School Abbey Way, High Wycombe HP11 1PE', 'office@wycombeabbey.com', 1494520381, 33000)\n"
     ]
    }
   ],
   "source": [
    "qry=\"select * from E_CUSTOMER order by custName;\"\n",
    "\n",
    "cur.execute(qry)\n",
    "rows=cur.fetchall()\n",
    "for row in rows:\n",
    "    print (row)\n",
    "        \n",
    "     \n"
   ]
  },
  {
   "cell_type": "code",
   "execution_count": 13,
   "metadata": {},
   "outputs": [
    {
     "name": "stdout",
     "output_type": "stream",
     "text": [
      "(17000, 'Abingdon School', 'Park Road, Abingdon OX14 1DE', 'reception@abingdon.org.uk', 1235521563, 17000)\n",
      "(1000, 'Bath Spa University', 'Newton Park, Newton St Loe, Bath BA2 9BN', 'maindesk@bathspa.ac.uk', 1225875875, 1000)\n",
      "(58000, 'Beacon Academy', 'North Beeches Road, Crowborough TN6 2AS', 'office@beaconacademy.co.uk', 1472328888, 58000)\n",
      "(49000, 'Canford School', 'Wimborne Minster BH21 3AD', 'office@canford.com', 1202847207, 49000)\n",
      "(3000, 'Cardiff University', 'Park Place, Cardiff CF10 3AT', 'office@cardiff.ac.uk', 2920874000, 3000)\n",
      "(44000, 'Caterham School', 'Caterham School Harestone Valley Road, Caterham CR3 6YA', 'pa@caterhamschool.co.uk', 1883343028, 44000)\n",
      "(42000, 'Cheltenham Ladies` College', 'Bayshill Road, Cheltenham GL50 3EP', 'enquiries@cheltladiescollege.org', 1242520691, 42000)\n",
      "(24000, 'City of London School', 'Queen Victoria Street, London EC4V 3AL', 'officr@cityoflondonschool.org.uk', 2036806314, 24000)\n",
      "(29000, 'Colchester High School', 'Wellesley Road, Colchester CO3 3HD', 'info@colchesterhighschool.co.uk', 1206217116, 29000)\n",
      "(32000, 'Concord College', 'Acton Burnell Hall, Shrewsbury SY5 7PF', 'office@concordcollege.org.uk', 1694731631, 32000)\n"
     ]
    }
   ],
   "source": [
    "qry=\"select * from E_CUSTOMER order by custName LIMIT 10;\"\n",
    "\n",
    "cur.execute(qry)\n",
    "rows=cur.fetchall()\n",
    "for row in rows:\n",
    "    print (row)"
   ]
  },
  {
   "cell_type": "code",
   "execution_count": 15,
   "metadata": {},
   "outputs": [
    {
     "name": "stdout",
     "output_type": "stream",
     "text": [
      "(1, 'Navy Blue Hoodie', 'Munti', 'navy blue', 32, 1000, 'Recyclable Paper', 1)\n",
      "(2, 'Grey Hoodie', 'Munti', 'grey', 32, 1000, 'Recyclable Paper', 1)\n",
      "(3, 'Red Hoodie', 'Munti', 'red', 32, 1000, 'Recyclable Paper', 1)\n",
      "(4, 'Olive Hoodie', 'Munti', 'olive', 32, 1000, 'Recylable Paper', 1)\n",
      "(5, 'Pink Hoodie', 'Munti', 'pink', 32, 1000, 'Recylable Paper', 1)\n",
      "(6, 'Purple Hoodie', 'Munti', 'purple', 32, 1000, 'Recylable Paper', 1)\n",
      "(7, 'Black Hoodie', 'Munti', 'black', 32, 1000, 'Recylable Paper', 1)\n",
      "(8, 'Burgundy Hoodie', 'Munti', 'burgundy', 32, 1000, 'Recylable Paper', 1)\n",
      "(9, 'Navy Blue Hoodie', 'Munti', 'navy blue', 34, 1000, 'Recyclable Paper', 1)\n",
      "(10, 'Grey Hoodie', 'Munti', 'grey', 34, 1000, 'Recyclable Paper', 1)\n",
      "(11, 'Red Hoodie', 'Munti', 'red', 34, 1000, 'Recyclable Paper', 1)\n",
      "(12, 'Olive Hoodie', 'Munti', 'olive', 34, 1000, 'Recylable Paper', 1)\n",
      "(13, 'Pink Hoodie', 'Munti', 'pink', 34, 1000, 'Recylable Paper', 1)\n",
      "(14, 'Purple Hoodie', 'Munti', 'purple', 34, 1000, 'Recylable Paper', 1)\n",
      "(15, 'Black Hoodie', 'Munti', 'black', 34, 1000, 'Recylable Paper', 1)\n",
      "(16, 'Burgundy Hoodie', 'Munti', 'burgundy', 34, 1000, 'Recylable Paper', 1)\n",
      "(17, 'Navy Blue Hoodie', 'Munti', 'navy blue', 36, 1000, 'Recyclable Paper', 1)\n",
      "(18, 'Grey Hoodie', 'Munti', 'grey', 36, 1000, 'Recyclable Paper', 1)\n",
      "(19, 'Red Hoodie', 'Munti', 'red', 36, 1000, 'Recyclable Paper', 1)\n",
      "(20, 'Olive Hoodie', 'Munti', 'olive', 36, 1000, 'Recylable Paper', 1)\n"
     ]
    }
   ],
   "source": [
    "qry=\"select * from E_INVENTORY order by invSize LIMIT 20;\"\n",
    "\n",
    "cur.execute(qry)\n",
    "rows=cur.fetchall()\n",
    "for row in rows:\n",
    "    print (row)"
   ]
  },
  {
   "cell_type": "code",
   "execution_count": 26,
   "metadata": {},
   "outputs": [
    {
     "name": "stdout",
     "output_type": "stream",
     "text": [
      "('Navy Blue Hoodie', 'navy blue', 32, 10000)\n",
      "('Grey Hoodie', 'grey', 32, 10000)\n",
      "('Red Hoodie', 'red', 32, 12000)\n",
      "('Olive Hoodie', 'olive', 32, 14000)\n",
      "('Pink Hoodie', 'pink', 32, 12000)\n",
      "('Purple Hoodie', 'purple', 32, 12000)\n",
      "('Black Hoodie', 'black', 32, 10000)\n",
      "('Burgundy Hoodie', 'burgundy', 32, 12000)\n",
      "('Navy Blue Hoodie', 'navy blue', 34, 10000)\n",
      "('Grey Hoodie', 'grey', 34, 10000)\n",
      "('Red Hoodie', 'red', 34, 12000)\n",
      "('Olive Hoodie', 'olive', 34, 14000)\n",
      "('Pink Hoodie', 'pink', 34, 12000)\n",
      "('Purple Hoodie', 'purple', 34, 12000)\n",
      "('Black Hoodie', 'black', 34, 10000)\n",
      "('Burgundy Hoodie', 'burgundy', 34, 12000)\n",
      "('Navy Blue Hoodie', 'navy blue', 36, 10000)\n",
      "('Grey Hoodie', 'grey', 36, 10000)\n",
      "('Red Hoodie', 'red', 36, 12000)\n",
      "('Olive Hoodie', 'olive', 36, 14000)\n",
      "('Pink Hoodie', 'pink', 36, 12000)\n",
      "('Purple Hoodie', 'purple', 36, 12000)\n",
      "('Black Hoodie', 'black', 36, 10000)\n",
      "('Burgundy Hoodie', 'burgundy', 36, 12000)\n",
      "('Navy Blue Hoodie', 'navy blue', 38, 10000)\n",
      "('Grey Hoodie', 'grey', 38, 10000)\n",
      "('Red Hoodie', 'red', 38, 12000)\n",
      "('Olive Hoodie', 'olive', 38, 14000)\n",
      "('Pink Hoodie', 'pink', 38, 12000)\n",
      "('Purple Hoodie', 'purple', 38, 12000)\n",
      "('Black Hoodie', 'black', 38, 10000)\n",
      "('Burgundy Hoodie', 'burgundy', 38, 12000)\n",
      "('Navy Blue Hoodie', 'navy blue', 40, 10000)\n",
      "('Grey Hoodie', 'grey', 40, 10000)\n",
      "('Red Hoodie', 'red', 40, 12000)\n",
      "('Olive Hoodie', 'olive', 40, 14000)\n",
      "('Pink Hoodie', 'pink', 40, 12000)\n",
      "('Purple Hoodie', 'purple', 40, 12000)\n",
      "('Black Hoodie', 'black', 40, 10000)\n",
      "('Burgundy Hoodie', 'burgundy', 40, 12000)\n",
      "('Navy Blue Hoodie', 'navy blue', 42, 10000)\n",
      "('Grey Hoodie', 'grey', 42, 10000)\n",
      "('Red Hoodie', 'red', 42, 12000)\n",
      "('Olive Hoodie', 'olive', 42, 14000)\n",
      "('Pink Hoodie', 'pink', 42, 12000)\n",
      "('Purple Hoodie', 'purple', 42, 12000)\n",
      "('Black Hoodie', 'black', 42, 10000)\n",
      "('Burgundy Hoodie', 'burgundy', 42, 12000)\n",
      "('Navy Blue Hoodie', 'navy blue', 44, 10000)\n",
      "('Grey Hoodie', 'grey', 44, 10000)\n",
      "('Red Hoodie', 'red', 44, 12000)\n",
      "('Olive Hoodie', 'olive', 44, 14000)\n",
      "('Pink Hoodie', 'pink', 44, 12000)\n",
      "('Purple Hoodie', 'purple', 44, 12000)\n",
      "('Black Hoodie', 'black', 44, 10000)\n",
      "('Burgundy Hoodie', 'burgundy', 44, 12000)\n"
     ]
    }
   ],
   "source": [
    "qry=\"select invName, invColour, invSize, invQuantity*invPrice as invValue from E_INVENTORY;\"\n",
    "\n",
    "cur.execute(qry)\n",
    "rows=cur.fetchall()\n",
    "for row in rows:\n",
    "    print (row)"
   ]
  },
  {
   "cell_type": "code",
   "execution_count": 27,
   "metadata": {},
   "outputs": [
    {
     "name": "stdout",
     "output_type": "stream",
     "text": [
      "(9, 'Henry', 'Clark', '14.10.1981', 'Manager', 'Henry9@hoodiesecommerce.com', 75000, '02.04.21', 1)\n"
     ]
    }
   ],
   "source": [
    "qry=\"select * from E_EMPLOYEE WHERE employeeSalary>26000;\"\n",
    "\n",
    "cur.execute(qry)\n",
    "rows=cur.fetchall()\n",
    "for row in rows:\n",
    "    print (row)"
   ]
  },
  {
   "cell_type": "code",
   "execution_count": 30,
   "metadata": {},
   "outputs": [
    {
     "name": "stdout",
     "output_type": "stream",
     "text": [
      "('Olivia', 'Brown', 'Warehouse Staff', 26000)\n",
      "('Sophia', 'Jones', 'Warehouse Staff', 26000)\n",
      "('Ruby', 'Mitchell', 'Warehouse Staff', 26000)\n",
      "('Henry', 'Clark', 'Manager', 75000)\n",
      "('Oliver', 'Clarke', 'Warehouse Staff', 26000)\n",
      "('Jack', 'Johnson', 'Warehouse Staff', 26000)\n",
      "('Charlie', 'Green', 'Warehouse Staff', 26000)\n",
      "('Joshua', 'Richardson', 'Warehouse Staff', 26000)\n",
      "('Freya', 'Brown', 'Warehouse Staff', 26000)\n",
      "('Daniel', 'Henderson', 'Warehouse Staff', 26000)\n",
      "('Sally', 'Duncan', 'Warehouse Staff', 26000)\n",
      "('Sven', 'King', 'Warehouse Staff', 26000)\n"
     ]
    }
   ],
   "source": [
    "qry=\"select employeeFirstName, employeeLastName, employeeType, employeeSalary from E_EMPLOYEE WHERE employeeSalary>=26000;\"\n",
    "\n",
    "cur.execute(qry)\n",
    "rows=cur.fetchall()\n",
    "for row in rows:\n",
    "    print (row)"
   ]
  },
  {
   "cell_type": "code",
   "execution_count": 32,
   "metadata": {},
   "outputs": [
    {
     "name": "stdout",
     "output_type": "stream",
     "text": [
      "('Isabella', 'James', 'Warehouse Staff', 'Isabella3@hoodiesecommerce.com', 21500)\n",
      "('Alice', 'Jones', 'Warehouse Staff', 'Alice5@hoodiesecommerce.com', 21500)\n",
      "('Isla', 'Campbell', 'Warehouse Staff', 'Isla6@hoodiesecommerce.com', 21500)\n",
      "('Liam', 'Scott', 'Warehouse Staff', 'Liam13@hoodiesecommerce.com', 21500)\n",
      "('Noah', 'Young', 'Warehouse Staff', 'Noah15@hoodiesecommerce.com', 21500)\n",
      "('Maya', 'Black', 'Warehouse Staff', 'Maya21@hoodiesecommerce.com', 21500)\n",
      "('Jennifer', 'Nicholson', 'Warehouse Staff', 'Jennifer23@hoodiesecommerce.com', 21500)\n",
      "('James', 'Ross', 'Warehouse Staff', 'James8@hoodiesecommerce.com', 24000)\n",
      "('Simon', 'Walker', 'Warehouse Staff', 'Simon14@hoodiesecommerce.com', 24000)\n",
      "('Logan', 'Pearson', 'Warehouse Staff', 'Logan16@hoodiesecommerce.com', 24000)\n",
      "('Grace', 'Mackay', 'Warehouse Staff', 'Grace19@hoodiesecommerce.com', 24000)\n",
      "('Michael', 'Davenport', 'Warehouse Staff', 'Michale24@hoodiesecommerce.com', 24000)\n",
      "('Richard', 'James', 'Warehouse Staff', 'Richard25@hoodiesecommerce.com', 24000)\n",
      "('Steven', 'Crawford', 'Warehouse Staff', 'Steven27@hoodiesecommerce.com', 24000)\n",
      "('Olivia', 'Brown', 'Warehouse Staff', 'Olivia1@hoodiesecommerce.com', 26000)\n",
      "('Sophia', 'Jones', 'Warehouse Staff', 'Sophia4@hoodiesecommerce.com', 26000)\n",
      "('Ruby', 'Mitchell', 'Warehouse Staff', 'Ruby7@hoodiesecommerce.com', 26000)\n",
      "('Oliver', 'Clarke', 'Warehouse Staff', 'Oliver10@hoodiesecommerce.com', 26000)\n",
      "('Jack', 'Johnson', 'Warehouse Staff', 'Jack12@hoodiesecommerce.com', 26000)\n",
      "('Charlie', 'Green', 'Warehouse Staff', 'Charlier17@hoodiesecommerce.com', 26000)\n",
      "('Joshua', 'Richardson', 'Warehouse Staff', 'Joshua18@hoodiesecommerce.com', 26000)\n",
      "('Freya', 'Brown', 'Warehouse Staff', 'Freya22@hoodiesecommerce.com', 26000)\n",
      "('Daniel', 'Henderson', 'Warehouse Staff', 'Daniel26@hoodiesecommerce.com', 26000)\n",
      "('Sally', 'Duncan', 'Warehouse Staff', 'Sally28@hoodiesecommerce.com', 26000)\n",
      "('Sven', 'King', 'Warehouse Staff', 'Sven30@hoodiesecommerce.com', 26000)\n"
     ]
    }
   ],
   "source": [
    "qry='''select employeeFirstName, employeeLastName, employeeType, employeeEmail, employeeSalary from E_EMPLOYEE \n",
    "WHERE employeeSalary BETWEEN 20000 and 26000\n",
    "ORDER BY employeeSalary;'''\n",
    "\n",
    "cur.execute(qry)\n",
    "rows=cur.fetchall()\n",
    "for row in rows:\n",
    "    print (row)"
   ]
  },
  {
   "cell_type": "code",
   "execution_count": 34,
   "metadata": {},
   "outputs": [
    {
     "name": "stdout",
     "output_type": "stream",
     "text": [
      "('Burgundy Hoodie', 'burgundy', 32, 12)\n",
      "('Burgundy Hoodie', 'burgundy', 34, 12)\n",
      "('Burgundy Hoodie', 'burgundy', 36, 12)\n",
      "('Burgundy Hoodie', 'burgundy', 38, 12)\n",
      "('Burgundy Hoodie', 'burgundy', 40, 12)\n",
      "('Burgundy Hoodie', 'burgundy', 42, 12)\n",
      "('Burgundy Hoodie', 'burgundy', 44, 12)\n",
      "('Navy Blue Hoodie', 'navy blue', 32, 10)\n",
      "('Navy Blue Hoodie', 'navy blue', 34, 10)\n",
      "('Navy Blue Hoodie', 'navy blue', 36, 10)\n",
      "('Navy Blue Hoodie', 'navy blue', 38, 10)\n",
      "('Navy Blue Hoodie', 'navy blue', 40, 10)\n",
      "('Navy Blue Hoodie', 'navy blue', 42, 10)\n",
      "('Navy Blue Hoodie', 'navy blue', 44, 10)\n"
     ]
    }
   ],
   "source": [
    "qry='''select invName, invColour, invSize,invPrice from E_INVENTORY \n",
    "WHERE invColour=\"navy blue\" OR invColour=\"burgundy\"\n",
    "ORDER BY invColour;'''\n",
    "\n",
    "cur.execute(qry)\n",
    "rows=cur.fetchall()\n",
    "for row in rows:\n",
    "    print (row)"
   ]
  },
  {
   "cell_type": "code",
   "execution_count": 35,
   "metadata": {},
   "outputs": [
    {
     "name": "stdout",
     "output_type": "stream",
     "text": [
      "('Grey Hoodie', 'grey', 32, 10)\n",
      "('Grey Hoodie', 'grey', 34, 10)\n",
      "('Grey Hoodie', 'grey', 36, 10)\n",
      "('Grey Hoodie', 'grey', 38, 10)\n",
      "('Grey Hoodie', 'grey', 40, 10)\n",
      "('Grey Hoodie', 'grey', 42, 10)\n",
      "('Grey Hoodie', 'grey', 44, 10)\n",
      "('Olive Hoodie', 'olive', 32, 14)\n",
      "('Olive Hoodie', 'olive', 34, 14)\n",
      "('Olive Hoodie', 'olive', 36, 14)\n",
      "('Olive Hoodie', 'olive', 38, 14)\n",
      "('Olive Hoodie', 'olive', 40, 14)\n",
      "('Olive Hoodie', 'olive', 42, 14)\n",
      "('Olive Hoodie', 'olive', 44, 14)\n"
     ]
    }
   ],
   "source": [
    "qry='''select invName, invColour, invSize,invPrice from E_INVENTORY \n",
    "WHERE invColour IN (\"olive\",\"grey\")\n",
    "ORDER BY invColour;'''\n",
    "\n",
    "cur.execute(qry)\n",
    "rows=cur.fetchall()\n",
    "for row in rows:\n",
    "    print (row)"
   ]
  },
  {
   "cell_type": "code",
   "execution_count": 37,
   "metadata": {},
   "outputs": [
    {
     "name": "stdout",
     "output_type": "stream",
     "text": [
      "(17000, 'Abingdon School', 'Park Road, Abingdon OX14 1DE', 'reception@abingdon.org.uk', 1235521563, 17000)\n",
      "(49000, 'Canford School', 'Wimborne Minster BH21 3AD', 'office@canford.com', 1202847207, 49000)\n",
      "(44000, 'Caterham School', 'Caterham School Harestone Valley Road, Caterham CR3 6YA', 'pa@caterhamschool.co.uk', 1883343028, 44000)\n",
      "(24000, 'City of London School', 'Queen Victoria Street, London EC4V 3AL', 'officr@cityoflondonschool.org.uk', 2036806314, 24000)\n",
      "(29000, 'Colchester High School', 'Wellesley Road, Colchester CO3 3HD', 'info@colchesterhighschool.co.uk', 1206217116, 29000)\n",
      "(54000, 'Dartford Grammar School for Girls', '65 Shepherds Lane, Dartford DA1 2NT', 'info@dartfordgrammarschool.org.uk', 1322223123, 54000)\n",
      "(28000, 'Dolphin School', '25a Bath Buildings, Bristol BS6 5PT', 'receptionist@dolphinschool.org.uk', 2079243472, 28000)\n",
      "(20000, 'Exeter Cathedral School', 'The Chantry, Exeter EX1 1HX', 'reception@exetercs.org', 1392255298, 20000)\n",
      "(59000, 'Featherstone High School', '11 Montague Waye, Southall UB2 5HF', 'info@featherstonehigh.ealing.sch.uk', 2088430984, 59000)\n",
      "(47000, 'Francis Holland School', '39 Graham Terrace, London SW1W 8JF', 'office@fhs.com', 2077308359, 47000)\n",
      "(37000, 'Godolphin & Latymer School', 'Godolphin Caretakers Lodge Iffley Road, Hammersmith W6 0PG', 'office@godolphinandlatymer.com', 2087411936, 37000)\n",
      "(35000, 'Hampton School', 'Hanworth Road, Hampton TW12 3HD', 'info@hamptonschool.org.uk', 2089795526, 35000)\n",
      "(36000, 'Highgate School', 'North Road, London N6 4AY', 'communications@highgateschool.org.uk', 2083401524, 36000)\n",
      "(30000, 'Hydesville Tower School', '25 Broadway North, Walsall WS1 2QG', 'info@hydesville.com', 1922624374, 30000)\n",
      "(45000, 'Latymer Upper School', '237 King Street, London W6 9LR', 'office@latymer-upper.org.', 2086292024, 45000)\n",
      "(39000, 'Loughborough High School', '3 Burton Walks, Loughborough LE11 2DU', 'office@lhs.com', 1509212348, 39000)\n",
      "(34000, 'Manchester High School for Girls', 'Grangethorpe Road, Manchester M14 6HS', 'administration@mhsg.manchester.sch.uk', 1612240447, 34000)\n",
      "(60000, 'Manor High School', '3 Severn Road, Oadby LE2 4FU', 'admin@oaktrust.org', 1162714941, 60000)\n",
      "(38000, 'Merchant Taylors` School', 'Sandy Lodge, Rickmansworth HA6 2HT', 'infomtgs@merchanttaylors.com', 1923820644, 38000)\n",
      "(21000, 'Oswestry School', 'Upper Brook Street, Oswestry SY11 2TL', 'admin@oswestryschool.com', 1691655711, 21000)\n",
      "(57000, 'Sacred Heart Catholic School', 'Camberwell New Road, London SE5 0RP', 'office@sacredheart.southwark.sch.uk', 2072746844, 57000)\n",
      "(22000, 'Sevenoaks School', 'High Street, Sevenoaks TN13 1HU', 'admin@sevenoaksschool.org', 1732467703, 22000)\n",
      "(16000, 'Sherborne School', 'Abbey Road, Sherborne DT9 3AP', 'enquiries@sherborne.org', 1935812249, 16000)\n",
      "(27000, 'Shrewsbury School', '11 Ashton Road, Shrewsbury SY3 7BA', 'reception@shrewsbury.org.uk', 1743280500, 27000)\n",
      "(43000, 'St Albans School', 'Abbey Gateway, St Albans AL3 4HB', 'office@stalbanssch.org.uk', 1727855521, 43000)\n",
      "(56000, 'St Augustine`s Catholic High School', 'Stonepits Ln, Redditch B97 5LX', 'reception@sta.magnificat.org.uk', 1527550400, 56000)\n",
      "(18000, 'St Paul`s Cathedral School', '2 New Change, London EC4M 9AD', 'admin@spcs@london.sch.uk', 2072485156, 18000)\n",
      "(25000, 'Stockport Grammar School', 'Buxton Road, Stockport SK2 7AF', 'sgs@stockportgrammar.co.uk', 1614569000, 25000)\n",
      "(53000, 'The Holy Cross School', 'Dean Lane, Bristol BS3 1DB', 'hxs@holycross.kingston.sch.uk', 1173772199, 53000)\n",
      "(19000, 'The King`s School, Chester', 'The Kings School Wrexham Road, Chester CH4 7QL', 'office@kingschester.co.uk', 1244689500, 19000)\n",
      "(51000, 'The Tiffin Girls School', 'Richmond Rd, London KT2 5PL', 'contact@tiffingirls.org', 2085460773, 51000)\n",
      "(40000, 'Uppingham School', '20-24 High Street West, Uppingham LE15 9QE', 'pa@uppingham.co.uk', 1572822216, 40000)\n",
      "(26000, 'Wolverhampton Grammar School', 'Compton Road, Wolverhampton WV3 9RB', 'office@wgs-sch.net', 1902421326, 26000)\n",
      "(33000, 'Wycombe Abbey School', 'Wycombe Abbey School Abbey Way, High Wycombe HP11 1PE', 'office@wycombeabbey.com', 1494520381, 33000)\n"
     ]
    }
   ],
   "source": [
    "qry='''select * from E_CUSTOMER\n",
    "WHERE custName LIKE '%School%'\n",
    "ORDER BY custName;'''\n",
    "\n",
    "cur.execute(qry)\n",
    "rows=cur.fetchall()\n",
    "for row in rows:\n",
    "    print (row)"
   ]
  },
  {
   "cell_type": "code",
   "execution_count": 38,
   "metadata": {},
   "outputs": [
    {
     "name": "stdout",
     "output_type": "stream",
     "text": [
      "(1000, 'Bath Spa University', 'Newton Park, Newton St Loe, Bath BA2 9BN', 'maindesk@bathspa.ac.uk', 1225875875, 1000)\n",
      "(3000, 'Cardiff University', 'Park Place, Cardiff CF10 3AT', 'office@cardiff.ac.uk', 2920874000, 3000)\n",
      "(4000, 'Durham University', 'The Palatine Centre, Stockton Road, Durham DH1 3LE', 'services@durham.ac.uk', 1913342000, 4000)\n",
      "(5000, 'Heriot Watt University', 'The Avenue, Edinburgh EH14 4AS', 'info@hw.ac.uk', 1314495111, 5000)\n",
      "(6000, 'Keele University', 'Keele Road, Keele ST5 5BG', 'reception@keele.ac.uk', 1782733937, 6000)\n",
      "(7000, 'Lancaster University', 'Bailrigg, Lancaster LA1 4YX, Lancaster', 'info@lancaster.ac.uk', 152459028, 7000)\n",
      "(8000, 'Manchester Metropolitan University', 'All Saints Building, All Saints, Manchester M15 6BH', 'office@mmu.ac.uk', 1612472186, 8000)\n",
      "(9000, 'Newcastle University', 'Northern Stage, Newcastle Upon Tyne NE1 7RU', 'admin@ncl.ac.uk', 1912086000, 9000)\n",
      "(10000, 'Oxford Brookers University', 'John Radcliffe Hospital, Headley Way, Oxford OX3 9DU', 'admin@brookes.ac.uk', 1865484848, 10000)\n",
      "(2000, 'Southampton University', 'Highfield Campus University Road, Southampton SO17 1BJ', 'admin@southampton.ac.uk', 1225785875, 2000)\n",
      "(11000, 'The University of Manchester', 'Sackville Building, Sackville Street, Manchester M1 3NJ', 'admin@manchester.ac.uk', 1612732996, 11000)\n",
      "(12000, 'University of Chester', 'Parkgate Road, Chester CH1 4BJ', 'helpdesk@chester.ac.uk', 1244511000, 12000)\n",
      "(13000, 'University of Exeter', 'Stocker Road, Exeter EX4 4PY', 'info@exeter.ac.uk', 1392661000, 13000)\n",
      "(14000, 'University of Leeds', 'Woodhouse Lane, Leeds LS2 9JT', 'info@leeds.ac.uk', 1132431751, 14000)\n",
      "(15000, 'University of Westminster', '309 Regent Street, London W1B 2HW', 'admin@westminster.ac.uk', 2079115000, 15000)\n"
     ]
    }
   ],
   "source": [
    "qry='''select * from E_CUSTOMER\n",
    "WHERE custName LIKE '%University%'\n",
    "ORDER BY custName;'''\n",
    "\n",
    "cur.execute(qry)\n",
    "rows=cur.fetchall()\n",
    "for row in rows:\n",
    "    print (row)"
   ]
  },
  {
   "cell_type": "code",
   "execution_count": 44,
   "metadata": {},
   "outputs": [
    {
     "name": "stdout",
     "output_type": "stream",
     "text": [
      "(12, 361000)\n"
     ]
    }
   ],
   "source": [
    "qry='''select COUNT (employeeID) AS totalStaff,\n",
    "SUM(employeeSalary) AS totalSalary\n",
    "FROM E_EMPLOYEE\n",
    "WHERE employeeSalary >=26000;'''\n",
    "\n",
    "cur.execute(qry)\n",
    "rows=cur.fetchall()\n",
    "for row in rows:\n",
    "    print (row)"
   ]
  },
  {
   "cell_type": "code",
   "execution_count": 47,
   "metadata": {},
   "outputs": [
    {
     "name": "stdout",
     "output_type": "stream",
     "text": [
      "(19500, 75000, 25250.0)\n"
     ]
    }
   ],
   "source": [
    "qry='''select MIN (employeeSalary) AS minSalary, MAX (employeeSalary) AS maxSalary, AVG (employeeSalary) AS averageSalary\n",
    "FROM E_EMPLOYEE;'''\n",
    "\n",
    "cur.execute(qry)\n",
    "rows=cur.fetchall()\n",
    "for row in rows:\n",
    "    print (row)"
   ]
  },
  {
   "cell_type": "code",
   "execution_count": 48,
   "metadata": {},
   "outputs": [
    {
     "name": "stdout",
     "output_type": "stream",
     "text": [
      "('Black Hoodie', 7)\n",
      "('Burgundy Hoodie', 7)\n",
      "('Grey Hoodie', 7)\n",
      "('Navy Blue Hoodie', 7)\n",
      "('Olive Hoodie', 7)\n",
      "('Pink Hoodie', 7)\n",
      "('Purple Hoodie', 7)\n",
      "('Red Hoodie', 7)\n"
     ]
    }
   ],
   "source": [
    "qry='''select invName, COUNT (invID)\n",
    "FROM E_INVENTORY\n",
    "GROUP BY invName;'''\n",
    "\n",
    "cur.execute(qry)\n",
    "rows=cur.fetchall()\n",
    "for row in rows:\n",
    "    print (row)"
   ]
  },
  {
   "cell_type": "code",
   "execution_count": 49,
   "metadata": {},
   "outputs": [
    {
     "name": "stdout",
     "output_type": "stream",
     "text": [
      "('Manager', 1)\n",
      "('Warehouse Staff', 29)\n"
     ]
    }
   ],
   "source": [
    "qry='''select employeeType, COUNT (employeeID)\n",
    "FROM E_EMPLOYEE\n",
    "GROUP BY employeeType;'''\n",
    "\n",
    "cur.execute(qry)\n",
    "rows=cur.fetchall()\n",
    "for row in rows:\n",
    "    print (row)"
   ]
  },
  {
   "cell_type": "code",
   "execution_count": 7,
   "metadata": {},
   "outputs": [
    {
     "name": "stdout",
     "output_type": "stream",
     "text": [
      "(10001, 'DPD')\n",
      "(10002, 'DPD')\n",
      "(10003, 'Royal Mail')\n",
      "(10004, 'DPD')\n",
      "(10005, 'DPD')\n",
      "(10006, 'Royal Mail')\n",
      "(10007, 'Royal Mail')\n",
      "(10008, 'Royal Mail')\n",
      "(10009, 'DPD')\n",
      "(10010, 'Royal Mail')\n",
      "(10011, 'Royal Mail')\n",
      "(10012, 'Royal Mail')\n",
      "(10013, 'DPD')\n",
      "(10014, 'DPD')\n",
      "(10015, 'DPD')\n",
      "(10016, 'DPD')\n",
      "(10017, 'Royal Mail')\n",
      "(10018, 'Royal Mail')\n",
      "(10019, 'Royal Mail')\n",
      "(10020, 'DPD')\n",
      "(10021, 'Royal Mail')\n",
      "(10022, 'DPD')\n",
      "(10023, 'DPD')\n",
      "(10024, 'DPD')\n",
      "(10025, 'Royal Mail')\n",
      "(10026, 'Royal Mail')\n",
      "(10027, 'Royal Mail')\n",
      "(10028, 'Royal Mail')\n",
      "(10029, 'DPD')\n",
      "(10030, 'DPD')\n",
      "(10031, 'DPD')\n",
      "(10032, 'DPD')\n",
      "(10033, 'Royal Mail')\n",
      "(10034, 'Royal Mail')\n",
      "(10035, 'Royal Mail')\n",
      "(10036, 'Royal Mail')\n",
      "(10037, 'Royal Mail')\n",
      "(10038, 'Royal Mail')\n",
      "(10039, 'DPD')\n",
      "(10040, 'DPD')\n",
      "(10041, 'DPD')\n",
      "(10042, 'Royal Mail')\n",
      "(10043, 'DPD')\n",
      "(10044, 'DPD')\n",
      "(10045, 'DPD')\n",
      "(10046, 'Royal Mail')\n",
      "(10047, 'Royal Mail')\n",
      "(10048, 'DPD')\n",
      "(10049, 'Royal Mail')\n",
      "(10050, 'DPD')\n",
      "(10051, 'Royal Mail')\n",
      "(10052, 'Royal Mail')\n",
      "(10053, 'DPD')\n",
      "(10054, 'DPD')\n",
      "(10055, 'Royal Mail')\n",
      "(10056, 'Royal Mail')\n",
      "(10057, 'DPD')\n",
      "(10058, 'Royal Mail')\n",
      "(10059, 'DPD')\n",
      "(10060, 'Royal Mail')\n"
     ]
    }
   ],
   "source": [
    "qry='''select E_DELIVERYINFO.delID, E_COURIER.courierName\n",
    "FROM E_DELIVERYINFO\n",
    "INNER JOIN E_COURIER ON E_DELIVERYINFO.courierID = E_COURIER.courierID;'''\n",
    "\n",
    "cur.execute(qry)\n",
    "rows=cur.fetchall()\n",
    "for row in rows:\n",
    "    print (row)"
   ]
  },
  {
   "cell_type": "code",
   "execution_count": 8,
   "metadata": {},
   "outputs": [
    {
     "name": "stdout",
     "output_type": "stream",
     "text": [
      "(10001, 1000, 'DPD')\n",
      "(10002, 3000, 'DPD')\n",
      "(10003, 2000, 'Royal Mail')\n",
      "(10004, 4000, 'DPD')\n",
      "(10005, 5000, 'DPD')\n",
      "(10006, 6000, 'Royal Mail')\n",
      "(10007, 7000, 'Royal Mail')\n",
      "(10008, 8000, 'Royal Mail')\n",
      "(10009, 10000, 'DPD')\n",
      "(10010, 9000, 'Royal Mail')\n",
      "(10011, 11000, 'Royal Mail')\n",
      "(10012, 12000, 'Royal Mail')\n",
      "(10013, 14000, 'DPD')\n",
      "(10014, 15000, 'DPD')\n",
      "(10015, 16000, 'DPD')\n",
      "(10016, 17000, 'DPD')\n",
      "(10017, 19000, 'Royal Mail')\n",
      "(10018, 18000, 'Royal Mail')\n",
      "(10019, 13000, 'Royal Mail')\n",
      "(10020, 21000, 'DPD')\n",
      "(10021, 20000, 'Royal Mail')\n",
      "(10022, 22000, 'DPD')\n",
      "(10023, 25000, 'DPD')\n",
      "(10024, 24000, 'DPD')\n",
      "(10025, 23000, 'Royal Mail')\n",
      "(10026, 26000, 'Royal Mail')\n",
      "(10027, 27000, 'Royal Mail')\n",
      "(10028, 28000, 'Royal Mail')\n",
      "(10029, 32000, 'DPD')\n",
      "(10030, 33000, 'DPD')\n",
      "(10031, 31000, 'DPD')\n",
      "(10032, 30000, 'DPD')\n",
      "(10033, 29000, 'Royal Mail')\n",
      "(10034, 35000, 'Royal Mail')\n",
      "(10035, 34000, 'Royal Mail')\n",
      "(10036, 36000, 'Royal Mail')\n",
      "(10037, 37000, 'Royal Mail')\n",
      "(10038, 42000, 'Royal Mail')\n",
      "(10039, 40000, 'DPD')\n",
      "(10040, 41000, 'DPD')\n",
      "(10041, 39000, 'DPD')\n",
      "(10042, 38000, 'Royal Mail')\n",
      "(10043, 43000, 'DPD')\n",
      "(10044, 44000, 'DPD')\n",
      "(10045, 45000, 'DPD')\n",
      "(10046, 46000, 'Royal Mail')\n",
      "(10047, 47000, 'Royal Mail')\n",
      "(10048, 48000, 'DPD')\n",
      "(10049, 50000, 'Royal Mail')\n",
      "(10050, 51000, 'DPD')\n",
      "(10051, 52000, 'Royal Mail')\n",
      "(10052, 49000, 'Royal Mail')\n",
      "(10053, 54000, 'DPD')\n",
      "(10054, 53000, 'DPD')\n",
      "(10055, 55000, 'Royal Mail')\n",
      "(10056, 57000, 'Royal Mail')\n",
      "(10057, 56000, 'DPD')\n",
      "(10058, 60000, 'Royal Mail')\n",
      "(10059, 59000, 'DPD')\n",
      "(10060, 58000, 'Royal Mail')\n"
     ]
    }
   ],
   "source": [
    "qry='''select E_DELIVERYINFO.delID, E_DELIVERYINFO.custID, E_COURIER.courierName\n",
    "FROM E_DELIVERYINFO\n",
    "INNER JOIN E_COURIER ON E_DELIVERYINFO.courierID = E_COURIER.courierID;'''\n",
    "\n",
    "cur.execute(qry)\n",
    "rows=cur.fetchall()\n",
    "for row in rows:\n",
    "    print (row)"
   ]
  },
  {
   "cell_type": "code",
   "execution_count": 11,
   "metadata": {},
   "outputs": [
    {
     "name": "stdout",
     "output_type": "stream",
     "text": [
      "(10001, 'Bath Spa University', 'DPD')\n",
      "(10002, 'Cardiff University', 'DPD')\n",
      "(10003, 'Southampton University', 'Royal Mail')\n",
      "(10004, 'Durham University', 'DPD')\n",
      "(10005, 'Heriot Watt University', 'DPD')\n",
      "(10006, 'Keele University', 'Royal Mail')\n",
      "(10007, 'Lancaster University', 'Royal Mail')\n",
      "(10008, 'Manchester Metropolitan University', 'Royal Mail')\n",
      "(10009, 'Oxford Brookers University', 'DPD')\n",
      "(10010, 'Newcastle University', 'Royal Mail')\n",
      "(10011, 'The University of Manchester', 'Royal Mail')\n",
      "(10012, 'University of Chester', 'Royal Mail')\n",
      "(10013, 'University of Leeds', 'DPD')\n",
      "(10014, 'University of Westminster', 'DPD')\n",
      "(10015, 'Sherborne School', 'DPD')\n",
      "(10016, 'Abingdon School', 'DPD')\n",
      "(10017, 'The King`s School, Chester', 'Royal Mail')\n",
      "(10018, 'St Paul`s Cathedral School', 'Royal Mail')\n",
      "(10019, 'University of Exeter', 'Royal Mail')\n",
      "(10020, 'Oswestry School', 'DPD')\n",
      "(10021, 'Exeter Cathedral School', 'Royal Mail')\n",
      "(10022, 'Sevenoaks School', 'DPD')\n",
      "(10023, 'Stockport Grammar School', 'DPD')\n",
      "(10024, 'City of London School', 'DPD')\n",
      "(10025, 'Eton College', 'Royal Mail')\n",
      "(10026, 'Wolverhampton Grammar School', 'Royal Mail')\n",
      "(10027, 'Shrewsbury School', 'Royal Mail')\n",
      "(10028, 'Dolphin School', 'Royal Mail')\n",
      "(10029, 'Concord College', 'DPD')\n",
      "(10030, 'Wycombe Abbey School', 'DPD')\n",
      "(10031, 'Winchester College', 'DPD')\n",
      "(10032, 'Hydesville Tower School', 'DPD')\n",
      "(10033, 'Colchester High School', 'Royal Mail')\n",
      "(10034, 'Hampton School', 'Royal Mail')\n",
      "(10035, 'Manchester High School for Girls', 'Royal Mail')\n",
      "(10036, 'Highgate School', 'Royal Mail')\n",
      "(10037, 'Godolphin & Latymer School', 'Royal Mail')\n",
      "(10038, 'Cheltenham Ladies` College', 'Royal Mail')\n",
      "(10039, 'Uppingham School', 'DPD')\n",
      "(10040, 'Radley College', 'DPD')\n",
      "(10041, 'Loughborough High School', 'DPD')\n",
      "(10042, 'Merchant Taylors` School', 'Royal Mail')\n",
      "(10043, 'St Albans School', 'DPD')\n",
      "(10044, 'Caterham School', 'DPD')\n",
      "(10045, 'Latymer Upper School', 'DPD')\n",
      "(10046, 'Wellington College', 'Royal Mail')\n",
      "(10047, 'Francis Holland School', 'Royal Mail')\n",
      "(10048, 'Mayfield', 'DPD')\n",
      "(10049, 'Wembley High Technology College', 'Royal Mail')\n",
      "(10050, 'The Tiffin Girls School', 'DPD')\n",
      "(10051, 'Magna Academy', 'Royal Mail')\n",
      "(10052, 'Canford School', 'Royal Mail')\n",
      "(10053, 'Dartford Grammar School for Girls', 'DPD')\n",
      "(10054, 'The Holy Cross School', 'DPD')\n",
      "(10055, 'London Academy', 'Royal Mail')\n",
      "(10056, 'Sacred Heart Catholic School', 'Royal Mail')\n",
      "(10057, 'St Augustine`s Catholic High School', 'DPD')\n",
      "(10058, 'Manor High School', 'Royal Mail')\n",
      "(10059, 'Featherstone High School', 'DPD')\n",
      "(10060, 'Beacon Academy', 'Royal Mail')\n"
     ]
    }
   ],
   "source": [
    "qry='''select E_DELIVERYINFO.delID, E_CUSTOMER.custName, E_COURIER.courierName\n",
    "FROM ((E_DELIVERYINFO\n",
    "INNER JOIN E_COURIER ON E_DELIVERYINFO.courierID = E_COURIER.courierID)\n",
    "INNER JOIN E_CUSTOMER ON E_DELIVERYINFO.custID = E_CUSTOMER.custID);'''\n",
    "\n",
    "cur.execute(qry)\n",
    "rows=cur.fetchall()\n",
    "for row in rows:\n",
    "    print (row)"
   ]
  },
  {
   "cell_type": "code",
   "execution_count": null,
   "metadata": {},
   "outputs": [],
   "source": [
    "qry='''select E_DELIVERYINFO.delID, E_CUSTOMER.custName, E_COURIER.courierName\n",
    "FROM ((E_DELIVERYINFO\n",
    "INNER JOIN E_COURIER ON E_DELIVERYINFO.courierID = E_COURIER.courierID)\n",
    "INNER JOIN E_CUSTOMER ON E_DELIVERYINFO.custID = E_CUSTOMER.custID);'''\n",
    "\n",
    "cur.execute(qry)\n",
    "rows=cur.fetchall()\n",
    "for row in rows:\n",
    "    print (row)"
   ]
  },
  {
   "cell_type": "code",
   "execution_count": null,
   "metadata": {},
   "outputs": [],
   "source": []
  },
  {
   "cell_type": "code",
   "execution_count": 5,
   "metadata": {},
   "outputs": [
    {
     "name": "stdout",
     "output_type": "stream",
     "text": [
      "True\n"
     ]
    }
   ],
   "source": [
    "# Import Redis package\n",
    "import redis\n",
    "\n",
    "# Main class Redis() which you use to execute Redis commands (the port and db=0 are default values)\n",
    "# Localhost = 127.0.0.1\n",
    "r = redis.Redis(host='localhost', port=6379, db=11)\n",
    "\n",
    "# Check database connection -will return true if successful\n",
    "print(r.ping())"
   ]
  },
  {
   "cell_type": "code",
   "execution_count": 6,
   "metadata": {},
   "outputs": [],
   "source": [
    "import random\n",
    "\n",
    "\n",
    "# Redis hash of field-value pairs is used. Each has has a key that with an integer (we are importing random())\n",
    "random.seed(203)\n",
    "\n",
    "# The prefix SGU creates a namespace. We are only selling Mugs (SGU:Mugs)\n",
    "\n",
    "SGU_hoodies = {f\"SGU_Hoodie:{random.getrandbits(32)}\": i for i in (\n",
    "    {\n",
    "        \"color\": \"navy blue\",\n",
    "        \"price\": 10.0,\n",
    "        \"size\": 32,\n",
    "        \"quantity\": 1000,\n",
    "        \"npurchased\": 0,\n",
    "    },\n",
    "    {\n",
    "        \"color\": \"olive\",\n",
    "        \"price\": 14.0,\n",
    "        \"size\": 32,\n",
    "        \"quantity\": 1000,\n",
    "        \"npurchased\": 0,\n",
    "    },\n",
    "    {\n",
    "        \"color\": \"burgundy\",\n",
    "        \"price\": 12.0,\n",
    "        \"size\": 32,\n",
    "        \"quantity\": 1000,\n",
    "        \"npurchased\": 0,\n",
    "    },\n",
    "    {\n",
    "        \"color\": \"purple\",\n",
    "        \"price\": 12.0,\n",
    "        \"size\": 32,\n",
    "        \"quantity\": 1000,\n",
    "        \"npurchased\": 0,\n",
    "    },\n",
    "    {\n",
    "         \"color\": \"grey\",\n",
    "        \"price\": 10.0,\n",
    "        \"size\": 32,\n",
    "        \"quantity\": 1000,\n",
    "        \"npurchased\": 0,\n",
    "    },\n",
    "    {\n",
    "         \"color\": \"grey\",\n",
    "        \"price\": 10.0,\n",
    "        \"size\": 34,\n",
    "        \"quantity\": 1000,\n",
    "        \"npurchased\": 0,\n",
    "    },\n",
    "     {\n",
    "         \"color\": \"navy blue\",\n",
    "        \"price\": 10.0,\n",
    "        \"size\": 34,\n",
    "        \"quantity\": 1000,\n",
    "        \"npurchased\": 0,    \n",
    "      },\n",
    "     {\n",
    "         \"color\": \"olive\",\n",
    "        \"price\": 14.0,\n",
    "        \"size\": 34,\n",
    "        \"quantity\": 1000,\n",
    "        \"npurchased\": 0, \n",
    "       },\n",
    "     {\n",
    "         \"color\": \"burgundy\",\n",
    "        \"price\": 12.0,\n",
    "        \"size\": 34,\n",
    "        \"quantity\": 1000,\n",
    "        \"npurchased\": 0, \n",
    "     },\n",
    "     {\n",
    "         \"color\": \"purple\",\n",
    "        \"price\": 12.0,\n",
    "        \"size\": 34,\n",
    "        \"quantity\": 1000,\n",
    "        \"npurchased\": 0, \n",
    "      })\n",
    "}\n",
    "\n"
   ]
  },
  {
   "cell_type": "code",
   "execution_count": 7,
   "metadata": {},
   "outputs": [],
   "source": [
    "r7 = redis.Redis(db=15)"
   ]
  },
  {
   "cell_type": "code",
   "execution_count": 8,
   "metadata": {},
   "outputs": [
    {
     "name": "stderr",
     "output_type": "stream",
     "text": [
      "E:\\Anaconda\\lib\\site-packages\\ipykernel_launcher.py:7: DeprecationWarning: Pipeline.hmset() is deprecated. Use Pipeline.hset() instead.\n",
      "  import sys\n"
     ]
    }
   ],
   "source": [
    "# Adding data to database using HMSET\n",
    "\n",
    "\n",
    "\n",
    "with r7.pipeline() as pipe:\n",
    "    for hoodie_id, SGU_Hoodie in SGU_hoodies.items():\n",
    "            pipe.hmset(hoodie_id, SGU_Hoodie)   \n",
    "    pipe.execute()"
   ]
  },
  {
   "cell_type": "code",
   "execution_count": 9,
   "metadata": {},
   "outputs": [
    {
     "data": {
      "text/plain": [
       "True"
      ]
     },
     "execution_count": 9,
     "metadata": {},
     "output_type": "execute_result"
    }
   ],
   "source": [
    "r7.bgsave()"
   ]
  },
  {
   "cell_type": "code",
   "execution_count": 10,
   "metadata": {},
   "outputs": [
    {
     "data": {
      "text/plain": [
       "[b'SGU_Hoodie:3965353997',\n",
       " b'SGU_Hoodie:3616826228',\n",
       " b'SGU_Hoodie:389803428',\n",
       " b'SGU_Hoodie:4263924357',\n",
       " b'SGU_Hoodie:181884854',\n",
       " b'SGU_Hoodie:913240761',\n",
       " b'SGU_Hoodie:3348737914',\n",
       " b'SGU_Hoodie:2578922745',\n",
       " b'SGU_Hoodie:123863805',\n",
       " b'SGU_Hoodie:2113567782']"
      ]
     },
     "execution_count": 10,
     "metadata": {},
     "output_type": "execute_result"
    }
   ],
   "source": [
    "r7.keys(\"SGU_Hoodie*\")"
   ]
  },
  {
   "cell_type": "code",
   "execution_count": 11,
   "metadata": {},
   "outputs": [
    {
     "name": "stdout",
     "output_type": "stream",
     "text": [
      "{b'color': b'grey', b'price': b'10.0', b'size': b'34', b'quantity': b'1000', b'npurchased': b'0'}\n"
     ]
    }
   ],
   "source": [
    "print(r7.hgetall(\"SGU_Hoodie:3965353997\"))"
   ]
  },
  {
   "cell_type": "code",
   "execution_count": 13,
   "metadata": {},
   "outputs": [
    {
     "data": {
      "text/plain": [
       "-1"
      ]
     },
     "execution_count": 13,
     "metadata": {},
     "output_type": "execute_result"
    }
   ],
   "source": [
    "# If item is in stock, increase its npurchased by 1 and decrease its quantity (inventory) by 1.\n",
    "\n",
    "r7.hincrby(\"SGU__Hoodie:3965353997\", \"npurchased\", 1)\n",
    "r7.hincrby(\"SGU__Hoodie:3965353997\", \"quantity\", -1)"
   ]
  },
  {
   "cell_type": "code",
   "execution_count": 12,
   "metadata": {},
   "outputs": [
    {
     "data": {
      "text/plain": [
       "-1"
      ]
     },
     "execution_count": 12,
     "metadata": {},
     "output_type": "execute_result"
    }
   ],
   "source": [
    "r7.hincrby(\"SGU__Hoodie:3616826228\", \"npurchased\", 1)\n",
    "r7.hincrby(\"SGU__Hoodie:3616826228\", \"quantity\", -1)\n",
    "r7.hincrby(\"SGU__Hoodie:389803428\", \"npurchased\", 1)\n",
    "r7.hincrby(\"SGU__Hoodie:389803428\", \"quantity\", -1)\n",
    "r7.hincrby(\"SGU__Hoodie:4263924357\", \"npurchased\", 1)\n",
    "r7.hincrby(\"SGU__Hoodie:4263924357\", \"quantity\", -1)\n",
    "r7.hincrby(\"SGU__Hoodie:181884854\", \"npurchased\", 1)\n",
    "r7.hincrby(\"SGU__Hoodie:181884854\", \"quantity\", -1)\n",
    "r7.hincrby(\"SGU__Hoodie:913240761\", \"npurchased\", 1)\n",
    "r7.hincrby(\"SGU__Hoodie:913240761\", \"quantity\", -1)\n",
    "r7.hincrby(\"SGU__Hoodie:3348737914\", \"npurchased\", 1)\n",
    "r7.hincrby(\"SGU__Hoodie:3348737914\", \"quantity\", -1)\n",
    "r7.hincrby(\"SGU__Hoodie:2578922745\", \"npurchased\", 1)\n",
    "r7.hincrby(\"SGU__Hoodie:2578922745\", \"quantity\", -1)\n",
    "r7.hincrby(\"SGU__Hoodie:123863805\", \"npurchased\", 1)\n",
    "r7.hincrby(\"SGU__Hoodie:123863805\", \"quantity\", -1)\n",
    "r7.hincrby(\"SGU__Hoodie:2113567782\", \"npurchased\", 1)\n",
    "r7.hincrby(\"SGU__Hoodie:2113567782\", \"quantity\", -1)"
   ]
  },
  {
   "cell_type": "code",
   "execution_count": 14,
   "metadata": {},
   "outputs": [
    {
     "name": "stdout",
     "output_type": "stream",
     "text": [
      "b'0'\n",
      "b'1000'\n"
     ]
    }
   ],
   "source": [
    "# View values\n",
    "\n",
    "print(r7.hget(\"SGU_Hoodie:3965353997\", \"npurchased\"))\n",
    "print(r7.hget(\"SGU_Hoodie:3965353997\", \"quantity\"))"
   ]
  },
  {
   "cell_type": "code",
   "execution_count": 15,
   "metadata": {},
   "outputs": [],
   "source": [
    "import logging\n",
    "\n",
    "logging.basicConfig()\n",
    "\n",
    "class OutOfStockError(Exception):\n",
    "    \"\"\"Raised when mugs are all out of stock\"\"\"\n",
    "\n",
    "def buyitem(r, itemid) -> None:\n",
    "    with r.pipeline() as pipe:\n",
    "        error_count = 0\n",
    "        while True:\n",
    "            try:\n",
    "                # Get available inventory, watching for changes\n",
    "                # related to this itemid before the transaction\n",
    "                pipe.watch(itemid)\n",
    "                nleft: bytes = r.hget(itemid, \"quantity\")\n",
    "                if nleft > b\"0\":\n",
    "                    pipe.multi()\n",
    "                    pipe.hincrby(itemid, \"quantity\", -1)\n",
    "                    pipe.hincrby(itemid, \"npurchased\", 1)\n",
    "                    pipe.execute()\n",
    "                    break\n",
    "                else:\n",
    "                    # Stop watching the itemid and raise to break out\n",
    "                    pipe.unwatch()\n",
    "                    raise OutOfStockError(\n",
    "                        f\"Sorry, {itemid} is out of stock!\"\n",
    "                    )\n",
    "            except redis.WatchError:\n",
    "                # Log total num. of errors by this user to buy this item,\n",
    "                # then try the same process again of WATCH/HGET/MULTI/EXEC\n",
    "                error_count += 1\n",
    "                logging.warning(\n",
    "                    \"WatchError #%d: %s; retrying\",\n",
    "                    error_count, itemid\n",
    "                )\n",
    "    return None"
   ]
  },
  {
   "cell_type": "code",
   "execution_count": 16,
   "metadata": {},
   "outputs": [
    {
     "data": {
      "text/plain": [
       "[b'997', b'3']"
      ]
     },
     "execution_count": 16,
     "metadata": {},
     "output_type": "execute_result"
    }
   ],
   "source": [
    "buyitem(r7, \"SGU_Hoodie:3616826228\")\n",
    "buyitem(r7, \"SGU_Hoodie:3616826228\")\n",
    "buyitem(r7, \"SGU_Hoodie:3616826228\")\n",
    "r7.hmget(\"SGU_Hoodie:3616826228\", \"quantity\", \"npurchased\")"
   ]
  },
  {
   "cell_type": "code",
   "execution_count": 17,
   "metadata": {},
   "outputs": [
    {
     "data": {
      "text/plain": [
       "[b'0', b'1000']"
      ]
     },
     "execution_count": 17,
     "metadata": {},
     "output_type": "execute_result"
    }
   ],
   "source": [
    "# Buy remaining hoodie for item 3616826228 and deplete stock to 0\n",
    "for x in range(997):\n",
    "    buyitem(r7, \"SGU_Hoodie:3616826228\")\n",
    "r7.hmget(\"SGU_Hoodie:3616826228\", \"quantity\", \"npurchased\")"
   ]
  },
  {
   "cell_type": "code",
   "execution_count": 18,
   "metadata": {},
   "outputs": [
    {
     "data": {
      "text/plain": [
       "[b'0', b'1000']"
      ]
     },
     "execution_count": 18,
     "metadata": {},
     "output_type": "execute_result"
    }
   ],
   "source": [
    "r7.hmget(\"SGU_Hoodie:3616826228\", \"quantity\", \"npurchased\")"
   ]
  },
  {
   "cell_type": "code",
   "execution_count": 19,
   "metadata": {},
   "outputs": [
    {
     "ename": "OutOfStockError",
     "evalue": "Sorry, SGU_Hoodie:3616826228 is out of stock!",
     "output_type": "error",
     "traceback": [
      "\u001b[1;31m---------------------------------------------------------------------------\u001b[0m",
      "\u001b[1;31mOutOfStockError\u001b[0m                           Traceback (most recent call last)",
      "\u001b[1;32m<ipython-input-19-4d5b7cfa1fef>\u001b[0m in \u001b[0;36m<module>\u001b[1;34m\u001b[0m\n\u001b[1;32m----> 1\u001b[1;33m \u001b[0mbuyitem\u001b[0m\u001b[1;33m(\u001b[0m\u001b[0mr7\u001b[0m\u001b[1;33m,\u001b[0m \u001b[1;34m\"SGU_Hoodie:3616826228\"\u001b[0m\u001b[1;33m)\u001b[0m\u001b[1;33m\u001b[0m\u001b[1;33m\u001b[0m\u001b[0m\n\u001b[0m",
      "\u001b[1;32m<ipython-input-15-ac1d4b75b7cf>\u001b[0m in \u001b[0;36mbuyitem\u001b[1;34m(r, itemid)\u001b[0m\n\u001b[0;32m     25\u001b[0m                     \u001b[0mpipe\u001b[0m\u001b[1;33m.\u001b[0m\u001b[0munwatch\u001b[0m\u001b[1;33m(\u001b[0m\u001b[1;33m)\u001b[0m\u001b[1;33m\u001b[0m\u001b[1;33m\u001b[0m\u001b[0m\n\u001b[0;32m     26\u001b[0m                     raise OutOfStockError(\n\u001b[1;32m---> 27\u001b[1;33m                         \u001b[1;34mf\"Sorry, {itemid} is out of stock!\"\u001b[0m\u001b[1;33m\u001b[0m\u001b[1;33m\u001b[0m\u001b[0m\n\u001b[0m\u001b[0;32m     28\u001b[0m                     )\n\u001b[0;32m     29\u001b[0m             \u001b[1;32mexcept\u001b[0m \u001b[0mredis\u001b[0m\u001b[1;33m.\u001b[0m\u001b[0mWatchError\u001b[0m\u001b[1;33m:\u001b[0m\u001b[1;33m\u001b[0m\u001b[1;33m\u001b[0m\u001b[0m\n",
      "\u001b[1;31mOutOfStockError\u001b[0m: Sorry, SGU_Hoodie:3616826228 is out of stock!"
     ]
    }
   ],
   "source": [
    "buyitem(r7, \"SGU_Hoodie:3616826228\")"
   ]
  },
  {
   "cell_type": "code",
   "execution_count": 20,
   "metadata": {},
   "outputs": [
    {
     "data": {
      "text/plain": [
       "datetime.datetime(2022, 3, 27, 17, 41, 58)"
      ]
     },
     "execution_count": 20,
     "metadata": {},
     "output_type": "execute_result"
    }
   ],
   "source": [
    "r7.lastsave()  # Redis command: LASTSAVE"
   ]
  },
  {
   "cell_type": "code",
   "execution_count": 43,
   "metadata": {},
   "outputs": [
    {
     "data": {
      "text/plain": [
       "True"
      ]
     },
     "execution_count": 43,
     "metadata": {},
     "output_type": "execute_result"
    }
   ],
   "source": [
    "r7.bgsave()"
   ]
  },
  {
   "cell_type": "code",
   "execution_count": null,
   "metadata": {},
   "outputs": [],
   "source": []
  },
  {
   "cell_type": "code",
   "execution_count": 24,
   "metadata": {},
   "outputs": [
    {
     "name": "stderr",
     "output_type": "stream",
     "text": [
      "E:\\Anaconda\\lib\\site-packages\\ipykernel_launcher.py:12: DeprecationWarning: Redis.hmset() is deprecated. Use Redis.hset() instead.\n",
      "  if sys.path[0] == '':\n"
     ]
    },
    {
     "data": {
      "text/plain": [
       "{b'Customer': b'Sevenoaks School',\n",
       " b'Product 1': b'Navy Blue Hoodie, Size 32',\n",
       " b'Quantity Prod1': b'50',\n",
       " b'Product 2': b'Grey Hoodie, Size 34',\n",
       " b'Quantity Prod2': b'100'}"
      ]
     },
     "execution_count": 24,
     "metadata": {},
     "output_type": "execute_result"
    }
   ],
   "source": [
    "# A Redis hash is a collection of key-value pairs. \n",
    "\n",
    "\n",
    "record = {\n",
    "    \"Customer\": \"Sevenoaks School\",\n",
    "    \"Product 1\": \"Navy Blue Hoodie, Size 32\",\n",
    "    \"Quantity Prod1\": 50,\n",
    "    \"Product 2\": \"Grey Hoodie, Size 34\",\n",
    "    \"Quantity Prod2\": 100\n",
    "}\n",
    "\n",
    "r.hmset(\"Shopping Cart: 1\", record)\n",
    "r.hgetall(\"Shopping Cart: 1\")  "
   ]
  },
  {
   "cell_type": "code",
   "execution_count": 25,
   "metadata": {},
   "outputs": [
    {
     "name": "stderr",
     "output_type": "stream",
     "text": [
      "E:\\Anaconda\\lib\\site-packages\\ipykernel_launcher.py:9: DeprecationWarning: Redis.hmset() is deprecated. Use Redis.hset() instead.\n",
      "  if __name__ == '__main__':\n"
     ]
    },
    {
     "data": {
      "text/plain": [
       "{b'Customer': b'Manor High School',\n",
       " b'Product 1': b'Burgundy Hoodie, Size 34',\n",
       " b'Quantity Prod1': b'100',\n",
       " b'Product 2': b'Purpule Hoodie, Size 34',\n",
       " b'Quantity Prod2': b'100'}"
      ]
     },
     "execution_count": 25,
     "metadata": {},
     "output_type": "execute_result"
    }
   ],
   "source": [
    "record_2= {\n",
    "    \"Customer\": \"Manor High School\",\n",
    "    \"Product 1\": \"Burgundy Hoodie, Size 34\",\n",
    "    \"Quantity Prod1\": 100,\n",
    "    \"Product 2\": \"Purpule Hoodie, Size 34\",\n",
    "    \"Quantity Prod2\": 100\n",
    "}\n",
    "\n",
    "r.hmset(\"Shopping Cart: 2\", record_2)\n",
    "r.hgetall(\"Shopping Cart: 2\") "
   ]
  },
  {
   "cell_type": "code",
   "execution_count": 26,
   "metadata": {},
   "outputs": [
    {
     "name": "stderr",
     "output_type": "stream",
     "text": [
      "E:\\Anaconda\\lib\\site-packages\\ipykernel_launcher.py:9: DeprecationWarning: Redis.hmset() is deprecated. Use Redis.hset() instead.\n",
      "  if __name__ == '__main__':\n"
     ]
    },
    {
     "data": {
      "text/plain": [
       "{b'Customer': b'Exeter Cathedral School',\n",
       " b'Product 1': b'Navy Blue Hoodie, Size 34',\n",
       " b'Quantity Prod1': b'80',\n",
       " b'Product 2': b'Grey Hoodie, Size 32',\n",
       " b'Quantity Prod2': b'50'}"
      ]
     },
     "execution_count": 26,
     "metadata": {},
     "output_type": "execute_result"
    }
   ],
   "source": [
    "record_3 = {\n",
    "    \"Customer\": \"Exeter Cathedral School\",\n",
    "    \"Product 1\": \"Navy Blue Hoodie, Size 34\",\n",
    "    \"Quantity Prod1\": 80,\n",
    "    \"Product 2\": \"Grey Hoodie, Size 32\",\n",
    "    \"Quantity Prod2\": 50\n",
    "}\n",
    "\n",
    "r.hmset(\"Shopping Cart: 3\", record_3)\n",
    "r.hgetall(\"Shopping Cart: 3\") "
   ]
  },
  {
   "cell_type": "code",
   "execution_count": 40,
   "metadata": {},
   "outputs": [
    {
     "name": "stdout",
     "output_type": "stream",
     "text": [
      "b'123.114.68.111'\n",
      "b'18:34:24'\n",
      "b'Navy blue Hoodie, Size 34'\n"
     ]
    }
   ],
   "source": [
    "# Example of Time To Live (TTL). Use this to temporarily store useful data.\n",
    "# Every key has TTL associated with it and the default value is -1.\n",
    "# Set this number to a positive value and which represents the number of seconds remaining before the data expires.\n",
    "\n",
    "from datetime import datetime\n",
    "# retrieving current time using using datetime object\n",
    "now = datetime.now()\n",
    "\n",
    "r.set(\"ShopHoodies:Day1:Visiting:ip_address\", \"123.114.68.111\")\n",
    "r.set(\"ShopHoodies:Day1:Visiting:timestamp\", now.strftime(\"%H:%M:%S\"))\n",
    "r.set(\"ShopHoodies:Day1:Visiting:last_product\", \"Navy blue Hoodie, Size 34\")\n",
    "\n",
    "print(r.get(\"ShopHoodies:Day1:Visiting:ip_address\"))\n",
    "print(r.get(\"ShopHoodies:Day1:Visiting:timestamp\"))\n",
    "# Displaying time to live for one key\n",
    "r.ttl (\"ShopHoodies:Day1:Visiting:last_product\")\n",
    "print(r.get(\"ShopHoodies:Day1:Visiting:last_product\"))"
   ]
  },
  {
   "cell_type": "code",
   "execution_count": 41,
   "metadata": {},
   "outputs": [
    {
     "data": {
      "text/plain": [
       "True"
      ]
     },
     "execution_count": 41,
     "metadata": {},
     "output_type": "execute_result"
    }
   ],
   "source": [
    "r.expire(\"ShopHoodies:Day1:Visiting:last_product\", 600)"
   ]
  },
  {
   "cell_type": "code",
   "execution_count": 42,
   "metadata": {},
   "outputs": [
    {
     "name": "stdout",
     "output_type": "stream",
     "text": [
      "597\n",
      "Navy blue Hoodie, Size 34\n"
     ]
    }
   ],
   "source": [
    "print(r.ttl (\"ShopHoodies:Day1:Visiting:last_product\"))\n",
    "\n",
    "# Display only if TTL has not expired\n",
    "if r.ttl (\"ShopHoodies:Day1:Visiting:last_product\") !=-1:\n",
    "    print(r.get(\"ShopHoodies:Day1:Visiting:last_product\").decode(\"utf-8\"))"
   ]
  }
 ],
 "metadata": {
  "kernelspec": {
   "display_name": "Python 3",
   "language": "python",
   "name": "python3"
  },
  "language_info": {
   "codemirror_mode": {
    "name": "ipython",
    "version": 3
   },
   "file_extension": ".py",
   "mimetype": "text/x-python",
   "name": "python",
   "nbconvert_exporter": "python",
   "pygments_lexer": "ipython3",
   "version": "3.7.3"
  }
 },
 "nbformat": 4,
 "nbformat_minor": 2
}
