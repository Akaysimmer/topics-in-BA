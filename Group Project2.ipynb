{
 "cells": [
  {
   "cell_type": "code",
   "execution_count": 1,
   "metadata": {},
   "outputs": [
    {
     "name": "stdout",
     "output_type": "stream",
     "text": [
      "3.27.2\n"
     ]
    }
   ],
   "source": [
    "import sqlite3\n",
    "\n",
    "# Display SQLite version number\n",
    "print (sqlite3.sqlite_version)"
   ]
  },
  {
   "cell_type": "code",
   "execution_count": null,
   "metadata": {},
   "outputs": [],
   "source": []
  },
  {
   "cell_type": "code",
   "execution_count": 2,
   "metadata": {},
   "outputs": [
    {
     "name": "stdout",
     "output_type": "stream",
     "text": [
      "<class 'sqlite3.Connection'>\n",
      "<class 'sqlite3.Cursor'>\n"
     ]
    }
   ],
   "source": [
    "conn=sqlite3.connect('S:\\\\GroupProject\\\\Group Ecommerce.db')\n",
    "print(type(conn))\n",
    "\n",
    "# The connection object (conn) has access to various methods of the Connection class. \n",
    "# We are using the method cursor() and which returns a cursor object.\n",
    "# The cursor object is essential to perform any operation on the database (CRUD operations).\n",
    "cur=conn.cursor()\n",
    "\n",
    "# The next command is only for display\n",
    "print(type(cur))"
   ]
  },
  {
   "cell_type": "code",
   "execution_count": 3,
   "metadata": {},
   "outputs": [],
   "source": [
    "def tables_in_sqlite_db(conn):\n",
    "    cursor = conn.execute(\"SELECT name FROM sqlite_master WHERE type='table';\")\n",
    "    tables = [\n",
    "        v[0] for v in cursor.fetchall()\n",
    "        if v[0] != \"sqlite_sequence\"\n",
    "    ]\n",
    "    cursor.close()\n",
    "    return tables"
   ]
  },
  {
   "cell_type": "code",
   "execution_count": 4,
   "metadata": {
    "scrolled": true
   },
   "outputs": [
    {
     "name": "stdout",
     "output_type": "stream",
     "text": [
      "['E_WAREHOUSE', 'E_COURIER', 'E_DELIVERYINFO', 'E_ORDER', 'E_ORD_INV', 'E_INVENTORY', 'E_ORD_DEL', 'E_EMPLOYEE', 'E_CUSTOMER', 'E_BILLINGINFO']\n"
     ]
    }
   ],
   "source": [
    "# call the function and pass connection object \n",
    "tables = tables_in_sqlite_db(conn)\n",
    "\n",
    "#print tables in the current database\n",
    "print(tables)"
   ]
  },
  {
   "cell_type": "code",
   "execution_count": 67,
   "metadata": {
    "scrolled": true
   },
   "outputs": [
    {
     "name": "stdout",
     "output_type": "stream",
     "text": [
      "Table dropped... \n"
     ]
    }
   ],
   "source": [
    "#cur.execute(\"DROP TABLE EC_BILLINGINFO\")\n",
    "#print(\"Table dropped... \")\n",
    "#conn.commit()"
   ]
  },
  {
   "cell_type": "code",
   "execution_count": null,
   "metadata": {},
   "outputs": [],
   "source": []
  },
  {
   "cell_type": "code",
   "execution_count": null,
   "metadata": {},
   "outputs": [],
   "source": []
  },
  {
   "cell_type": "code",
   "execution_count": null,
   "metadata": {},
   "outputs": [],
   "source": [
    "\n",
    "        \n",
    "        \n",
    "       "
   ]
  },
  {
   "cell_type": "code",
   "execution_count": null,
   "metadata": {},
   "outputs": [],
   "source": []
  },
  {
   "cell_type": "code",
   "execution_count": 6,
   "metadata": {},
   "outputs": [
    {
     "name": "stdout",
     "output_type": "stream",
     "text": [
      "Table created successfully\n"
     ]
    }
   ],
   "source": [
    "qry='''\n",
    "CREATE TABLE E_WAREHOUSE (\n",
    "storeID INTEGER PRIMARY KEY,\n",
    "storeName TEXT (30) NOT NULL,\n",
    "storeAddress TEXT (40) NOT NULL,\n",
    "storePhone INTEGER NOT NULL\n",
    ");\n",
    "'''\n",
    "try:\n",
    "        cur.execute(qry)\n",
    "        print ('Table created successfully')\n",
    "except:\n",
    "# If table already exists then use the SQLite console to connect to the database (BEMM459.db) and then use the drop table command.\n",
    "# .. Altenatively, use the SQLiteStudio GUI to delete table ECC_DEPARTMENT and execute this code block again.\n",
    "        print ('Error in creating table')"
   ]
  },
  {
   "cell_type": "code",
   "execution_count": 41,
   "metadata": {},
   "outputs": [
    {
     "name": "stdout",
     "output_type": "stream",
     "text": [
      "Table created successfully\n"
     ]
    }
   ],
   "source": [
    "qry='''\n",
    "CREATE TABLE E_INVENTORY (\n",
    "invID INTEGER PRIMARY KEY,\n",
    "invName TEXT (30) NOT NULL,\n",
    "invBrand TEXT (40),\n",
    "invColour TEXT (40),\n",
    "invSize INTEGER NOT NULL,\n",
    "invQuantity INTEGER NOT NULL,\n",
    "invPackaging TEXT (40),\n",
    "storeID INTEGER NOT NULL,\n",
    "FOREIGN KEY (storeID) REFERENCES E_WAREHOUSE (storeID) ON UPDATE CASCADE ON DELETE SET NULL\n",
    ");\n",
    "'''\n",
    "try:\n",
    "        cur.execute(qry)\n",
    "        print ('Table created successfully')\n",
    "except:\n",
    "# If table already exists then use the SQLite console to connect to the database (BEMM459.db) and then use the drop table command.\n",
    "# .. Altenatively, use the SQLiteStudio GUI to delete table ECC_DEPARTMENT and execute this code block again.\n",
    "        print ('Error in creating table')"
   ]
  },
  {
   "cell_type": "code",
   "execution_count": null,
   "metadata": {},
   "outputs": [],
   "source": []
  },
  {
   "cell_type": "code",
   "execution_count": null,
   "metadata": {},
   "outputs": [],
   "source": []
  },
  {
   "cell_type": "code",
   "execution_count": 24,
   "metadata": {},
   "outputs": [
    {
     "name": "stdout",
     "output_type": "stream",
     "text": [
      "Table created successfully\n"
     ]
    }
   ],
   "source": [
    "qry='''\n",
    "CREATE TABLE E_ORDER (\n",
    "orderID INTEGER PRIMARY KEY,\n",
    "orderDate TEXT NOT NULL,\n",
    "orderDiscInfo INTEGER,\n",
    "orderComment TEXT (50),\n",
    "orderStatus TEXT (50),\n",
    "delID INTEGER NOT NULL,\n",
    "FOREIGN KEY (delID) REFERENCES E_DELIVERYINFO (delID) ON UPDATE CASCADE ON DELETE SET NULL\n",
    ");\n",
    "'''\n",
    "try:\n",
    "        cur.execute(qry)\n",
    "        print ('Table created successfully')\n",
    "except:\n",
    "# If table already exists then use the SQLite console to connect to the database (BEMM459.db) and then use the drop table command.\n",
    "# .. Altenatively, use the SQLiteStudio GUI to delete table ECC_DEPARTMENT and execute this code block again.\n",
    "        print ('Error in creating table')"
   ]
  },
  {
   "cell_type": "code",
   "execution_count": null,
   "metadata": {},
   "outputs": [],
   "source": []
  },
  {
   "cell_type": "code",
   "execution_count": 33,
   "metadata": {},
   "outputs": [
    {
     "name": "stdout",
     "output_type": "stream",
     "text": [
      "Table created successfully\n"
     ]
    }
   ],
   "source": [
    "qry='''\n",
    "CREATE TABLE E_ORD_INV (\n",
    "orderID INTEGER NOT NULL,\n",
    "invID INTEGER NOT NULL,\n",
    "PRIMARY KEY (orderID, invID),\n",
    "FOREIGN KEY (invID) REFERENCES E_INVENTORY (invID) ON UPDATE CASCADE ON DELETE SET NULL,\n",
    "FOREIGN KEY (orderID) REFERENCES E_ORDER (orderID) ON UPDATE CASCADE ON DELETE SET NULL\n",
    ");\n",
    "'''\n",
    "try:\n",
    "        cur.execute(qry)\n",
    "        print ('Table created successfully')\n",
    "except:\n",
    "# If table already exists then use the SQLite console to connect to the database (BEMM459.db) and then use the drop table command.\n",
    "# .. Altenatively, use the SQLiteStudio GUI to delete table ECC_DEPARTMENT and execute this code block again.\n",
    "        print ('Error in creating table')"
   ]
  },
  {
   "cell_type": "code",
   "execution_count": null,
   "metadata": {},
   "outputs": [],
   "source": []
  },
  {
   "cell_type": "code",
   "execution_count": 13,
   "metadata": {
    "scrolled": true
   },
   "outputs": [
    {
     "name": "stdout",
     "output_type": "stream",
     "text": [
      "Table created successfully\n"
     ]
    }
   ],
   "source": [
    "qry='''\n",
    "CREATE TABLE E_CUSTOMER (\n",
    "custID INTEGER PRIMARY KEY,\n",
    "custName TEXT (40) NOT NULL,\n",
    "custAddress TEXT (40) NOT NULL,\n",
    "custEmail TEXT (40) NOT NULL,\n",
    "custPhone INTEGER,\n",
    "billingID INTEGER NOT NULL,\n",
    "FOREIGN KEY (billingID) REFERENCES E_BILLINGINFO (billingID) ON UPDATE CASCADE ON DELETE SET NULL\n",
    ");\n",
    "'''\n",
    "try:\n",
    "        cur.execute(qry)\n",
    "        print ('Table created successfully')\n",
    "except:\n",
    "# If table already exists then use the SQLite console to connect to the database (BEMM459.db) and then use the drop table command.\n",
    "# .. Altenatively, use the SQLiteStudio GUI to delete table ECC_DEPARTMENT and execute this code block again.\n",
    "        print ('Error in creating table')"
   ]
  },
  {
   "cell_type": "code",
   "execution_count": 17,
   "metadata": {},
   "outputs": [
    {
     "name": "stdout",
     "output_type": "stream",
     "text": [
      "Table created successfully\n"
     ]
    }
   ],
   "source": [
    "qry='''\n",
    "CREATE TABLE E_DELIVERYINFO (\n",
    "delID INTEGER PRIMARY KEY,\n",
    "custID INTEGER,\n",
    "courierID INTEGER,\n",
    "FOREIGN KEY (custID) REFERENCES E_CUSTOMER (custID) ON UPDATE CASCADE ON DELETE SET NULL,\n",
    "FOREIGN KEY (courierID) REFERENCES E_COURIER (courierID) ON UPDATE CASCADE ON DELETE SET NULL\n",
    ");\n",
    "'''\n",
    "try:\n",
    "        cur.execute(qry)\n",
    "        print ('Table created successfully')\n",
    "except:\n",
    "# If table already exists then use the SQLite console to connect to the database (BEMM459.db) and then use the drop table command.\n",
    "# .. Altenatively, use the SQLiteStudio GUI to delete table ECC_DEPARTMENT and execute this code block again.\n",
    "        print ('Error in creating table')"
   ]
  },
  {
   "cell_type": "code",
   "execution_count": 45,
   "metadata": {},
   "outputs": [
    {
     "name": "stdout",
     "output_type": "stream",
     "text": [
      "Table created successfully\n"
     ]
    }
   ],
   "source": [
    "qry='''\n",
    "CREATE TABLE E_ORD_DEL (\n",
    "orderID INTEGER NOT NULL,\n",
    "delID INTEGER NOT NULL,\n",
    "PRIMARY KEY (orderID, delID),\n",
    "FOREIGN KEY (delID) REFERENCES E_DELIVERYINFO (delID) ON UPDATE CASCADE ON DELETE SET NULL,\n",
    "FOREIGN KEY (orderID) REFERENCES E_ORDER (orderID) ON UPDATE CASCADE ON DELETE SET NULL\n",
    ");\n",
    "'''\n",
    "try:\n",
    "        cur.execute(qry)\n",
    "        print ('Table created successfully')\n",
    "except:\n",
    "# If table already exists then use the SQLite console to connect to the database (BEMM459.db) and then use the drop table command.\n",
    "# .. Altenatively, use the SQLiteStudio GUI to delete table ECC_DEPARTMENT and execute this code block again.\n",
    "        print ('Error in creating table')"
   ]
  },
  {
   "cell_type": "code",
   "execution_count": 50,
   "metadata": {},
   "outputs": [
    {
     "name": "stdout",
     "output_type": "stream",
     "text": [
      "Table created successfully\n"
     ]
    }
   ],
   "source": [
    "qry='''\n",
    "CREATE TABLE E_EMPLOYEE (\n",
    "employeeID INTEGER PRIMARY KEY,\n",
    "employeeFirstName TEXT (30),\n",
    "employeeLastName TEXT (30),\n",
    "employeeDOB TEXT (20) NOT NULL, \n",
    "employeeType INTEGER NOT NULL, \n",
    "employeeEmail TEXT (30), \n",
    "employeeSalary INTEGER NOT NULL, \n",
    "employeeHireDate TEXT (20) NOT NULL, \n",
    "storeID INTEGER NOT NULL,\n",
    "FOREIGN KEY (storeID) REFERENCES E_WAREHOUSE (storeID) ON UPDATE CASCADE ON DELETE SET NULL\n",
    ");\n",
    "'''\n",
    "try:\n",
    "        cur.execute(qry)\n",
    "        print ('Table created successfully')\n",
    "except:\n",
    "# If table already exists then use the SQLite console to connect to the database (groupproject3.db) and then use the drop table command.\n",
    "# .. Altenatively, use the SQLiteStudio GUI to delete table ECC_DEPARTMENT and execute this code block again.\n",
    "        print ('Error in creating table')"
   ]
  },
  {
   "cell_type": "code",
   "execution_count": 65,
   "metadata": {},
   "outputs": [
    {
     "name": "stdout",
     "output_type": "stream",
     "text": [
      "Error in creating table\n"
     ]
    }
   ],
   "source": [
    "qry='''\n",
    "CREATE TABLE E_BILLINGINFO (\n",
    "billingID INTEGER PRIMARY KEY,\n",
    "billingName TEXT (40) NOT NULL,\n",
    "billingAddress TEXT (60) NOT NULL, \n",
    "billingTransaction TEXT (30) NOT NULL, \n",
    "billingDate TEXT (30)\n",
    ");\n",
    "'''\n",
    "try:\n",
    "        cur.execute(qry)\n",
    "        print ('Table created successfully')\n",
    "except:\n",
    "# If table already exists then use the SQLite console to connect to the database (groupproject3.db) and then use the drop table command.\n",
    "# .. Altenatively, use the SQLiteStudio GUI to delete table ECC_DEPARTMENT and execute this code block again.\n",
    "        print ('Error in creating table')"
   ]
  },
  {
   "cell_type": "code",
   "execution_count": 16,
   "metadata": {},
   "outputs": [
    {
     "name": "stdout",
     "output_type": "stream",
     "text": [
      "Table created successfully\n"
     ]
    }
   ],
   "source": [
    "qry='''\n",
    "CREATE TABLE E_COURIER (\n",
    "courierID INTEGER PRIMARY KEY,\n",
    "courierName TEXT (50) NOT NULL,\n",
    "courierPhone INTEGER NOT NULL, \n",
    "courierEmail TEXT (30) NOT NULL \n",
    ");\n",
    "'''\n",
    "try:\n",
    "        cur.execute(qry)\n",
    "        print ('Table created successfully')\n",
    "except:\n",
    "# If table already exists then use the SQLite console to connect to the database (groupproject3.db) and then use the drop table command.\n",
    "# .. Altenatively, use the SQLiteStudio GUI to delete table ECC_DEPARTMENT and execute this code block again.\n",
    "        print ('Error in creating table')"
   ]
  },
  {
   "cell_type": "code",
   "execution_count": null,
   "metadata": {},
   "outputs": [],
   "source": []
  },
  {
   "cell_type": "code",
   "execution_count": 8,
   "metadata": {},
   "outputs": [
    {
     "name": "stdout",
     "output_type": "stream",
     "text": [
      "One record inserted successfully..commit\n"
     ]
    }
   ],
   "source": [
    "qry=\"insert into E_WAREHOUSE values (001, 'Hoodies Ecommerce', 'Stocker Road, Exeter, EX4 4PY', 01392661000);\"\n",
    "\n",
    "try:\n",
    "        cur.execute(qry)\n",
    "        conn.commit()\n",
    "        print ('One record inserted successfully..commit')\n",
    "except:\n",
    "        print ('Error in insert operation..rollback')\n",
    "        conn.rollback()\n",
    "        print(conn)\n"
   ]
  },
  {
   "cell_type": "code",
   "execution_count": 32,
   "metadata": {},
   "outputs": [
    {
     "name": "stdout",
     "output_type": "stream",
     "text": [
      "Records inserted successfully..committed\n"
     ]
    }
   ],
   "source": [
    "# Insert multiple records in table E_EMPLOYEE\n",
    "\n",
    "qry=\"insert into E_EMPLOYEE (employeeID, employeeFirstName, employeeLastName, employeeDOB, employeeType, employeeEmail, employeeSalary, employeeHireDate, storeID) values (?,?,?,?,?,?,?,?,?);\"\n",
    "valuesemployee=[(2, 'Ava', 'Green', '03.04.1995', 'Warehouse Staff', 'Ava2@hoodiesecommerce.com', 19500, '07.01.22',1),\n",
    "(3, 'Isabella', 'James', '07.11.1992', 'Warehouse Staff', 'Isabella3@hoodiesecommerce.com', 21500, '08.04.21',1),\n",
    "(4, 'Sophia', 'Jones', '08.04.1978', 'Warehouse Staff', 'Sophia4@hoodiesecommerce.com', 26000, '02.04.21',1),\n",
    "(5, 'Alice', 'Jones', '04.12.1984', 'Warehouse Staff', 'Alice5@hoodiesecommerce.com', 21500, '09.05.21',1),\n",
    "(6, 'Isla', 'Campbell', '04.05.1991', 'Warehouse Staff', 'Isla6@hoodiesecommerce.com', 21500, '08.09.21',1)]\n",
    "\n",
    "try:\n",
    "        cur.executemany(qry, valuesemployee)\n",
    "        conn.commit()\n",
    "        print ('Records inserted successfully..committed')\n",
    "except:\n",
    "        print ('Error in insert operation..rollback')\n",
    "        conn.rollback()"
   ]
  },
  {
   "cell_type": "code",
   "execution_count": 34,
   "metadata": {},
   "outputs": [
    {
     "name": "stdout",
     "output_type": "stream",
     "text": [
      "Records inserted successfully..committed\n"
     ]
    }
   ],
   "source": [
    "# Insert multiple records in table E_EMPLOYEE\n",
    "\n",
    "qry=\"insert into E_EMPLOYEE (employeeID, employeeFirstName, employeeLastName, employeeDOB, employeeType, employeeEmail, employeeSalary, employeeHireDate, storeID) values (?,?,?,?,?,?,?,?,?);\"\n",
    "valuesemployees=[(7, 'Ruby', 'Mitchell', '03.07.1994', 'Warehouse Staff', 'Ruby7@hoodiesecommerce.com', 26000, '02.04.21',1),\n",
    "(8, 'James', 'Ross', '12.12.1973', 'Warehouse Staff', 'James8@hoodiesecommerce.com', 24000, '02.04.21',1),\n",
    "(9, 'Henry', 'Clark', '14.10.1981', 'Manager', 'Henry9@hoodiesecommerce.com', 75000, '02.04.21',1),\n",
    "(10, 'Oliver', 'Clarke', '13.12.1996', 'Warehouse Staff', 'Oliver10@hoodiesecommerce.com', 26000, '02.04.21',1),\n",
    "(11, 'Ben', 'Smith', '23.03.1995', 'Warehouse Staff', 'Ben11@hoodiesecommerce.com', 19500, '07.01.22',1),\n",
    "(12, 'Jack', 'Johnson', '14.02.1994', 'Warehouse Staff', 'Jack12@hoodiesecommerce.com', 26000, '02.04.21',1),\n",
    "(13, 'Liam', 'Scott',  '17.09.1992', 'Warehouse Staff', 'Liam13@hoodiesecommerce.com', 21500, '11.11.21',1),\n",
    "(14, 'Simon', 'Walker', '11.05.1977', 'Warehouse Staff', 'Simon14@hoodiesecommerce.com', 24000, '18.04.21',1),\n",
    "(15, 'Noah', 'Young', '02.07.1988', 'Warehouse Staff', 'Noah15@hoodiesecommerce.com', 21500, '05.10.21',1),\n",
    "(16, 'Logan', 'Pearson', '06.08.1984', 'Warehouse Staff', 'Logan16@hoodiesecommerce.com', 24000, '16.12.21',1),\n",
    "(17, 'Charlie', 'Green', '31.03.1995', 'Warehouse Staff', 'Charlier17@hoodiesecommerce.com', 26000, '02.04.21',1),\n",
    "(18, 'Joshua', 'Richardson', '24.02.1988', 'Warehouse Staff', 'Joshua18@hoodiesecommerce.com', 26000, '02.04.21',1),\n",
    "(19, 'Grace', 'Mackay', '27.03.1987', 'Warehouse Staff', 'Grace19@hoodiesecommerce.com', 24000, '03.11.21' ,1),\n",
    "(20, 'Svenja', 'Gordan', '15.04.1998', 'Warehouse Staff', 'Svenja20@hoodiesecommerce.com', 19500, '07.01.22',1),\n",
    "(21, 'Maya', 'Black', '16.12.1994', 'Warehouse Staff', 'Maya21@hoodiesecommerce.com', 21500, '12.06.21',1),\n",
    "(22, 'Freya', 'Brown', '17.10.1980', 'Warehouse Staff', 'Freya22@hoodiesecommerce.com', 26000, '02.04.21',1),\n",
    "(23, 'Jennifer', 'Nicholson', '04.06.1979', 'Warehouse Staff', 'Jennifer23@hoodiesecommerce.com', 21500, '25.11.21' ,1),\n",
    "(24, 'Michael', 'Davenport', '27.04.1988', 'Warehouse Staff', 'Michale24@hoodiesecommerce.com', 24000, '13.04.21',1),\n",
    "(25, 'Richard', 'James', '28.04.1992', 'Warehouse Staff', 'Richard25@hoodiesecommerce.com', 24000, '17.07.21',1),\n",
    "(26, 'Daniel',  'Henderson', '30.07.1974', 'Warehouse Staff', 'Daniel26@hoodiesecommerce.com', 26000, '02.04.21',1),\n",
    "(27, 'Steven', 'Crawford', '29.02.2000', 'Warehouse Staff', 'Steven27@hoodiesecommerce.com', 24000, '05.08.21',1),\n",
    "(28, 'Sally', 'Duncan', '01.01.1990', 'Warehouse Staff', 'Sally28@hoodiesecommerce.com', 26000, '02.04.21',1),\n",
    "(29, 'George', 'Hill', '05.08.1994', 'Warehouse Staff', 'George29@hoodiesecommerce.com', 19500, '07.01.22',1),\n",
    "(30, 'Sven', 'King', '13.11.1997', 'Warehouse Staff', 'Sven30@hoodiesecommerce.com', 26000, '02.04.21',1),\n",
    "]\n",
    "\n",
    "try:\n",
    "        cur.executemany(qry, valuesemployees)\n",
    "        conn.commit()\n",
    "        print ('Records inserted successfully..committed')\n",
    "except:\n",
    "        print ('Error in insert operation..rollback')\n",
    "        conn.rollback()"
   ]
  },
  {
   "cell_type": "code",
   "execution_count": 19,
   "metadata": {},
   "outputs": [
    {
     "name": "stdout",
     "output_type": "stream",
     "text": [
      "One record inserted successfully..commit\n"
     ]
    }
   ],
   "source": [
    "qry=\"insert into  E_EMPLOYEE values (1,'Olivia', 'Brown', '01.02.1997', 'Warehouse Staff',  'Olivia1@hoodiesecommerce.com', 26000, '02.04.21',1);\"\n",
    "\n",
    "try:\n",
    "        cur.execute(qry)\n",
    "        conn.commit()\n",
    "        print ('One record inserted successfully..commit')\n",
    "except:\n",
    "        print ('Error in insert operation..rollback')\n",
    "        conn.rollback()\n",
    "        print(conn)"
   ]
  },
  {
   "cell_type": "code",
   "execution_count": 35,
   "metadata": {},
   "outputs": [
    {
     "name": "stdout",
     "output_type": "stream",
     "text": [
      "Records inserted successfully..committed\n"
     ]
    }
   ],
   "source": [
    "# Insert multiple records in table E_INVENTORY\n",
    "\n",
    "qry=\"insert into E_INVENTORY (invID, invName, invBrand, invColour, invSize, invQuantity, invPackaging,storeID) values (?,?,?,?,?,?,?,?);\"\n",
    "valuesinventory=[(1, 'Navy Blue Hoodie','Munti', 'navy blue', 32, 1000, 'Recyclable Paper',1),\n",
    "(2, 'Grey Hoodie', 'Munti', 'grey', 32,1000,'Recyclable Paper',1),\n",
    "(3, 'Red Hoodie', 'Munti', 'red', 32,1000, 'Recyclable Paper',1),\n",
    "(4, 'Olive Hoodie', 'Munti', 'olive', 32,1000, 'Recylable Paper',1),\n",
    "(5, 'Pink Hoodie', 'Munti', 'pink', 32,1000, 'Recylable Paper',1),\n",
    "(6, 'Purple Hoodie', 'Munti', 'purple', 32,1000, 'Recylable Paper',1),\n",
    "(7, 'Black Hoodie', 'Munti', 'black', 32,1000, 'Recylable Paper',1),\n",
    "(8, 'Burgundy Hoodie', 'Munti', 'burgundy', 32,1000, 'Recylable Paper',1),\n",
    "(9, 'Navy Blue Hoodie','Munti', 'navy blue', 34, 1000, 'Recyclable Paper',1),\n",
    "(10, 'Grey Hoodie', 'Munti', 'grey', 34,1000,'Recyclable Paper',1),\n",
    "(11, 'Red Hoodie', 'Munti', 'red', 34,1000, 'Recyclable Paper',1),\n",
    "(12, 'Olive Hoodie', 'Munti', 'olive', 34,1000, 'Recylable Paper',1),\n",
    "(13, 'Pink Hoodie', 'Munti', 'pink', 34,1000, 'Recylable Paper',1),\n",
    "(14, 'Purple Hoodie', 'Munti', 'purple', 34,1000, 'Recylable Paper',1),\n",
    "(15, 'Black Hoodie', 'Munti', 'black', 34,1000, 'Recylable Paper',1),\n",
    "(16, 'Burgundy Hoodie', 'Munti', 'burgundy', 34,1000, 'Recylable Paper',1),\n",
    "(17, 'Navy Blue Hoodie','Munti', 'navy blue', 36, 1000, 'Recyclable Paper',1),\n",
    "(18, 'Grey Hoodie', 'Munti', 'grey', 36,1000,'Recyclable Paper',1),\n",
    "(19, 'Red Hoodie', 'Munti', 'red', 36,1000, 'Recyclable Paper',1),\n",
    "(20, 'Olive Hoodie', 'Munti', 'olive', 36,1000, 'Recylable Paper',1),\n",
    "(21, 'Pink Hoodie', 'Munti', 'pink', 36,1000, 'Recylable Paper',1),\n",
    "(22, 'Purple Hoodie', 'Munti', 'purple', 36,1000, 'Recylable Paper',1),\n",
    "(23, 'Black Hoodie', 'Munti', 'black', 36,1000, 'Recylable Paper',1),\n",
    "(24, 'Burgundy Hoodie', 'Munti', 'burgundy', 36,1000, 'Recylable Paper',1),\n",
    "(25, 'Navy Blue Hoodie','Munti', 'navy blue', 38, 1000, 'Recyclable Paper',1),\n",
    "(26, 'Grey Hoodie', 'Munti', 'grey', 38,1000,'Recyclable Paper',1),\n",
    "(27, 'Red Hoodie', 'Munti', 'red', 38,1000, 'Recyclable Paper',1),\n",
    "(28, 'Olive Hoodie', 'Munti', 'olive', 38,1000, 'Recylable Paper',1),\n",
    "(29, 'Pink Hoodie', 'Munti', 'pink', 38,1000, 'Recylable Paper',1),\n",
    "(30, 'Purple Hoodie', 'Munti', 'purple', 38,1000, 'Recylable Paper',1),\n",
    "(31, 'Black Hoodie', 'Munti', 'black', 38,1000, 'Recylable Paper',1),\n",
    "(32, 'Burgundy Hoodie', 'Munti', 'burgundy', 38,1000, 'Recylable Paper',1),\n",
    "(33, 'Navy Blue Hoodie','Munti', 'navy blue', 40, 1000, 'Recyclable Paper',1),\n",
    "(34, 'Grey Hoodie', 'Munti', 'grey', 40,1000,'Recyclable Paper',1),\n",
    "(35, 'Red Hoodie', 'Munti', 'red', 40,1000, 'Recyclable Paper',1),\n",
    "(36, 'Olive Hoodie', 'Munti', 'olive', 40,1000, 'Recylable Paper',1),\n",
    "(37, 'Pink Hoodie', 'Munti', 'pink', 40,1000, 'Recylable Paper',1),\n",
    "(38, 'Purple Hoodie', 'Munti', 'purple', 40,1000, 'Recylable Paper',1),\n",
    "(39, 'Black Hoodie', 'Munti', 'black', 40,1000, 'Recylable Paper',1),\n",
    "(40, 'Burgundy Hoodie', 'Munti', 'burgundy', 40,1000, 'Recylable Paper',1),\n",
    "(41, 'Navy Blue Hoodie','Munti', 'navy blue', 42, 1000, 'Recyclable Paper',1),\n",
    "(42, 'Grey Hoodie', 'Munti', 'grey', 42,1000,'Recyclable Paper',1),\n",
    "(43, 'Red Hoodie', 'Munti', 'red', 42,1000, 'Recyclable Paper',1),\n",
    "(44, 'Olive Hoodie', 'Munti', 'olive', 42,1000, 'Recylable Paper',1),\n",
    "(45, 'Pink Hoodie', 'Munti', 'pink', 42,1000, 'Recylable Paper',1),\n",
    "(46, 'Purple Hoodie', 'Munti', 'purple', 42,1000, 'Recylable Paper',1),\n",
    "(47, 'Black Hoodie', 'Munti', 'black', 42,1000, 'Recylable Paper',1),\n",
    "(48, 'Burgundy Hoodie', 'Munti', 'burgundy', 42,1000, 'Recylable Paper',1),\n",
    "(49, 'Navy Blue Hoodie','Munti', 'navy blue', 44, 1000, 'Recyclable Paper',1),\n",
    "(50, 'Grey Hoodie', 'Munti', 'grey', 44,1000,'Recyclable Paper',1),\n",
    "(51, 'Red Hoodie', 'Munti', 'red', 44,1000, 'Recyclable Paper',1),\n",
    "(52, 'Olive Hoodie', 'Munti', 'olive', 44,1000, 'Recylable Paper',1),\n",
    "(53, 'Pink Hoodie', 'Munti', 'pink', 44,1000, 'Recylable Paper',1),\n",
    "(54, 'Purple Hoodie', 'Munti', 'purple', 44,1000, 'Recylable Paper',1),\n",
    "(55, 'Black Hoodie', 'Munti', 'black', 44,1000, 'Recylable Paper',1),\n",
    "(56, 'Burgundy Hoodie', 'Munti', 'burgundy', 44,1000, 'Recylable Paper',1)]\n",
    "\n",
    "try:\n",
    "        cur.executemany(qry, valuesinventory)\n",
    "        conn.commit()\n",
    "        print ('Records inserted successfully..committed')\n",
    "except:\n",
    "        print ('Error in insert operation..rollback')\n",
    "        conn.rollback()"
   ]
  },
  {
   "cell_type": "code",
   "execution_count": 46,
   "metadata": {},
   "outputs": [
    {
     "name": "stdout",
     "output_type": "stream",
     "text": [
      "Records inserted successfully..committed\n"
     ]
    }
   ],
   "source": [
    "# Insert multiple records in table E_ORDER\n",
    "\n",
    "qry=\"insert into E_ORDER (orderID, orderDate, orderDiscInfo, orderComment, orderStatus, delID) values (?,?,?,?,?,?);\"\n",
    "valuesorder=[(1,'02.01.2022',0.1,'example comment', 'dispatched', 10001),\n",
    "(2,'02.01.2022',0.2,'example comment', 'dispatched',10002),\n",
    "(3,'02.01.2022',0.05,'example comment', 'dispatched',10003),\n",
    "(4,'03.01.2022',0.0,'example comment', 'dispatched',10004),\n",
    "(5,'03.01.2022',0.0,'example comment', 'dispatched',10005),\n",
    "(6,'04.01.2022',0.0,'example comment', 'dispatched',10006),\n",
    "(7,'05.01.2022',0.1,'example comment', 'dispatched',10007),\n",
    "(8,'06.01.2022',0.05,'example comment', 'dispatched',10008),\n",
    "(9,'07.01.2022',0.0,'example comment', 'dispatched',10009),\n",
    "(10,'07.01.2022',0.0,'example comment', 'dispatched',10010),\n",
    "(11,'07.01.2022',0.0,'example comment', 'dispatched',10011),\n",
    "(12,'08.01.2022',0.05,'example comment', 'dispatched',10012),\n",
    "(13,'08.01.2022',0.05,'example comment', 'dispatched',10013),\n",
    "(14,'09.01.2022',0.05,'example comment', 'dispatched',10014),\n",
    "(15,'10.01.2022',0.05,'example comment', 'dispatched',10015),\n",
    "(16,'10.01.2022',0.05,'example comment', 'dispatched',10016),\n",
    "(17,'10.01.2022',0.05,'example comment', 'dispatched',10017),\n",
    "(18,'10.01.2022',0.05,'example comment', 'dispatched',10018),\n",
    "(19,'11.01.2022',0.0,'example comment', 'dispatched',10019),\n",
    "(20,'12.01.2022',0.1,'example comment', 'dispatched',10020),\n",
    "(21,'13.01.2022',0.05,'example comment', 'dispatched',10021),\n",
    "(22,'14.01.2022',0.0,'example comment', 'dispatched',10022),\n",
    "(23,'15.01.2022',0.0,'example comment', 'dispatched',10023),\n",
    "(24,'16.01.2022',0.05,'example comment', 'dispatched',10024),\n",
    "(25,'16.01.2022',0.05,'example comment', 'dispatched',10025),\n",
    "(26,'17.01.2022',0.05,'example comment', 'dispatched',10026),\n",
    "(27,'17.01.2022',0.05,'example comment', 'dispatched',10027),\n",
    "(28,'17.01.2022',0.05,'example comment', 'dispatched',10028),\n",
    "(29,'18.01.2022',0.05,'example comment', 'dispatched',10029),\n",
    "(30,'19.01.2022',0.1,'example comment', 'dispatched',10030),\n",
    "(31,'20.01.2022',0.0,'example comment', 'dispatched',10031),\n",
    "(32,'21.01.2022',0.05,'example comment', 'dispatched',10032),\n",
    "(33,'22.01.2022',0.05,'example comment', 'processed',10033),\n",
    "(34,'23.01.2022',0.05,'example comment', 'processed',10034),\n",
    "(35,'24.01.2022',0.05,'example comment', 'processed',10035),\n",
    "(36,'25.01.2022',0.1,'example comment', 'processed',10036),\n",
    "(37,'25.01.2022',0.05,'example comment', 'processed',10037),\n",
    "(38,'26.01.2022',0.0,'example comment', 'processed',10038),\n",
    "(39,'26.01.2022',0.0,'example comment', 'processed',10039),\n",
    "(40,'27.01.2022',0.0,'example comment', 'processed',10040),\n",
    "(41,'28.01.2022',0.05,'example comment', 'processed',10041),\n",
    "(42,'29.01.2022',0.05,'example comment', 'processed',10042),\n",
    "(43,'30.01.2022',0.0,'example comment', 'processed',10043),\n",
    "(44,'31.01.2022',0.0,'example comment', 'processed',10044),\n",
    "(45,'01.02.2022',0.05,'example comment', 'processed',10045),\n",
    "(46,'02.02.2022',0.05,'example comment', 'processed',10046),\n",
    "(47,'02.02.2022',0.05,'example comment', 'processed',10047),\n",
    "(48,'03.02.2022',0.05,'example comment', 'processed',10048),\n",
    "(49,'03.02.2022',0.05,'example comment', 'processed',10049),\n",
    "(50,'04.02.2022',0.05,'example comment', 'processed',10050),\n",
    "(51,'05.02.2022',0.1,'example comment', 'processed',10051),\n",
    "(52,'06.02.2022',0.05,'example comment', 'processed',10052),\n",
    "(53,'06.02.2022',0.0,'example comment', 'processed',10053),\n",
    "(54,'06.02.2022',0.05,'example comment', 'processed',10054),\n",
    "(55,'07.02.2022',0.05,'example comment', 'processed',10055),\n",
    "(56,'08.02.2022',0.05,'example comment', 'processed',10056),\n",
    "(57,'09.02.2022',0.05,'example comment', 'processed',10057),\n",
    "(58,'09.02.2022',0.0,'example comment', 'processed',10058),\n",
    "(59,'10.02.2022',0.05,'example comment', 'processed',10059),\n",
    "(60,'10.02.2022',0.05,'example comment', 'processed',10060),\n",
    "(61,'11.02.2022',0.05,'example comment', 'received', 10060),\n",
    "(62,'12.02.2022',0.0,'example comment', 'received', 10059),\n",
    "(63,'12.02.2022',0.05,'example comment', 'received', 10052),\n",
    "(64,'13.02.2022',0.05,'example comment', 'received', 10053),\n",
    "(65,'14.02.2022',0.0,'example comment', 'received', 10055),\n",
    "(66,'15.02.2022',0.05,'example comment', 'received', 10060),\n",
    "(67,'16.02.2022',0.05,'example comment', 'received', 10052),\n",
    "(68,'16.02.2022',0.0,'example comment', 'received', 10056),\n",
    "(69,'17.02.2022',0.05,'example comment', 'received',10057),\n",
    "(70,'17.02.2022',0.05,'example comment', 'received', 10060)\n",
    "]\n",
    "\n",
    "try:\n",
    "        cur.executemany(qry, valuesorder)\n",
    "        conn.commit()\n",
    "        print ('Records inserted successfully..committed')\n",
    "except:\n",
    "        print ('Error in insert operation..rollback')\n",
    "        conn.rollback()"
   ]
  },
  {
   "cell_type": "code",
   "execution_count": 45,
   "metadata": {},
   "outputs": [
    {
     "name": "stdout",
     "output_type": "stream",
     "text": [
      "Records inserted successfully..committed\n"
     ]
    }
   ],
   "source": [
    "# Insert multiple records in table E_DELIVERYINFO\n",
    "\n",
    "qry=\"insert into E_DELIVERYINFO (delID, custID, courierID) values (?,?,?);\"\n",
    "valuesdelivery=[(10001, 1000, 1),\n",
    "(10002, 3000, 1),\n",
    "(10003, 2000, 2),\n",
    "(10004, 4000, 1),\n",
    "(10005, 5000, 1),\n",
    "(10006, 6000, 2),\n",
    "(10007, 7000, 2),\n",
    "(10008, 8000, 2),\n",
    "(10009, 10000, 1),\n",
    "(10010, 9000, 2),\n",
    "(10011, 11000, 2),\n",
    "(10012, 12000, 2),\n",
    "(10013, 14000, 1),\n",
    "(10014, 15000, 1),\n",
    "(10015, 16000, 1),\n",
    "(10016, 17000, 1),\n",
    "(10017, 19000, 2),\n",
    "(10018, 18000, 2),\n",
    "(10019, 13000, 2),\n",
    "(10020, 21000, 1),\n",
    "(10021, 20000, 2),\n",
    "(10022, 22000, 1),\n",
    "(10023, 25000, 1),\n",
    "(10024, 24000, 1),\n",
    "(10025, 23000, 2),\n",
    "(10026, 26000, 2),\n",
    "(10027, 27000, 2),\n",
    "(10028, 28000, 2),\n",
    "(10029, 32000, 1),\n",
    "(10030, 33000, 1),\n",
    "(10031, 31000, 1),\n",
    "(10032, 30000, 1),\n",
    "(10033, 29000, 2),\n",
    "(10034, 35000, 2),\n",
    "(10035, 34000, 2),\n",
    "(10036, 36000, 2),\n",
    "(10037, 37000, 2),\n",
    "(10038, 42000, 2),\n",
    "(10039, 40000, 1),\n",
    "(10040, 41000, 1),\n",
    "(10041, 39000, 1),\n",
    "(10042, 38000, 2),\n",
    "(10043, 43000, 1),\n",
    "(10044, 44000, 1),\n",
    "(10045, 45000, 1),\n",
    "(10046, 46000, 2),\n",
    "(10047, 47000, 2),\n",
    "(10048, 48000, 1),\n",
    "(10049, 50000, 2),\n",
    "(10050, 51000, 1),\n",
    "(10051, 52000, 2),\n",
    "(10052, 49000, 2),\n",
    "(10053, 54000, 1),\n",
    "(10054, 53000, 1),\n",
    "(10055, 55000, 2),\n",
    "(10056, 57000, 2),\n",
    "(10057, 56000, 1),\n",
    "(10058, 60000, 2),\n",
    "(10059, 59000, 1),\n",
    "(10060, 58000, 2)]\n",
    "\n",
    "try:\n",
    "        cur.executemany(qry, valuesdelivery)\n",
    "        conn.commit()\n",
    "        print ('Records inserted successfully..committed')\n",
    "except:\n",
    "        print ('Error in insert operation..rollback')\n",
    "        conn.rollback()"
   ]
  },
  {
   "cell_type": "code",
   "execution_count": 70,
   "metadata": {},
   "outputs": [
    {
     "name": "stdout",
     "output_type": "stream",
     "text": [
      "Records inserted successfully..committed\n"
     ]
    }
   ],
   "source": [
    "# Insert multiple records in table E_BILLINGINFO\n",
    "\n",
    "qry=\"insert into E_BILLINGINFO (billingID, billingName, billingAddress, billingTransaction, billingDate) values (?,?,?,?,?);\"\n",
    "valuesbilling=[(2000, 'Southampton University', 'Building 85, Highfield Campus University Road, Southampton SO17 1BJ', 'credit card','01.03.2022'),\n",
    "(3000, 'Cardiff University', 'Park Place, Cardiff CF10 3AT', 'apple pay', '01.03.2022'),\n",
    "(4000, 'Durham University', 'The Palatine Centre, Stockton Road, Durham DH1 3LE', 'paypal', '01.03.2022'),\n",
    "(5000, 'Heriot Watt University', 'The Avenue, Edinburgh EH14 4AS', 'credit card', '01.03.2022'),\n",
    "(6000, 'Keele University', 'Keele Road, Keele ST5 5BG', 'credit card', '01.03.2022'),\n",
    "(7000, 'Lancaster University', 'Bailrigg, Lancaster LA1 4YX, Lancaster', 'apple pay', '01.03.2022'),\n",
    "(8000, 'Manchester Metropolitan University', 'All Saints Building, All Saints, Manchester M15 6BH', 'credit card', '01.03.2022'),\n",
    "(9000, 'Newcastle University', 'Northern Stage, Newcastle Upon Tyne NE1 7RU', 'paypal', '01.03.2022'),\n",
    "(10000, 'Oxford Brookers University', 'John Radcliffe Hospital, Headley Way, Oxford OX3 9DU', 'credit card', '01.03.2022'),\n",
    "(11000, 'The University of Manchester', 'Sackville Building, Sackville Street, Manchester M1 3NJ', 'credit card', '01.03.2022'),\n",
    "(12000, 'University of Chester', 'Parkgate Road, Chester CH1 4BJ', 'credit card', '01.03.2022'),\n",
    "(13000, 'University of Exeter', 'Stocker Road, Exeter EX4 4PY', 'credit card', '01.03.2022'),\n",
    "(14000, 'University of Leeds', 'Woodhouse Lane, Leeds LS2 9JT', 'credit card', '01.03.2022'),\n",
    "(15000, 'University of Westminster', '309 Regent Street, London W1B 2HW', 'credit card', '01.03.2022'),\n",
    "(16000, 'Sherborne School', 'Abbey Road, Sherborne DT9 3AP', 'paypal', '01.03.2022'),\n",
    "(17000, 'Abingdon School', 'Park Road, Abingdon OX14 1DE', 'paypal', '01.03.2022'),\n",
    "(18000, 'St Paul`s Cathedral School', '2 New Change, London EC4M 9AD', 'credit card', '01.03.2022'),\n",
    "(19000, 'The King`s School, Chester', 'The Kings School Wrexham Road, Chester CH4 7QL','credit card', '01.03.2022'),\n",
    "(20000, 'Exeter Cathedral School', 'The Chantry, Exeter EX1 1HX', 'credit card', '01.03.2022'),\n",
    "(21000, 'Oswestry School', 'Upper Brook Street, Oswestry SY11 2TL', 'paypal', '01.03.2022'),\n",
    "(22000, 'Sevenoaks School', 'High Street, Sevenoaks TN13 1HU', 'apple pay', '01.03.2022'),\n",
    "(23000, 'Eton College', 'Windsor SL4 6DW', 'credit card', '01.03.2022'),\n",
    "(24000, 'City of London School', 'Queen Victoria Street, London EC4V 3AL', 'credit card', '01.03.2022'),\n",
    "(25000, 'Stockport Grammar School', 'Buxton Road, Stockport SK2 7AF', 'apple pay', '01.03.2022'),\n",
    "(26000, 'Wolverhampton Grammar School', 'Compton Road, Wolverhampton WV3 9RB', 'credit card', '01.03.2022'),\n",
    "(27000, 'Shrewsbury School', '11 Ashton Road, Shrewsbury SY3 7BA', 'credit card', '01.03.2022' ),\n",
    "(28000, 'Dolphin School', '25a Bath Buildings, Bristol BS6 5PT', 'paypal', '01.03.2022'),\n",
    "(29000, 'Colchester High School', 'Wellesley Road, Colchester CO3 3HD', 'apple pay', '01.03.2022' ),\n",
    "(30000, 'Hydesville Tower School', '25 Broadway North, Walsall WS1 2QG', 'credit card', '01.03.2022' ),\n",
    "(31000, 'Winchester College', 'Porters Lodge College Street, Winchester SO23 9NA', 'credit card', '01.03.2022'),\n",
    "(32000, 'Concord College', 'Acton Burnell Hall, Shrewsbury SY5 7PF', 'paypal', '01.03.2022'),\n",
    "(33000, 'Wycombe Abbey School', 'Wycombe Abbey School Abbey Way, High Wycombe HP11 1PE', 'credit card', '01.03.2022'),\n",
    "(34000, 'Manchester High School for Girls', 'Grangethorpe Road, Manchester M14 6HS', 'credit card', '01.03.2022'),\n",
    "(35000, 'Hampton School', 'Hanworth Road, Hampton TW12 3HD', 'apple pay', '01.03.2022'),\n",
    "(36000, 'Highgate School', 'North Road, London N6 4AY', 'credit card', '01.03.2022'),\n",
    "(37000, 'Godolphin & Latymer School', 'Godolphin Caretakers Lodge Iffley Road, Hammersmith W6 0PG', 'credit card', '01.03.2022'),\n",
    "(38000, 'Merchant Taylors` School', 'Sandy Lodge, Rickmansworth HA6 2HT', 'apple pay', '01.03.2022'),\n",
    "(39000, 'Loughborough High School', '3 Burton Walks, Loughborough LE11 2DU', 'credit card', '01.03.2022'),\n",
    "(40000, 'Uppingham School', '20-24 High Street West, Uppingham LE15 9QE', 'credit card', '01.03.2022'),\n",
    "(41000, 'Radley College', 'Radley College Radley, Abingdon OX14 2HR', 'paypal', '01.03.2022'),\n",
    "(42000, 'Cheltenham Ladies` College', 'Bayshill Road, Cheltenham GL50 3EP', 'credit card', '01.03.2022'),\n",
    "(43000, 'St Albans School', 'Abbey Gateway, St Albans AL3 4HB', 'paypal', '01.03.2022'),\n",
    "(44000, 'Caterham School', 'Caterham School Harestone Valley Road, Caterham CR3 6YA', 'credit card', '01.03.2022'),\n",
    "(45000, 'Latymer Upper School', '237 King Street, London W6 9LR', 'credit card', '01.03.2022'),\n",
    "(46000, 'Wellington College', 'Wellington College Duke`s Ride CROWTHORNE Berkshire RG45 7PU', 'paypal', '01.03.2022'),\n",
    "(47000, 'Francis Holland School', '39 Graham Terrace, London SW1W 8JF', 'credit card', '01.03.2022'),\n",
    "(48000, 'Mayfield', 'High Street, The Old Palace, Mayfield TN20 6PH', 'credit card', '01.03.2022'),\n",
    "(49000, 'Canford School', 'Wimborne Minster BH21 3AD', 'credit card', '01.03.2022'),\n",
    "(50000, 'Wembley High Technology College', '2 Oldborough Road, Wembley HA0 3NT', 'apple pay', '01.03.2022'),\n",
    "(51000, 'The Tiffin Girls School', 'Richmond Rd, London KT2 5PL', 'paypal', '01.03.2022'),\n",
    "(52000, 'Magna Academy', 'Ashdown Leisure Centre Adastral Road, Poole BH17 8RE', 'paypal', '01.03.2022'),\n",
    "(53000, 'The Holy Cross School', 'Dean Lane, Bristol BS3 1DB', 'credit card', '01.03.2022'),\n",
    "(54000, 'Dartford Grammar School for Girls', '65 Shepherds Lane, Dartford DA1 2NT', 'credit card', '01.03.2022'),\n",
    "(55000, 'London Academy', 'Spur Road, Edgware, London HA8 8DE', 'paypal', '01.03.2022'),\n",
    "(56000, 'St Augustine`s Catholic High School', 'Stonepits Ln, Redditch B97 5LX', 'apple pay', '01.03.2022'),\n",
    "(57000, 'Sacred Heart Catholic School', 'Camberwell New Road, London SE5 0RP', 'credit card', '01.03.2022'),\n",
    "(58000, 'Beacon Academy', 'North Beeches Road, Crowborough TN6 2AS', 'paypal', '01.03.2022'),\n",
    "(59000, 'Featherstone High School', '11 Montague Waye, Southall UB2 5HF', 'credit card', '01.03.2022'),\n",
    "(60000,'Manor High School', '3 Severn Road, Oadby LE2 4FU', 'credit card', '01.03.2022')]\n",
    "\n",
    "try:\n",
    "        cur.executemany(qry, valuesbilling)\n",
    "        conn.commit()\n",
    "        print ('Records inserted successfully..committed')\n",
    "except:\n",
    "        print ('Error in insert operation..rollback')\n",
    "        conn.rollback()"
   ]
  },
  {
   "cell_type": "code",
   "execution_count": 69,
   "metadata": {},
   "outputs": [
    {
     "name": "stdout",
     "output_type": "stream",
     "text": [
      "One record inserted successfully..commit\n"
     ]
    }
   ],
   "source": [
    "qry=\"insert into  E_BILLINGINFO values (1000,'Bath Spa University', 'Newton Park, Newton St Loe, Bath BA2 9BN', 'credit card','01.03.2022');\"\n",
    "\n",
    "try:\n",
    "        cur.execute(qry)\n",
    "        conn.commit()\n",
    "        print ('One record inserted successfully..commit')\n",
    "except:\n",
    "        print ('Error in insert operation..rollback')\n",
    "        conn.rollback()\n",
    "        print(conn)"
   ]
  },
  {
   "cell_type": "code",
   "execution_count": 71,
   "metadata": {},
   "outputs": [
    {
     "name": "stdout",
     "output_type": "stream",
     "text": [
      "Records inserted successfully..committed\n"
     ]
    }
   ],
   "source": [
    "# Insert multiple records in table E_COURIER\n",
    "\n",
    "qry=\"insert into E_COURIER (courierID, courierName, courierPhone, courierEmail) values (?,?,?,?);\"\n",
    "valuescourier=[(1, 'DPD', 1179105010, 'deliveries@dpd.com'),\n",
    "(2, 'Royal Mail', 3457740740, 'deliveries@royalmail.com')]\n",
    "\n",
    "try:\n",
    "        cur.executemany(qry, valuescourier)\n",
    "        conn.commit()\n",
    "        print ('Records inserted successfully..committed')\n",
    "except:\n",
    "        print ('Error in insert operation..rollback')\n",
    "        conn.rollback()"
   ]
  },
  {
   "cell_type": "code",
   "execution_count": 99,
   "metadata": {},
   "outputs": [
    {
     "name": "stdout",
     "output_type": "stream",
     "text": [
      "Records inserted successfully..committed\n"
     ]
    }
   ],
   "source": [
    "# Insert multiple records in table E_CUSTOMER\n",
    "\n",
    "qry=\"insert into E_CUSTOMER (custID, custName, custAddress, custEmail, custPhone, billingID) values (?,?,?,?,?,?);\"\n",
    "valuescustomer=[(3000, 'Cardiff University', 'Park Place, Cardiff CF10 3AT', 'office@cardiff.ac.uk', 2920874000,3000),\n",
    "(4000, 'Durham University', 'The Palatine Centre, Stockton Road, Durham DH1 3LE', 'services@durham.ac.uk', 1913342000,4000),\n",
    "(5000, 'Heriot Watt University', 'The Avenue, Edinburgh EH14 4AS', 'info@hw.ac.uk', 1314495111,5000),\n",
    "(6000, 'Keele University', 'Keele Road, Keele ST5 5BG', 'reception@keele.ac.uk', 1782733937,6000)]\n",
    "\n",
    "try:\n",
    "        cur.executemany(qry, valuescustomer)\n",
    "        conn.commit()\n",
    "        print ('Records inserted successfully..committed')\n",
    "except:\n",
    "        print ('Error in insert operation..rollback')\n",
    "        conn.rollback()"
   ]
  },
  {
   "cell_type": "code",
   "execution_count": 75,
   "metadata": {},
   "outputs": [
    {
     "name": "stdout",
     "output_type": "stream",
     "text": [
      "One record inserted successfully..commit\n"
     ]
    }
   ],
   "source": [
    "qry=\"insert into E_CUSTOMER values (1000,'Bath Spa University', 'Newton Park, Newton St Loe, Bath BA2 9BN', 'maindesk@bathspa.ac.uk', 1225875875,1000);\"\n",
    "\n",
    "try:\n",
    "        cur.execute(qry)\n",
    "        conn.commit()\n",
    "        print ('One record inserted successfully..commit')\n",
    "except:\n",
    "        print ('Error in insert operation..rollback')\n",
    "        conn.rollback()\n",
    "        print(conn)"
   ]
  },
  {
   "cell_type": "code",
   "execution_count": 102,
   "metadata": {},
   "outputs": [
    {
     "name": "stdout",
     "output_type": "stream",
     "text": [
      "One record inserted successfully..commit\n"
     ]
    }
   ],
   "source": [
    "qry=\"insert into E_CUSTOMER values (2000,'Southampton University', 'Highfield Campus University Road, Southampton SO17 1BJ', 'admin@southampton.ac.uk', 1225785875,2000);\"\n",
    "\n",
    "try:\n",
    "        cur.execute(qry)\n",
    "        conn.commit()\n",
    "        print ('One record inserted successfully..commit')\n",
    "except:\n",
    "        print ('Error in insert operation..rollback')\n",
    "        conn.rollback()\n",
    "        print(conn)"
   ]
  },
  {
   "cell_type": "code",
   "execution_count": 123,
   "metadata": {},
   "outputs": [
    {
     "name": "stdout",
     "output_type": "stream",
     "text": [
      "Records inserted successfully..committed\n"
     ]
    }
   ],
   "source": [
    "# Insert multiple records in table E_CUSTOMER\n",
    "\n",
    "qry=\"insert into E_CUSTOMER (custID, custName, custAddress, custEmail, custPhone, billingID) values (?,?,?,?,?,?);\"\n",
    "valuescustomer=[(7000,'Lancaster University', 'Bailrigg, Lancaster LA1 4YX, Lancaster', 'info@lancaster.ac.uk',152459028,7000),\n",
    "(8000,'Manchester Metropolitan University', 'All Saints Building, All Saints, Manchester M15 6BH', 'office@mmu.ac.uk',1612472186,8000),\n",
    "(9000,'Newcastle University', 'Northern Stage, Newcastle Upon Tyne NE1 7RU', 'admin@ncl.ac.uk',1912086000,9000),\n",
    "(10000,'Oxford Brookers University', 'John Radcliffe Hospital, Headley Way, Oxford OX3 9DU','admin@brookes.ac.uk',1865484848,10000),\n",
    "(11000,'The University of Manchester', 'Sackville Building, Sackville Street, Manchester M1 3NJ','admin@manchester.ac.uk',1612732996,11000),\n",
    "(12000, 'University of Chester', 'Parkgate Road, Chester CH1 4BJ', 'helpdesk@chester.ac.uk',1244511000,12000),\n",
    "(13000, 'University of Exeter', 'Stocker Road, Exeter EX4 4PY', 'info@exeter.ac.uk',1392661000,13000),\n",
    "(14000, 'University of Leeds', 'Woodhouse Lane, Leeds LS2 9JT', 'info@leeds.ac.uk',1132431751,14000),\n",
    "(15000, 'University of Westminster', '309 Regent Street, London W1B 2HW', 'admin@westminster.ac.uk',2079115000,15000),\n",
    "(16000, 'Sherborne School', 'Abbey Road, Sherborne DT9 3AP', 'enquiries@sherborne.org',1935812249,16000),\n",
    "(17000, 'Abingdon School', 'Park Road, Abingdon OX14 1DE', 'reception@abingdon.org.uk',1235521563,17000),\n",
    "(18000, 'St Paul`s Cathedral School', '2 New Change, London EC4M 9AD', 'admin@spcs@london.sch.uk',2072485156,18000),\n",
    "(19000, 'The King`s School, Chester', 'The Kings School Wrexham Road, Chester CH4 7QL','office@kingschester.co.uk',1244689500,19000),\n",
    "(20000, 'Exeter Cathedral School', 'The Chantry, Exeter EX1 1HX', 'reception@exetercs.org',1392255298,20000)]\n",
    "\n",
    "try:\n",
    "        cur.executemany(qry, valuescustomer)\n",
    "        conn.commit()\n",
    "        print ('Records inserted successfully..committed')\n",
    "except:\n",
    "        print ('Error in insert operation..rollback')\n",
    "        conn.rollback()"
   ]
  },
  {
   "cell_type": "code",
   "execution_count": 125,
   "metadata": {},
   "outputs": [
    {
     "name": "stdout",
     "output_type": "stream",
     "text": [
      "Records inserted successfully..committed\n"
     ]
    }
   ],
   "source": [
    "# Insert multiple records in table E_CUSTOMER\n",
    "\n",
    "qry=\"insert into E_CUSTOMER (custID, custName, custAddress, custEmail, custPhone, billingID) values (?,?,?,?,?,?);\"\n",
    "valuescustomer=[(21000, 'Oswestry School', 'Upper Brook Street, Oswestry SY11 2TL', 'admin@oswestryschool.com',1691655711,21000),\n",
    "(22000, 'Sevenoaks School', 'High Street, Sevenoaks TN13 1HU', 'admin@sevenoaksschool.org',1732467703,22000),\n",
    "(23000, 'Eton College', 'Windsor SL4 6DW', 'enquiries@etoncollege.org.uk',1753370100,23000),\n",
    "(24000, 'City of London School', 'Queen Victoria Street, London EC4V 3AL', 'officr@cityoflondonschool.org.uk',2036806314,24000),\n",
    "(25000, 'Stockport Grammar School', 'Buxton Road, Stockport SK2 7AF', 'sgs@stockportgrammar.co.uk',1614569000,25000),\n",
    "(26000, 'Wolverhampton Grammar School', 'Compton Road, Wolverhampton WV3 9RB', 'office@wgs-sch.net',1902421326,26000),\n",
    "(27000, 'Shrewsbury School', '11 Ashton Road, Shrewsbury SY3 7BA', 'reception@shrewsbury.org.uk',1743280500,27000),\n",
    "(28000, 'Dolphin School', '25a Bath Buildings, Bristol BS6 5PT', 'receptionist@dolphinschool.org.uk',2079243472,28000),\n",
    "(29000, 'Colchester High School', 'Wellesley Road, Colchester CO3 3HD', 'info@colchesterhighschool.co.uk',1206217116,29000),\n",
    "(30000, 'Hydesville Tower School', '25 Broadway North, Walsall WS1 2QG', 'info@hydesville.com',1922624374,30000),\n",
    "(31000, 'Winchester College', 'Porters Lodge College Street, Winchester SO23 9NA', 'wincolloffice@wincoll.ac.uk',1962621100,31000),\n",
    "(32000, 'Concord College', 'Acton Burnell Hall, Shrewsbury SY5 7PF', 'office@concordcollege.org.uk',1694731631,32000),\n",
    "(33000, 'Wycombe Abbey School', 'Wycombe Abbey School Abbey Way, High Wycombe HP11 1PE', 'office@wycombeabbey.com',1494520381,33000),\n",
    "(34000, 'Manchester High School for Girls', 'Grangethorpe Road, Manchester M14 6HS', 'administration@mhsg.manchester.sch.uk',1612240447,34000),\n",
    "(35000, 'Hampton School', 'Hanworth Road, Hampton TW12 3HD', 'info@hamptonschool.org.uk',2089795526,35000),\n",
    "(36000, 'Highgate School', 'North Road, London N6 4AY', 'communications@highgateschool.org.uk',2083401524,36000),\n",
    "(37000, 'Godolphin & Latymer School', 'Godolphin Caretakers Lodge Iffley Road, Hammersmith W6 0PG', 'office@godolphinandlatymer.com',2087411936,37000),\n",
    "(38000, 'Merchant Taylors` School', 'Sandy Lodge, Rickmansworth HA6 2HT', 'infomtgs@merchanttaylors.com',1923820644,38000),\n",
    "(39000, 'Loughborough High School', '3 Burton Walks, Loughborough LE11 2DU', 'office@lhs.com',1509212348,39000),\n",
    "(40000, 'Uppingham School', '20-24 High Street West, Uppingham LE15 9QE', 'pa@uppingham.co.uk',1572822216,40000),\n",
    "(41000, 'Radley College', 'Radley College Radley, Abingdon OX14 2HR', 'office@radley.org.uk',1235543174,41000),\n",
    "(42000, 'Cheltenham Ladies` College', 'Bayshill Road, Cheltenham GL50 3EP', 'enquiries@cheltladiescollege.org',1242520691,42000),\n",
    "(43000, 'St Albans School', 'Abbey Gateway, St Albans AL3 4HB', 'office@stalbanssch.org.uk',1727855521,43000),\n",
    "(44000, 'Caterham School', 'Caterham School Harestone Valley Road, Caterham CR3 6YA', 'pa@caterhamschool.co.uk',1883343028,44000),\n",
    "(45000, 'Latymer Upper School', '237 King Street, London W6 9LR', 'office@latymer-upper.org.',2086292024,45000),\n",
    "(46000, 'Wellington College', 'Wellington College Duke`s Ride CROWTHORNE Berkshire RG45 7PU', 'office@wellingtoncollege.org.uk',1344444000,46000),\n",
    "(47000, 'Francis Holland School', '39 Graham Terrace, London SW1W 8JF', 'office@fhs.com',2077308359,47000),\n",
    "(48000, 'Mayfield', 'High Street, The Old Palace, Mayfield TN20 6PH', 'enquiry@mayfiled.org',1435874600,48000),\n",
    "(49000, 'Canford School', 'Wimborne Minster BH21 3AD', 'office@canford.com',1202847207,49000),\n",
    "(50000, 'Wembley High Technology College', '2 Oldborough Road, Wembley HA0 3NT', 'admin@whtc.co.uk',2083854800,50000),\n",
    "(51000, 'The Tiffin Girls School', 'Richmond Rd, London KT2 5PL', 'contact@tiffingirls.org',2085460773,51000),\n",
    "(52000, 'Magna Academy', 'Ashdown Leisure Centre Adastral Road, Poole BH17 8RE', 'office@magna-aspirations.org',1202604222,52000),\n",
    "(53000, 'The Holy Cross School', 'Dean Lane, Bristol BS3 1DB', 'hxs@holycross.kingston.sch.uk',1173772199,53000),\n",
    "(54000, 'Dartford Grammar School for Girls', '65 Shepherds Lane, Dartford DA1 2NT', 'info@dartfordgrammarschool.org.uk',1322223123,54000),\n",
    "(55000, 'London Academy', 'Spur Road, Edgware, London HA8 8DE', 'office@londonacademy.org.uk',2082381100,55000),\n",
    "(56000, 'St Augustine`s Catholic High School', 'Stonepits Ln, Redditch B97 5LX', 'reception@sta.magnificat.org.uk',1527550400,56000),\n",
    "(57000, 'Sacred Heart Catholic School', 'Camberwell New Road, London SE5 0RP', 'office@sacredheart.southwark.sch.uk',2072746844,57000),\n",
    "(58000, 'Beacon Academy', 'North Beeches Road, Crowborough TN6 2AS', 'office@beaconacademy.co.uk',1472328888,58000),\n",
    "(59000, 'Featherstone High School', '11 Montague Waye, Southall UB2 5HF', 'info@featherstonehigh.ealing.sch.uk',2088430984,59000),\n",
    "(60000,'Manor High School', '3 Severn Road, Oadby LE2 4FU', 'admin@oaktrust.org',1162714941,60000)]\n",
    "\n",
    "try:\n",
    "        cur.executemany(qry, valuescustomer)\n",
    "        conn.commit()\n",
    "        print ('Records inserted successfully..committed')\n",
    "except:\n",
    "        print ('Error in insert operation..rollback')\n",
    "        conn.rollback()"
   ]
  },
  {
   "cell_type": "code",
   "execution_count": 131,
   "metadata": {},
   "outputs": [
    {
     "name": "stdout",
     "output_type": "stream",
     "text": [
      "Records inserted successfully..committed\n"
     ]
    }
   ],
   "source": [
    "# Insert multiple records in table E_ORD_INV\n",
    "\n",
    "qry=\"insert into E_ORD_INV (orderID, invID) values (?,?);\"\n",
    "valuesordinv=[(1,10),\n",
    "(1,56),\n",
    "(2,10),\n",
    "(2,56),\n",
    "(2,29),\n",
    "(3,42),\n",
    "(3,41),\n",
    "(3,23),\n",
    "(3,34),\n",
    "(3,37),\n",
    "(4,40),\n",
    "(4,34),\n",
    "(5,28),\n",
    "(5,33),\n",
    "(6,22),\n",
    "(7,32),\n",
    "(7,38),\n",
    "(7,10),\n",
    "(7,43),\n",
    "(8,26),\n",
    "(9,5),\n",
    "(10,45)]\n",
    "\n",
    "try:\n",
    "        cur.executemany(qry, valuesordinv)\n",
    "        conn.commit()\n",
    "        print ('Records inserted successfully..committed')\n",
    "except:\n",
    "        print ('Error in insert operation..rollback')\n",
    "        conn.rollback()\n"
   ]
  },
  {
   "cell_type": "code",
   "execution_count": 138,
   "metadata": {},
   "outputs": [
    {
     "name": "stdout",
     "output_type": "stream",
     "text": [
      "Records inserted successfully..committed\n"
     ]
    }
   ],
   "source": [
    "qry=\"insert into E_ORD_INV (orderID, invID) values (?,?);\"\n",
    "valuesordinv=[(10,25),\n",
    "(11,25),\n",
    "(11,45),\n",
    "(11,6),\n",
    "(11,38),\n",
    "(12,31),\n",
    "(12,37),\n",
    "(12,9),\n",
    "(12,29),\n",
    "(13,17),\n",
    "(13,29),\n",
    "(13,27),\n",
    "(14,31),\n",
    "(14,48),\n",
    "(14,36),\n",
    "(14,51),\n",
    "(15,16),\n",
    "(15,54),\n",
    "(16,20),\n",
    "(17,11),]\n",
    "\n",
    "try:\n",
    "        cur.executemany(qry, valuesordinv)\n",
    "        conn.commit()\n",
    "        print ('Records inserted successfully..committed')\n",
    "except:\n",
    "        print ('Error in insert operation..rollback')\n",
    "        conn.rollback()"
   ]
  },
  {
   "cell_type": "code",
   "execution_count": 140,
   "metadata": {},
   "outputs": [
    {
     "name": "stdout",
     "output_type": "stream",
     "text": [
      "Records inserted successfully..committed\n"
     ]
    }
   ],
   "source": [
    "qry=\"insert into E_ORD_INV (orderID, invID) values (?,?);\"\n",
    "valuesordinv=[(18,15),\n",
    "(18,21),\n",
    "(18,22),\n",
    "(19,16),\n",
    "(19,42),\n",
    "(20,52),\n",
    "(20,49),\n",
    "(21,31),\n",
    "(21,35),\n",
    "(21,47),\n",
    "(22,5),\n",
    "(23,3),\n",
    "(24,9),\n",
    "(24,28),\n",
    "(25,50),\n",
    "(25,11),\n",
    "(26,12),\n",
    "(27,43),\n",
    "(27,23),\n",
    "(27,28),\n",
    "(27,39),\n",
    "(28,14),\n",
    "(29,36),\n",
    "(29,37),\n",
    "(30,36),\n",
    "(31,48),\n",
    "(32,20),\n",
    "(32,7),\n",
    "(32,44),\n",
    "(33,10),\n",
    "(34,50),\n",
    "(34,21),\n",
    "(34,34),\n",
    "(35,24),\n",
    "(36,31),\n",
    "(37,35),\n",
    "(37,13),\n",
    "(38,32),\n",
    "(39,25),\n",
    "(39,22),\n",
    "(40,34),\n",
    "(41,26),\n",
    "(41,51),\n",
    "(42,18),\n",
    "(43,27),\n",
    "(44,30),\n",
    "(45,10),\n",
    "(46,37),\n",
    "(47,51),\n",
    "(47,27),\n",
    "(47,36),\n",
    "(48,3),\n",
    "(49,11),\n",
    "(50,20),\n",
    "(50,54),\n",
    "(51,55),\n",
    "(51,3),\n",
    "(52,47),\n",
    "(53,42),\n",
    "(54,14),\n",
    "(55,14),\n",
    "(56,45),\n",
    "(56,32),\n",
    "(56,24),\n",
    "(57,16),\n",
    "(58,25),\n",
    "(59,52),\n",
    "(59,20),\n",
    "(59,41),\n",
    "(60,20),\n",
    "(61,48),\n",
    "(62,41),\n",
    "(63,19),\n",
    "(63,8),\n",
    "(63,9),\n",
    "(64,40),\n",
    "(65,31),\n",
    "(66,44),\n",
    "(67,56),\n",
    "(68,19),\n",
    "(69,23),\n",
    "(69,31),\n",
    "(70,12),\n",
    "(70,16)]\n",
    "\n",
    "try:\n",
    "        cur.executemany(qry, valuesordinv)\n",
    "        conn.commit()\n",
    "        print ('Records inserted successfully..committed')\n",
    "except:\n",
    "        print ('Error in insert operation..rollback')\n",
    "        conn.rollback()"
   ]
  },
  {
   "cell_type": "code",
   "execution_count": 129,
   "metadata": {},
   "outputs": [
    {
     "name": "stdout",
     "output_type": "stream",
     "text": [
      "One record inserted successfully..commit\n"
     ]
    }
   ],
   "source": [
    "qry=\"insert into E_ORD_INV values (1,4);\"\n",
    "\n",
    "try:\n",
    "        cur.execute(qry)\n",
    "        conn.commit()\n",
    "        print ('One record inserted successfully..commit')\n",
    "except:\n",
    "        print ('Error in insert operation..rollback')\n",
    "        conn.rollback()\n",
    "        print(conn)"
   ]
  },
  {
   "cell_type": "code",
   "execution_count": null,
   "metadata": {},
   "outputs": [],
   "source": [
    "\n"
   ]
  },
  {
   "cell_type": "code",
   "execution_count": null,
   "metadata": {},
   "outputs": [],
   "source": []
  },
  {
   "cell_type": "code",
   "execution_count": null,
   "metadata": {},
   "outputs": [],
   "source": []
  },
  {
   "cell_type": "code",
   "execution_count": null,
   "metadata": {},
   "outputs": [],
   "source": []
  },
  {
   "cell_type": "code",
   "execution_count": 27,
   "metadata": {},
   "outputs": [],
   "source": [
    "conn.close()"
   ]
  },
  {
   "cell_type": "code",
   "execution_count": null,
   "metadata": {},
   "outputs": [],
   "source": []
  },
  {
   "cell_type": "code",
   "execution_count": null,
   "metadata": {},
   "outputs": [],
   "source": []
  },
  {
   "cell_type": "code",
   "execution_count": 5,
   "metadata": {},
   "outputs": [
    {
     "name": "stdout",
     "output_type": "stream",
     "text": [
      "(1, 'Navy Blue Hoodie', 'Munti', 'navy blue', 32, 1000, 'Recyclable Paper', 1)\n"
     ]
    }
   ],
   "source": [
    "qry=\"select * from E_INVENTORY;\"\n",
    "cur.execute(qry)\n",
    "\n",
    "# Fetch and display one row\n",
    "row=cur.fetchone()\n",
    "\n",
    "print (row)"
   ]
  },
  {
   "cell_type": "code",
   "execution_count": 13,
   "metadata": {},
   "outputs": [
    {
     "name": "stdout",
     "output_type": "stream",
     "text": [
      "(1, 'Navy Blue Hoodie', 'Munti', 'navy blue', 32, 1000, 'Recyclable Paper', 1)\n",
      "(2, 'Grey Hoodie', 'Munti', 'grey', 32, 1000, 'Recyclable Paper', 1)\n",
      "(3, 'Red Hoodie', 'Munti', 'red', 32, 1000, 'Recyclable Paper', 1)\n",
      "(4, 'Olive Hoodie', 'Munti', 'olive', 32, 1000, 'Recylable Paper', 1)\n",
      "(5, 'Pink Hoodie', 'Munti', 'pink', 32, 1000, 'Recylable Paper', 1)\n",
      "(6, 'Purple Hoodie', 'Munti', 'purple', 32, 1000, 'Recylable Paper', 1)\n",
      "(7, 'Black Hoodie', 'Munti', 'black', 32, 1000, 'Recylable Paper', 1)\n",
      "(8, 'Burgundy Hoodie', 'Munti', 'burgundy', 32, 1000, 'Recylable Paper', 1)\n",
      "(9, 'Navy Blue Hoodie', 'Munti', 'navy blue', 34, 1000, 'Recyclable Paper', 1)\n",
      "(10, 'Grey Hoodie', 'Munti', 'grey', 34, 1000, 'Recyclable Paper', 1)\n",
      "(11, 'Red Hoodie', 'Munti', 'red', 34, 1000, 'Recyclable Paper', 1)\n",
      "(12, 'Olive Hoodie', 'Munti', 'olive', 34, 1000, 'Recylable Paper', 1)\n",
      "(13, 'Pink Hoodie', 'Munti', 'pink', 34, 1000, 'Recylable Paper', 1)\n",
      "(14, 'Purple Hoodie', 'Munti', 'purple', 34, 1000, 'Recylable Paper', 1)\n",
      "(15, 'Black Hoodie', 'Munti', 'black', 34, 1000, 'Recylable Paper', 1)\n",
      "(16, 'Burgundy Hoodie', 'Munti', 'burgundy', 34, 1000, 'Recylable Paper', 1)\n",
      "(17, 'Navy Blue Hoodie', 'Munti', 'navy blue', 36, 1000, 'Recyclable Paper', 1)\n",
      "(18, 'Grey Hoodie', 'Munti', 'grey', 36, 1000, 'Recyclable Paper', 1)\n",
      "(19, 'Red Hoodie', 'Munti', 'red', 36, 1000, 'Recyclable Paper', 1)\n",
      "(20, 'Olive Hoodie', 'Munti', 'olive', 36, 1000, 'Recylable Paper', 1)\n",
      "(21, 'Pink Hoodie', 'Munti', 'pink', 36, 1000, 'Recylable Paper', 1)\n",
      "(22, 'Purple Hoodie', 'Munti', 'purple', 36, 1000, 'Recylable Paper', 1)\n",
      "(23, 'Black Hoodie', 'Munti', 'black', 36, 1000, 'Recylable Paper', 1)\n",
      "(24, 'Burgundy Hoodie', 'Munti', 'burgundy', 36, 1000, 'Recylable Paper', 1)\n",
      "(25, 'Navy Blue Hoodie', 'Munti', 'navy blue', 38, 1000, 'Recyclable Paper', 1)\n",
      "(26, 'Grey Hoodie', 'Munti', 'grey', 38, 1000, 'Recyclable Paper', 1)\n",
      "(27, 'Red Hoodie', 'Munti', 'red', 38, 1000, 'Recyclable Paper', 1)\n",
      "(28, 'Olive Hoodie', 'Munti', 'olive', 38, 1000, 'Recylable Paper', 1)\n",
      "(29, 'Pink Hoodie', 'Munti', 'pink', 38, 1000, 'Recylable Paper', 1)\n",
      "(30, 'Purple Hoodie', 'Munti', 'purple', 38, 1000, 'Recylable Paper', 1)\n",
      "(31, 'Black Hoodie', 'Munti', 'black', 38, 1000, 'Recylable Paper', 1)\n",
      "(32, 'Burgundy Hoodie', 'Munti', 'burgundy', 38, 1000, 'Recylable Paper', 1)\n",
      "(33, 'Navy Blue Hoodie', 'Munti', 'navy blue', 40, 1000, 'Recyclable Paper', 1)\n",
      "(34, 'Grey Hoodie', 'Munti', 'grey', 40, 1000, 'Recyclable Paper', 1)\n",
      "(35, 'Red Hoodie', 'Munti', 'red', 40, 1000, 'Recyclable Paper', 1)\n",
      "(36, 'Olive Hoodie', 'Munti', 'olive', 40, 1000, 'Recylable Paper', 1)\n",
      "(37, 'Pink Hoodie', 'Munti', 'pink', 40, 1000, 'Recylable Paper', 1)\n",
      "(38, 'Purple Hoodie', 'Munti', 'purple', 40, 1000, 'Recylable Paper', 1)\n",
      "(39, 'Black Hoodie', 'Munti', 'black', 40, 1000, 'Recylable Paper', 1)\n",
      "(40, 'Burgundy Hoodie', 'Munti', 'burgundy', 40, 1000, 'Recylable Paper', 1)\n",
      "(41, 'Navy Blue Hoodie', 'Munti', 'navy blue', 42, 1000, 'Recyclable Paper', 1)\n",
      "(42, 'Grey Hoodie', 'Munti', 'grey', 42, 1000, 'Recyclable Paper', 1)\n",
      "(43, 'Red Hoodie', 'Munti', 'red', 42, 1000, 'Recyclable Paper', 1)\n",
      "(44, 'Olive Hoodie', 'Munti', 'olive', 42, 1000, 'Recylable Paper', 1)\n",
      "(45, 'Pink Hoodie', 'Munti', 'pink', 42, 1000, 'Recylable Paper', 1)\n",
      "(46, 'Purple Hoodie', 'Munti', 'purple', 42, 1000, 'Recylable Paper', 1)\n",
      "(47, 'Black Hoodie', 'Munti', 'black', 42, 1000, 'Recylable Paper', 1)\n",
      "(48, 'Burgundy Hoodie', 'Munti', 'burgundy', 42, 1000, 'Recylable Paper', 1)\n",
      "(49, 'Navy Blue Hoodie', 'Munti', 'navy blue', 44, 1000, 'Recyclable Paper', 1)\n",
      "(50, 'Grey Hoodie', 'Munti', 'grey', 44, 1000, 'Recyclable Paper', 1)\n",
      "(51, 'Red Hoodie', 'Munti', 'red', 44, 1000, 'Recyclable Paper', 1)\n",
      "(52, 'Olive Hoodie', 'Munti', 'olive', 44, 1000, 'Recylable Paper', 1)\n",
      "(53, 'Pink Hoodie', 'Munti', 'pink', 44, 1000, 'Recylable Paper', 1)\n",
      "(54, 'Purple Hoodie', 'Munti', 'purple', 44, 1000, 'Recylable Paper', 1)\n",
      "(55, 'Black Hoodie', 'Munti', 'black', 44, 1000, 'Recylable Paper', 1)\n",
      "(56, 'Burgundy Hoodie', 'Munti', 'burgundy', 44, 1000, 'Recylable Paper', 1)\n"
     ]
    }
   ],
   "source": [
    "# Query and display all records from the table E_INVENTORY\n",
    "\n",
    "# Prepare the query String\n",
    "qry=\"select * from E_INVENTORY;\"\n",
    "\n",
    "# Execute query on SQLite\n",
    "cur.execute(qry)\n",
    "\n",
    "# Fetch and display one row\n",
    "\n",
    "rows=cur.fetchall()\n",
    "for row in rows:\n",
    "    print (row)\n",
    "\n"
   ]
  },
  {
   "cell_type": "code",
   "execution_count": 6,
   "metadata": {},
   "outputs": [
    {
     "name": "stdout",
     "output_type": "stream",
     "text": [
      "Enter E_INVENTORY ID:4\n",
      "(4, 'Olive Hoodie', 'Munti', 'olive', 32, 1000, 'Recylable Paper', 1)\n",
      "Customer Name is  Olive Hoodie\n"
     ]
    }
   ],
   "source": [
    "# Query and display records from the table E_INVENTORY based on user input\n",
    "\n",
    "inputE_InventoryID=input ('Enter E_INVENTORY ID:')\n",
    "qry=\"select * from E_INVENTORY where invID=?\";\n",
    "cur.execute(qry, (inputE_InventoryID,))\n",
    "row=cur.fetchone()\n",
    "print (row)\n",
    "\n",
    "# IMPORTANT: Individual items in the tuple can be accessed by index .. we are accessing the second attribute\n",
    "print (\"Customer Name is \", row[1])"
   ]
  },
  {
   "cell_type": "code",
   "execution_count": null,
   "metadata": {},
   "outputs": [],
   "source": []
  },
  {
   "cell_type": "code",
   "execution_count": 14,
   "metadata": {},
   "outputs": [
    {
     "name": "stdout",
     "output_type": "stream",
     "text": [
      "Enter E_Customer Name:Sevenoaks School\n",
      "(22000, 'Sevenoaks School', 'High Street, Sevenoaks TN13 1HU', 'admin@sevenoaksschool.org', 1732467703, 22000)\n",
      "Department Name is  Sevenoaks School\n"
     ]
    }
   ],
   "source": [
    "# Query and display records from the table E_Customer based on user input\n",
    "\n",
    "inputCustomerName=input ('Enter E_Customer Name:')\n",
    "qry=\"select * from E_CUSTOMER where custName=?\";\n",
    "cur.execute(qry, (inputCustomerName,))\n",
    "row=cur.fetchone()\n",
    "print (row)\n",
    "\n",
    "# IMPORTANT: Individual items in the tuple can be accessed by index .. we are accessing the second attribute\n",
    "print (\"Department Name is \", row[1])"
   ]
  },
  {
   "cell_type": "code",
   "execution_count": 9,
   "metadata": {},
   "outputs": [
    {
     "name": "stdout",
     "output_type": "stream",
     "text": [
      "Enter name of E_Customer to update:Sevenoaks School\n",
      "Enter new customer number:22000\n",
      "Customer name updated\n"
     ]
    }
   ],
   "source": [
    "# Update table based on user input\n",
    "\n",
    "inputName=input('Enter name of E_Customer to update:')\n",
    "inputCustomerNum=int(input('Enter new customer number:'))\n",
    "qry='update E_CUSTOMER set custID=? where custName=?'\n",
    "\n",
    "try:\n",
    "        cur.execute(qry, (inputCustomerNum,inputName))\n",
    "        print ('Customer name updated')\n",
    "        conn.commit()\n",
    "except:\n",
    "        print ('Error in update operation .. rollback')\n",
    "        conn.rollback()"
   ]
  },
  {
   "cell_type": "code",
   "execution_count": 10,
   "metadata": {},
   "outputs": [
    {
     "name": "stdout",
     "output_type": "stream",
     "text": [
      "Enter E_Customer Name:Sevenoaks School\n",
      "(22000, 'Sevenoaks School', 'High Street, Sevenoaks TN13 1HU', 'admin@sevenoaksschool.org', 1732467703, 22000)\n",
      "Department Name is  Sevenoaks School\n"
     ]
    }
   ],
   "source": [
    "# Query and display records from the table E_Customer based on user input\n",
    "\n",
    "inputCustomerName=input ('Enter E_Customer Name:')\n",
    "qry=\"select * from E_CUSTOMER where custName=?\";\n",
    "cur.execute(qry, (inputCustomerName,))\n",
    "row=cur.fetchone()\n",
    "print (row)\n",
    "\n",
    "# IMPORTANT: Individual items in the tuple can be accessed by index .. we are accessing the second attribute\n",
    "print (\"Department Name is \", row[1])"
   ]
  },
  {
   "cell_type": "code",
   "execution_count": 11,
   "metadata": {},
   "outputs": [
    {
     "name": "stdout",
     "output_type": "stream",
     "text": [
      "Enter name of E_Customer to delete:Manor High School\n",
      "Customer deleted\n"
     ]
    }
   ],
   "source": [
    "# Delete record based on user input\n",
    "\n",
    "inputName=input('Enter name of E_Customer to delete:')\n",
    "qry='delete from E_CUSTOMER where custName=?'\n",
    "try:\n",
    "        cur.execute(qry, (inputName,))\n",
    "        print ('Customer deleted')\n",
    "        conn.commit()\n",
    "except:\n",
    "        print ('Error in deleting department', inputName)\n",
    "        conn.rollback()"
   ]
  },
  {
   "cell_type": "code",
   "execution_count": 12,
   "metadata": {},
   "outputs": [
    {
     "name": "stdout",
     "output_type": "stream",
     "text": [
      "One record inserted successfully..commit\n"
     ]
    }
   ],
   "source": [
    "qry=\"insert into E_CUSTOMER values (60000,'Manor High School', '3 Severn Road, Oadby LE2 4FU', 'admin@oaktrust.org',1162714941,60000);\"\n",
    "\n",
    "try:\n",
    "        cur.execute(qry)\n",
    "        conn.commit()\n",
    "        print ('One record inserted successfully..commit')\n",
    "except:\n",
    "        print ('Error in insert operation..rollback')\n",
    "        conn.rollback()\n",
    "        print(conn)"
   ]
  },
  {
   "cell_type": "code",
   "execution_count": null,
   "metadata": {},
   "outputs": [],
   "source": []
  },
  {
   "cell_type": "code",
   "execution_count": null,
   "metadata": {},
   "outputs": [],
   "source": []
  },
  {
   "cell_type": "code",
   "execution_count": null,
   "metadata": {},
   "outputs": [],
   "source": []
  },
  {
   "cell_type": "code",
   "execution_count": null,
   "metadata": {},
   "outputs": [],
   "source": []
  },
  {
   "cell_type": "code",
   "execution_count": null,
   "metadata": {},
   "outputs": [],
   "source": []
  },
  {
   "cell_type": "code",
   "execution_count": null,
   "metadata": {},
   "outputs": [],
   "source": []
  },
  {
   "cell_type": "code",
   "execution_count": null,
   "metadata": {},
   "outputs": [],
   "source": []
  }
 ],
 "metadata": {
  "kernelspec": {
   "display_name": "Python 3",
   "language": "python",
   "name": "python3"
  },
  "language_info": {
   "codemirror_mode": {
    "name": "ipython",
    "version": 3
   },
   "file_extension": ".py",
   "mimetype": "text/x-python",
   "name": "python",
   "nbconvert_exporter": "python",
   "pygments_lexer": "ipython3",
   "version": "3.7.3"
  }
 },
 "nbformat": 4,
 "nbformat_minor": 2
}
